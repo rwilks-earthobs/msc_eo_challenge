{
 "cells": [
  {
   "cell_type": "markdown",
   "id": "b5dbbc4c",
   "metadata": {},
   "source": [
    "# SaxaVord EO Challenge"
   ]
  },
  {
   "cell_type": "markdown",
   "id": "040d5670",
   "metadata": {},
   "source": [
    "Welcome to your challenge: Focussing on an Area of Interest (AOI) over the Faroe Islands, you can look at either: \n",
    "\n",
    "* Quantify the extent of algae bloom changes, and their impact on nearby Salmon Fishing Farms\n",
    "* Quantify the extent of recent coastal erosion "
   ]
  },
  {
   "cell_type": "markdown",
   "id": "28d236b0",
   "metadata": {},
   "source": [
    "## Check Environment Active"
   ]
  },
  {
   "cell_type": "code",
   "execution_count": null,
   "id": "dbd7f193",
   "metadata": {},
   "outputs": [],
   "source": [
    "# Desktop UI:\n",
    "# It should also show this on the top RHS of your screen, below the LogOut button"
   ]
  },
  {
   "cell_type": "code",
   "execution_count": null,
   "id": "a70b8df2",
   "metadata": {},
   "outputs": [],
   "source": [
    "# Conda\n",
    "#  -- Activate environment will show a '*' next to it\n",
    "!conda env list"
   ]
  },
  {
   "cell_type": "code",
   "execution_count": null,
   "id": "e03ff1e8",
   "metadata": {},
   "outputs": [],
   "source": [
    "# Pip\n",
    "# TODO: Add this for pip !pip XYZ"
   ]
  },
  {
   "cell_type": "markdown",
   "id": "49fcfa1d",
   "metadata": {},
   "source": [
    "## Import Packages"
   ]
  },
  {
   "cell_type": "code",
   "execution_count": 7,
   "id": "519c447e",
   "metadata": {},
   "outputs": [],
   "source": [
    "# Packages\n",
    "import os\n",
    "import glob\n",
    "\n",
    "import rasterio as rio\n",
    "import numpy as np\n",
    "import matplotlib.pyplot as plt\n",
    "\n",
    "from zipfile import ZipFile\n"
   ]
  },
  {
   "cell_type": "code",
   "execution_count": 8,
   "id": "1e21acda",
   "metadata": {},
   "outputs": [
    {
     "name": "stderr",
     "output_type": "stream",
     "text": [
      "UsageError: unrecognized arguments: # plots images in the Jupyter notebook cells\n"
     ]
    }
   ],
   "source": [
    "# Visualisation Params\n",
    "%matplotlib inline    # plots images in the Jupyter notebook cells\n",
    "%matplotlib qt5       # opens a seperate browser window to view images"
   ]
  },
  {
   "cell_type": "markdown",
   "id": "4824d2ea",
   "metadata": {},
   "source": [
    "# Sentinel 2\n",
    "\n",
    "### The Data Folder Structure\n",
    "Satellite imagery products are folders which contain satellite imagery data in a standardised way, including standard naming conventions for folders etc. Please see the SaxaVord PDF for an explanation of the Sentinel 2 naming convention. \n",
    "\n",
    "A single image  product of a region at DateTime YYYYMMDD-HHMMSS is packaged in a folder with a hierarchical file structure. In our case this is:\n",
    "\n",
    "    |- S2A_MSIL2A_20220531T120411_N0400_R066_T30VUQ_20220531T183212 *folder for a single day-time image product*\n",
    "        |-S2A_MSIL2A_20220531T120411_N0400_R066_T30VUQ_20220531T183212.SAFE\n",
    "            |-GRANULE\n",
    "                |-L2A_T30VUQ_A036242_20220531T120405\n",
    "                    |-IMG_DATA\n",
    "                        |- R10m  *resolution folders*\n",
    "                            |-T30VUQ_20220531T120411_B02_10m.jp2 *individual band file*\n",
    "                            |-T30VUQ_20220531T120411_B03_10m.jp2\n",
    "                            |-...\n",
    "                            |-T30VUQ_20220531T120411_TCI_10m.jp2 *TCI = true color image, multi-band file *\n",
    "\n",
    "                        |- R20m\n",
    "                            |-T30VUQ_20220531T120411_B02_20m.jp2\n",
    "                            |-T30VUQ_20220531T120411_B03_20m.jp2\n",
    "                            |-...\n",
    "                        |- R60m\n",
    "                            |-T30VUQ_20220531T120411_B02_60m.jp2\n",
    "                            |-T30VUQ_20220531T120411_B03_60m.jp2\n",
    "                            |-...\n",
    "\n",
    "\n",
    "### Image Bands\n",
    "* True Colour Images (RGB) are comprised of 3 bands, Red, Green and Blue - the visible light section of the Electromagnetic Spectrum. \n",
    "\n",
    "* Satellite sensors cover a far broader section of this spectrum, and therefore capture a larger number of bands. \n",
    "\n",
    "* Different phenomena on earth and within the atmosphere react differently to wavelengths across the spectrum (e.g. different bands), allowing us to make inferences about what is occuring below.\n",
    "\n",
    "* Certain bands are therefore useful for different environmental analyses.\n",
    "\n",
    "\n",
    "### Working with This Data\n",
    "For our data we have:\n",
    "* Images for a set of dates throughout time\n",
    "* Each image has multiple bands in multiple resolutions\n",
    "* The filepath for each band is going to be very verbose and difficult to track due to the hierarchical structure\n",
    "\n",
    "To make all these paths easier to work with, we shall give each Image into it's own dictionary and store all filepaths there. This will enable easy referencing. The code below creates these dictionaries for you.\n",
    "\n",
    "```\n",
    "img_band_dict = {\n",
    "                'img_folder': 'S2A_MSIL2A_20220531T120411_N0400_R066_T30VUQ_20220531T183212',\n",
    "\n",
    "                 'img_date': '20220531',\n",
    "                 'img_time': '183212',\n",
    "                 \n",
    "                 'R10m':{'B02': 'T30VUQ_20220531T120411_B02_10m.jp2',\n",
    "                         'B03': 'T30VUQ_20220531T120411_B03_10m.jp2',\n",
    "                         ...\n",
    "                         'TCI': 'T30VUQ_20220531T120411_TCI_10m.jp2'\n",
    "                        },\n",
    "                        \n",
    "                  'R20m':{'B02': 'T30VUQ_20220531T120411_B02_20m.jp2',\n",
    "                          'B03': 'T30VUQ_20220531T120411_B03_20m.jp2',\n",
    "                           ...\n",
    "                          },\n",
    "                          \n",
    "                  'R60m':{'B02': 'T30VUQ_20220531T120411_B02_60m.jp2',\n",
    "                          'B03': 'T30VUQ_20220531T120411_B03_60m.jp2',\n",
    "                           ...\n",
    "                          }\n",
    "                 }\n",
    "                 \n",
    "```\n",
    "                 \n",
    "\n",
    "**For Example:** To create a True Colour Image (RGB) at 10m resolution, we use Red (B04), Green (B03), Blue (B02). The individual bands can then be accessed:\n",
    "\n",
    "```\n",
    "## 10m resolution:\n",
    "r_10m_filepath = img_band_dict['R10m']['B04']\n",
    "r_10m_band_img = get_band(r_10m_filepath)\n",
    "\n",
    "g_10m_filepath = img_band_dict['R10m']['B03']\n",
    "g_10m_band_img = get_band(g_10m_filepath)\n",
    "\n",
    "b_10m_filepath = img_band_dict['R10m']['B02']\n",
    "b_10m_band_img = get_band(b_10m_filepath)\n",
    "```"
   ]
  },
  {
   "cell_type": "markdown",
   "id": "89e0ddef",
   "metadata": {},
   "source": [
    "## Zipped Image Folders: Rename & Extract All Data"
   ]
  },
  {
   "cell_type": "code",
   "execution_count": 13,
   "id": "3cc6f8dd",
   "metadata": {},
   "outputs": [],
   "source": [
    "# Function to extract source folder.zip to targer folder\n",
    "def extract_from_zip(source, target):\n",
    "    with ZipFile(source, 'r') as zip_ref:\n",
    "        zip_ref.extractall(target)     "
   ]
  },
  {
   "cell_type": "code",
   "execution_count": 14,
   "id": "41909ec9",
   "metadata": {},
   "outputs": [
    {
     "data": {
      "text/plain": [
       "['S2A_MSIL2A_20220531T120411',\n",
       " 'S2A_MSIL2A_20220531T120411.zip',\n",
       " 'S2A_MSIL2A_20220607T115411',\n",
       " 'S2A_MSIL2A_20220607T115411.zip',\n",
       " 'S2B_MSIL2A_20220327T120359',\n",
       " 'S2B_MSIL2A_20220327T120359.zip',\n",
       " 'S2B_MSIL2A_20220419T121349',\n",
       " 'S2B_MSIL2A_20220419T121349.zip',\n",
       " 'S2B_MSIL2A_20220705T120359',\n",
       " 'S2B_MSIL2A_20220705T120359.zip',\n",
       " 'S2B_MSIL2A_20220831T115359',\n",
       " 'S2B_MSIL2A_20220831T115359.zip']"
      ]
     },
     "execution_count": 14,
     "metadata": {},
     "output_type": "execute_result"
    }
   ],
   "source": [
    "# Path from notebook to folder containing zipped folder for each day's data\n",
    "s2_imgs_folder = 'Faroe Islands Satellite Data'\n",
    "\n",
    "# Select your joiner \n",
    "# MAC \n",
    "jn = '/'\n",
    "\n",
    "# WINDOWS\n",
    "jn = '\\\\'\n",
    "\n",
    "\n",
    "# Windows: Zip Folder names may be too long upon extraction, shorten names by removing characters from name from '_N0400' onwards\n",
    "for file_name in os.listdir(s2_imgs_folder):\n",
    "    file = ''\n",
    "    file = s2_imgs_folder + jn + file_name #TODO: switch '\\\\' to '/' for Mac\n",
    "    \n",
    "    # Only perform operation of zipped folders\n",
    "    if file.endswith('.zip'):\n",
    "        t = '_N0400'\n",
    "        ind = file.find(t)\n",
    "        \n",
    "        # Renaming required\n",
    "        if ind>=0:    \n",
    "            file_new = file[:ind] + '.zip'\n",
    "            os.rename(file, file_new)\n",
    "\n",
    "        # No renaming required\n",
    "        else:\n",
    "            file_new = file\n",
    "            \n",
    "        # Extract all files from .zip\n",
    "        file_new_unzip = file_new[:-4]\n",
    "        extract_from_zip(file_new, file_new_unzip)\n",
    "        \n",
    "             \n",
    "# Check name shortened, and folders unzipped correctly        \n",
    "os.listdir(s2_imgs_folder)"
   ]
  },
  {
   "cell_type": "markdown",
   "id": "b4a509c3",
   "metadata": {},
   "source": [
    "## Create Dictionaries of Band File Paths"
   ]
  },
  {
   "cell_type": "code",
   "execution_count": 15,
   "id": "41aeb9cb",
   "metadata": {},
   "outputs": [
    {
     "data": {
      "text/plain": [
       "['S2A_MSIL2A_20220531T120411',\n",
       " 'S2A_MSIL2A_20220607T115411',\n",
       " 'S2B_MSIL2A_20220327T120359',\n",
       " 'S2B_MSIL2A_20220419T121349',\n",
       " 'S2B_MSIL2A_20220705T120359',\n",
       " 'S2B_MSIL2A_20220831T115359']"
      ]
     },
     "execution_count": 15,
     "metadata": {},
     "output_type": "execute_result"
    }
   ],
   "source": [
    "# Get list of unzipped folders\n",
    "lst = os.listdir(s2_imgs_folder)\n",
    "\n",
    "unzipped_img_folders = [x for x in lst if x.endswith('.zip')==False]\n",
    "\n",
    "unzipped_img_folders\n"
   ]
  },
  {
   "cell_type": "code",
   "execution_count": null,
   "id": "95926e09",
   "metadata": {},
   "outputs": [],
   "source": []
  },
  {
   "cell_type": "code",
   "execution_count": 16,
   "id": "4f218310",
   "metadata": {},
   "outputs": [],
   "source": [
    "# For each unzipped folder (a single day product), go in & extract all '.jp2' filepaths for the bands into a dictionary\n",
    "# Store all dictionaries in a list (all_img_dicts)\n",
    "\n",
    "all_img_dicts = []\n",
    "\n",
    "for img_folder in unzipped_img_folders:\n",
    "\n",
    "    ## List all band filenames\n",
    "#     img_folder = 'S2B_MSIL2A_20220419T121349'\n",
    "    date = img_folder[11:19]\n",
    "    time = img_folder[20:28]\n",
    "    f = s2_imgs_folder + jn + img_folder + jn\n",
    "\n",
    "    # Sub-folders containing band data\n",
    "    res_set = ['R10m', 'R20m', 'R60m']\n",
    "\n",
    "    # Create a dictionary of the band names\n",
    "    bands = ['B01','B02','B03','B04','B05','B06', 'B07','B08', 'B8A', 'B09' ,'B10','B11','B12', 'AOT','TCI','WVP', 'SCL']\n",
    "\n",
    "    all_band_files = [ x for x in glob.glob(f + '**\\*', recursive=True) if any(res in x for res in res_set) and x.endswith('jp2')]\n",
    "\n",
    "\n",
    "    img_band_dict = {'img_folder':img_folder,\n",
    "                     'img_date':date,\n",
    "                     'img_time':time}\n",
    "\n",
    "    # Create a key for each resolution\n",
    "    for res in res_set:\n",
    "        img_band_dict[res] = {}\n",
    "\n",
    "    # Assign all band filepaths to dict\n",
    "    for band_file in all_band_files:\n",
    "\n",
    "        # For each resolution, get all band filepaths\n",
    "        for res in res_set:\n",
    "\n",
    "            # Band file is in the resolution folder (contains res = 'R10m')\n",
    "            if band_file.find(res)>=0:\n",
    "\n",
    "                # Get the band type (B08, B8A, TCI etc)\n",
    "                band_type = band_file[len(band_file)-11:-8]\n",
    "\n",
    "                # Store e.g. img_band_dict['R10m']['B03'] = 'filepath/to/R10m/img_B03.jp2'\n",
    "                img_band_dict[res][band_type] = band_file\n",
    "                \n",
    "    \n",
    "    all_img_dicts.append(img_band_dict)\n",
    "            "
   ]
  },
  {
   "cell_type": "code",
   "execution_count": 17,
   "id": "5f4e8eb6",
   "metadata": {},
   "outputs": [],
   "source": [
    "# all_img_dicts"
   ]
  },
  {
   "cell_type": "code",
   "execution_count": 42,
   "id": "e3bc0543",
   "metadata": {},
   "outputs": [
    {
     "name": "stdout",
     "output_type": "stream",
     "text": [
      "date: 20220531\n",
      "time: 120411\n",
      "path to 20m B05 Band (Red Edge):\n",
      "    Faroe Islands Satellite Data\\S2A_MSIL2A_20220531T120411\\S2A_MSIL2A_20220531T120411_N0400_R066_T30VUQ_20220531T183212.SAFE\\GRANULE\\L2A_T30VUQ_A036242_20220531T120405\\IMG_DATA\\R20m\\T30VUQ_20220531T120411_B05_20m.jp2\n"
     ]
    }
   ],
   "source": [
    "# Access a dictionary of a single image\n",
    "img_day_dict = all_img_dicts[0]\n",
    "\n",
    "print('date:',img_day_dict['img_date'])\n",
    "print('time:',img_day_dict['img_time'])\n",
    "\n",
    "print('path to 20m B05 Band (Red Edge):')\n",
    "print('   ', img_day_dict['R20m']['B05'])"
   ]
  },
  {
   "cell_type": "markdown",
   "id": "035fbdd7",
   "metadata": {},
   "source": [
    "## Import Band Data"
   ]
  },
  {
   "cell_type": "markdown",
   "id": "ffe8307c",
   "metadata": {},
   "source": [
    "The single band files (B02, B03, B04,...) are 2D rasters. These are 2D numpy arrays with some associated metadata. \n",
    "The composite band files e.g. TCI are 3D rasters. \n",
    "\n",
    "In general, **rasterio** (rio) can be used to import rasters.\n",
    "\n",
    "Note that rasterio takes the top Left Hand Side of your array as (0,0), then x is the rows downwards, and y is the columns right"
   ]
  },
  {
   "cell_type": "code",
   "execution_count": null,
   "id": "b550c2cb",
   "metadata": {},
   "outputs": [],
   "source": [
    "\n",
    "## Perform calcs"
   ]
  },
  {
   "cell_type": "code",
   "execution_count": 50,
   "id": "e27fd414",
   "metadata": {},
   "outputs": [
    {
     "name": "stdout",
     "output_type": "stream",
     "text": [
      "Extracting single band from file\n",
      "Extracting band meta\n",
      "--> # bands: 1\n",
      "--> datatype: uint16\n",
      "--> nodata: None\n",
      "--> height: 10980\n",
      "--> width: 10980\n",
      "--------------------\n"
     ]
    }
   ],
   "source": [
    "## Extract Single Band into an Array\n",
    "\n",
    "def get_band(filepath): \n",
    "    with rio.open(filepath) as f:\n",
    "        \n",
    "        print('Extracting single band from file')\n",
    "        band_img = f.read(1, masked=True)\n",
    "        \n",
    "        print('Extracting band meta')\n",
    "        band_img_meta = f.profile\n",
    "        \n",
    "        print('--> # bands:', band_img_meta['count'])\n",
    "        print('--> datatype:', band_img_meta['dtype'])\n",
    "        print('--> nodata:', band_img_meta['nodata'])\n",
    "        print('--> height:', band_img_meta['height'])\n",
    "        print('--> width:', band_img_meta['width'])\n",
    "        print(20*'-')\n",
    "        \n",
    "        return band_img     \n",
    "    \n",
    "        \n",
    "test_img = get_band(img_day_dict['R10m']['B02'])\n",
    "\n"
   ]
  },
  {
   "cell_type": "code",
   "execution_count": 44,
   "id": "531b7dee",
   "metadata": {},
   "outputs": [
    {
     "data": {
      "text/plain": [
       "numpy.ma.core.MaskedArray"
      ]
     },
     "execution_count": 44,
     "metadata": {},
     "output_type": "execute_result"
    }
   ],
   "source": [
    "type(test_img) ## object returned (MaskedArray = Special type of numpy array  => nunpy methods apply easily!)"
   ]
  },
  {
   "cell_type": "code",
   "execution_count": 45,
   "id": "30c2daf7",
   "metadata": {},
   "outputs": [
    {
     "data": {
      "text/plain": [
       "(10980, 10980)"
      ]
     },
     "execution_count": 45,
     "metadata": {},
     "output_type": "execute_result"
    }
   ],
   "source": [
    "test_img.shape ## 2D array"
   ]
  },
  {
   "cell_type": "code",
   "execution_count": 46,
   "id": "ed0a4480",
   "metadata": {},
   "outputs": [
    {
     "data": {
      "text/plain": [
       "(array([1.16056198e+08, 2.08526600e+06, 9.64447000e+05, 7.46442000e+05,\n",
       "        4.77922000e+05, 1.75473000e+05, 3.89360000e+04, 8.64900000e+03,\n",
       "        9.06000000e+02, 6.16100000e+03]),\n",
       " array([    0. ,  1870.4,  3740.8,  5611.2,  7481.6,  9352. , 11222.4,\n",
       "        13092.8, 14963.2, 16833.6, 18704. ]),\n",
       " <BarContainer object of 10 artists>)"
      ]
     },
     "execution_count": 46,
     "metadata": {},
     "output_type": "execute_result"
    },
    {
     "data": {
      "image/png": "[encoded data removed]",
      "text/plain": [
       "<Figure size 640x480 with 1 Axes>"
      ]
     },
     "metadata": {},
     "output_type": "display_data"
    }
   ],
   "source": [
    "# Understanding distn of pixel values\n",
    "plt.hist(test_img.flatten())   "
   ]
  },
  {
   "cell_type": "markdown",
   "id": "f8adb5a7",
   "metadata": {},
   "source": [
    "**Notice above:** For RGB, integer pixel values take values [0,255], yet above its far higher. Why?\n",
    "\n",
    "* **Traditional RGB pixels have 8-Bit Depth:** Each channel has 256 shades, so for RGB there are 256x256x256 colours. Often encoded as datatype uint8.\n",
    "* **Satellites tend to have a larger Bit Depth (12 or 16):** These will be encoded as uint16, and can be seen in the metadata printouts above\n",
    "\n",
    "**Why do we care?**\n",
    "It is better to convert ...\n"
   ]
  },
  {
   "cell_type": "code",
   "execution_count": 40,
   "id": "9d491fed",
   "metadata": {},
   "outputs": [],
   "source": [
    "## Normalisation & Stretching Example\n",
    "\n",
    "\n",
    "\n",
    "\n",
    "\n",
    "\n",
    "\n"
   ]
  },
  {
   "cell_type": "code",
   "execution_count": 47,
   "id": "86dc24d4",
   "metadata": {},
   "outputs": [
    {
     "name": "stdout",
     "output_type": "stream",
     "text": [
      "R10m: dict_keys(['AOT', 'B02', 'B03', 'B04', 'B08', 'TCI', 'WVP'])\n",
      "R20m: dict_keys(['AOT', 'B01', 'B02', 'B03', 'B04', 'B05', 'B06', 'B07', 'B11', 'B12', 'B8A', 'SCL', 'TCI', 'WVP'])\n",
      "R60m: dict_keys(['AOT', 'B01', 'B02', 'B03', 'B04', 'B05', 'B06', 'B07', 'B09', 'B11', 'B12', 'B8A', 'SCL', 'TCI', 'WVP'])\n"
     ]
    }
   ],
   "source": [
    "## See which bands available at which resolution\n",
    "\n",
    "print('R10m:',img_day_dict['R10m'].keys())\n",
    "print('R20m:',img_day_dict['R20m'].keys())\n",
    "print('R60m:',img_day_dict['R60m'].keys())"
   ]
  },
  {
   "cell_type": "code",
   "execution_count": 52,
   "id": "92a2c38c",
   "metadata": {},
   "outputs": [
    {
     "name": "stdout",
     "output_type": "stream",
     "text": [
      "Extracting single band from file\n",
      "Extracting band meta\n",
      "--> # bands: 1\n",
      "--> datatype: uint16\n",
      "--> nodata: None\n",
      "--> height: 10980\n",
      "--> width: 10980\n",
      "--------------------\n",
      "Extracting single band from file\n",
      "Extracting band meta\n",
      "--> # bands: 1\n",
      "--> datatype: uint16\n",
      "--> nodata: None\n",
      "--> height: 10980\n",
      "--> width: 10980\n",
      "--------------------\n",
      "Extracting single band from file\n",
      "Extracting band meta\n",
      "--> # bands: 1\n",
      "--> datatype: uint16\n",
      "--> nodata: None\n",
      "--> height: 10980\n",
      "--> width: 10980\n",
      "--------------------\n",
      "Extracting single band from file\n",
      "Extracting band meta\n",
      "--> # bands: 1\n",
      "--> datatype: uint16\n",
      "--> nodata: None\n",
      "--> height: 1830\n",
      "--> width: 1830\n",
      "--------------------\n"
     ]
    }
   ],
   "source": [
    "## Extract individual bands\n",
    "\n",
    "## 10m picture : B,G,R\n",
    "# filepaths(fp)\n",
    "b10_fp = img_day_dict['R10m']['B02']\n",
    "g10_fp = img_day_dict['R10m']['B03']\n",
    "r10_fp = img_day_dict['R10m']['B04']\n",
    "\n",
    "# get imgs\n",
    "b10 = get_band(b10_fp)\n",
    "g10 = get_band(g10_fp)\n",
    "r10 = get_band(r10_fp)\n",
    "\n",
    "\n",
    "## 60m picture : B\n",
    "# filepaths (fp)\n",
    "b60_fp = img_day_dict['R60m']['B02']\n",
    "\n",
    "# get imgs\n",
    "b60 = get_band(b60_fp)\n"
   ]
  },
  {
   "cell_type": "code",
   "execution_count": null,
   "id": "bda02d79",
   "metadata": {},
   "outputs": [],
   "source": []
  },
  {
   "cell_type": "code",
   "execution_count": 54,
   "id": "daf7a2cd",
   "metadata": {},
   "outputs": [
    {
     "name": "stdout",
     "output_type": "stream",
     "text": [
      "Blue @ 60m res: (1830, 1830)\n",
      "Blue @ 10m res: (10980, 10980)\n"
     ]
    }
   ],
   "source": [
    "## Comparing resoltuions & upscaling \n",
    "\n",
    "# b60 vs. b10\n",
    "print('Blue @ 60m res:',b60.shape)\n",
    "print('Blue @ 10m res:',b10.shape)\n",
    "\n",
    "# Can see these are covering the same geographic area, but with less granular pixel representation in lower res\n",
    "# 1 pixel = 60m vs. 1 pixel = 10m\n",
    "\n",
    "# To create a merged dataset which pulls information from the lower resoltuion bands, they need the same resolution\n",
    "# (array dimensions/shape)\n",
    "# TODO: Add link here\n"
   ]
  },
  {
   "cell_type": "code",
   "execution_count": 57,
   "id": "04ab2d72",
   "metadata": {},
   "outputs": [
    {
     "name": "stdout",
     "output_type": "stream",
     "text": [
      "Number of bands in file: 3\n",
      "(3, 10980, 10980)\n"
     ]
    }
   ],
   "source": [
    "## Some .jp2 files may contain composite images such as TCI (RGB  - 8bit Depth)\n",
    "\n",
    "with rio.open(img_day_dict['R10m']['TCI']) as f:\n",
    "\n",
    "    print('Number of bands in file:',f.profile['count']) \n",
    "    multi_band_img = f.read([1,2,3], masked=True) # mark the order you want incoming bands to sit in\n",
    "    \n",
    "print(multi_band_img.shape)"
   ]
  },
  {
   "cell_type": "code",
   "execution_count": null,
   "id": "13a84593",
   "metadata": {},
   "outputs": [],
   "source": []
  },
  {
   "cell_type": "markdown",
   "id": "0032692e",
   "metadata": {},
   "source": [
    "## Visualisation"
   ]
  },
  {
   "cell_type": "code",
   "execution_count": null,
   "id": "55ed4e47",
   "metadata": {},
   "outputs": [],
   "source": [
    "## Creating an 3-band image (here RGB)\n",
    "\n",
    "rgb10 = np.dstack([r10, g10, b10])\n",
    "\n",
    "# normalisation?\n",
    "\n",
    "# something about having to switch the order of array dimensions\n",
    "\n",
    "plt.imshow(rgb10)"
   ]
  },
  {
   "cell_type": "code",
   "execution_count": 58,
   "id": "752406e1",
   "metadata": {},
   "outputs": [],
   "source": [
    "## Masking "
   ]
  },
  {
   "cell_type": "code",
   "execution_count": null,
   "id": "30efc564",
   "metadata": {},
   "outputs": [],
   "source": []
  }
 ],
 "metadata": {
  "kernelspec": {
   "display_name": "satenv",
   "language": "python",
   "name": "satenv"
  },
  "language_info": {
   "codemirror_mode": {
    "name": "ipython",
    "version": 3
   },
   "file_extension": ".py",
   "mimetype": "text/x-python",
   "name": "python",
   "nbconvert_exporter": "python",
   "pygments_lexer": "ipython3",
   "version": "3.9.13"
  }
 },
 "nbformat": 4,
 "nbformat_minor": 5
}

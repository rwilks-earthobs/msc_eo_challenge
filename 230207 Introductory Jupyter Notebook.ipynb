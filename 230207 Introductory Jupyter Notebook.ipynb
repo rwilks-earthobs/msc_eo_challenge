{
 "cells": [
  {
   "cell_type": "markdown",
   "id": "b5dbbc4c",
   "metadata": {},
   "source": [
    "# SaxaVord EO Challenge"
   ]
  },
  {
   "cell_type": "markdown",
   "id": "040d5670",
   "metadata": {},
   "source": [
    "Welcome to your challenge: Focussing on an Area of Interest (AOI) over the Faroe Islands, you can look at either: \n",
    "\n",
    "* Quantify the extent of algae bloom changes, and their impact on nearby Salmon Fishing Farms\n",
    "* Quantify the extent of recent coastal erosion "
   ]
  },
  {
   "cell_type": "markdown",
   "id": "83f7d184",
   "metadata": {},
   "source": [
    "## Check Environment Active"
   ]
  },
  {
   "cell_type": "code",
   "execution_count": null,
   "id": "2277800d",
   "metadata": {},
   "outputs": [],
   "source": [
    "# Desktop UI:\n",
    "# It should also show this on the top RHS of your screen, below the LogOut button"
   ]
  },
  {
   "cell_type": "code",
   "execution_count": null,
   "id": "a70b8df2",
   "metadata": {},
   "outputs": [],
   "source": [
    "# Conda\n",
    "#  -- Activate environment will show a '*' next to it\n",
    "!conda env list"
   ]
  },
  {
   "cell_type": "code",
   "execution_count": null,
   "id": "4813635e",
   "metadata": {},
   "outputs": [],
   "source": [
    "# Pip\n",
    "# TODO: Add this for pip !pip XYZ"
   ]
  },
  {
   "cell_type": "markdown",
   "id": "49fcfa1d",
   "metadata": {},
   "source": [
    "## Import Packages"
   ]
  },
  {
   "cell_type": "code",
   "execution_count": 2,
   "id": "519c447e",
   "metadata": {},
   "outputs": [],
   "source": [
    "# Packages\n",
    "import os\n",
    "import glob\n",
    "\n",
    "import rasterio as rio\n",
    "import numpy as np\n",
    "import matplotlib.pyplot as plt\n",
    "\n",
    "from zipfile import ZipFile\n"
   ]
  },
  {
   "cell_type": "code",
   "execution_count": null,
   "id": "1e21acda",
   "metadata": {},
   "outputs": [],
   "source": [
    "# Visualisation Params\n",
    "%matplotlib inline    # plots images in the Jupyter notebook cells\n",
    "%matplotlib qt5       # opens a seperate browser window to view images"
   ]
  },
  {
   "cell_type": "markdown",
   "id": "4824d2ea",
   "metadata": {},
   "source": [
    "# Sentinel 2\n",
    "\n",
    "### The Data Folder Structure\n",
    "Satellite imagery products are folders which contain satellite imagery data in a standardised way, including standard naming conventions for folders etc. Please see the SaxaVord PDF for an explanation of the Sentinel 2 naming convention. \n",
    "\n",
    "A single image  product of a region at DateTime YYYYMMDD-HHMMSS is packaged in a folder with a hierarchical file structure. In our case this is:\n",
    "\n",
    "    |- S2A_MSIL2A_20220531T120411_N0400_R066_T30VUQ_20220531T183212 *folder for a single day-time image product*\n",
    "        |-S2A_MSIL2A_20220531T120411_N0400_R066_T30VUQ_20220531T183212.SAFE\n",
    "            |-GRANULE\n",
    "                |-L2A_T30VUQ_A036242_20220531T120405\n",
    "                    |-IMG_DATA\n",
    "                        |- R10m  *resolution folders*\n",
    "                            |-T30VUQ_20220531T120411_B02_10m.jp2 *individual band file*\n",
    "                            |-T30VUQ_20220531T120411_B03_10m.jp2\n",
    "                            |-...\n",
    "                            |-T30VUQ_20220531T120411_TCI_10m.jp2 *TCI = true color image, multi-band file *\n",
    "\n",
    "                        |- R20m\n",
    "                            |-T30VUQ_20220531T120411_B02_20m.jp2\n",
    "                            |-T30VUQ_20220531T120411_B03_20m.jp2\n",
    "                            |-...\n",
    "                        |- R60m\n",
    "                            |-T30VUQ_20220531T120411_B02_60m.jp2\n",
    "                            |-T30VUQ_20220531T120411_B03_60m.jp2\n",
    "                            |-...\n",
    "\n",
    "\n",
    "### Image Bands\n",
    "* True Colour Images (RGB) are comprised of 3 bands, Red, Green and Blue - the visible light section of the Electromagnetic Spectrum. \n",
    "\n",
    "* Satellite sensors cover a far broader section of this spectrum, and therefore capture a larger number of bands. \n",
    "\n",
    "* Different phenomena on earth and within the atmosphere react differently to wavelengths across the spectrum (e.g. different bands), allowing us to make inferences about what is occuring below.\n",
    "\n",
    "* Certain bands are therefore useful for different environmental analyses.\n",
    "\n",
    "\n",
    "### Working with This Data\n",
    "For our data we have:\n",
    "* Images across dates\n",
    "* Each image has multiple bands in multiple resolutions\n",
    "* The filepath for each band is going to be very verbose and difficult to track due to the hierarchical structure\n",
    "\n",
    "To make all these paths easier to work with, we shall give each Image into it's own dictionary and store all filepaths there. This will enable easy referencing.\n",
    "\n",
    "```\n",
    "img_band_dict = {\n",
    "                'img_folder': 'S2A_MSIL2A_20220531T120411_N0400_R066_T30VUQ_20220531T183212',\n",
    "\n",
    "                 'img_date': '20220531',\n",
    "                 'img_time': '183212',\n",
    "                 \n",
    "                 'R10m':{'B02': 'T30VUQ_20220531T120411_B02_10m.jp2',\n",
    "                         'B03': 'T30VUQ_20220531T120411_B03_10m.jp2',\n",
    "                         ...\n",
    "                         'TCI': 'T30VUQ_20220531T120411_TCI_10m.jp2'\n",
    "                        },\n",
    "                        \n",
    "                  'R20m':{'B02': 'T30VUQ_20220531T120411_B02_20m.jp2',\n",
    "                          'B03': 'T30VUQ_20220531T120411_B03_20m.jp2',\n",
    "                           ...\n",
    "                          },\n",
    "                          \n",
    "                  'R60m':{'B02': 'T30VUQ_20220531T120411_B02_60m.jp2',\n",
    "                          'B03': 'T30VUQ_20220531T120411_B03_60m.jp2',\n",
    "                           ...\n",
    "                          }\n",
    "                 }\n",
    "                 \n",
    "```\n",
    "                 \n",
    "\n",
    "**For Example:** To create a True Colour Image (RGB) at 10m resolution, we use Red (B04), Green (B03), Blue (B02). The individual bands can then be accessed:\n",
    "\n",
    "```\n",
    "## 10m resolution:\n",
    "r_10m_filepath = img_band_dict['R10m']['B04']\n",
    "r_10m_band_img = get_band(r_10m_filepath)\n",
    "\n",
    "g_10m_filepath = img_band_dict['R10m']['B03']\n",
    "g_10m_band_img = get_band(g_10m_filepath)\n",
    "\n",
    "b_10m_filepath = img_band_dict['R10m']['B02']\n",
    "b_10m_band_img = get_band(b_10m_filepath)\n",
    "```"
   ]
  },
  {
   "cell_type": "markdown",
   "id": "89e0ddef",
   "metadata": {},
   "source": [
    "## Zipped Image Folders: Rename & Extract All Data"
   ]
  },
  {
   "cell_type": "code",
   "execution_count": 3,
   "id": "41909ec9",
   "metadata": {},
   "outputs": [
    {
     "data": {
      "text/plain": [
       "['S2A_MSIL2A_20220531T120411',\n",
       " 'S2A_MSIL2A_20220531T120411.zip',\n",
       " 'S2A_MSIL2A_20220607T115411',\n",
       " 'S2A_MSIL2A_20220607T115411.zip',\n",
       " 'S2B_MSIL2A_20220327T120359',\n",
       " 'S2B_MSIL2A_20220327T120359.zip',\n",
       " 'S2B_MSIL2A_20220419T121349',\n",
       " 'S2B_MSIL2A_20220419T121349.zip',\n",
       " 'S2B_MSIL2A_20220705T120359',\n",
       " 'S2B_MSIL2A_20220705T120359.zip',\n",
       " 'S2B_MSIL2A_20220831T115359',\n",
       " 'S2B_MSIL2A_20220831T115359.zip']"
      ]
     },
     "execution_count": 3,
     "metadata": {},
     "output_type": "execute_result"
    }
   ],
   "source": [
    "# Function to extract source folder.zip to targer folder\n",
    "def extract_from_zip(source, target):\n",
    "    with ZipFile(source, 'r') as zip_ref:\n",
    "        zip_ref.extractall(target)       \n",
    "\n",
    "\n",
    "# Path from notebook to folder containing zipped folder for each day's data\n",
    "s2_imgs_folder = 'Faroe Islands Satellite Data'\n",
    "\n",
    "\n",
    "# Windows: Zip Folder names may be too long upon extraction, shorten names by removing characters from name from '_N0400' onwards\n",
    "for file_name in os.listdir(s2_imgs_folder):\n",
    "    file = ''\n",
    "    file = s2_imgs_folder + '\\\\' + file_name #TODO: switch '\\\\' to '/' for Mac\n",
    "    \n",
    "    # Only perform operation of zipped folders\n",
    "    if file.endswith('.zip'):\n",
    "        t = '_N0400'\n",
    "        ind = file.find(t)\n",
    "        \n",
    "        \n",
    "        # Renaming required\n",
    "        if ind>=0:    \n",
    "            file_new = file[:ind] + '.zip'\n",
    "            os.rename(file, file_new)\n",
    "\n",
    "        # No renaming required\n",
    "        else:\n",
    "            file_new = file\n",
    "            \n",
    "        # Extract all files from .zip\n",
    "        file_new_unzip = file_new[:-4]\n",
    "        extract_from_zip(file_new, file_new_unzip)\n",
    "        \n",
    "             \n",
    "# Check renamed correctly        \n",
    "os.listdir(s2_imgs_folder)"
   ]
  },
  {
   "cell_type": "markdown",
   "id": "b4a509c3",
   "metadata": {},
   "source": [
    "## Create Dictionaries of Band File Paths"
   ]
  },
  {
   "cell_type": "code",
   "execution_count": 5,
   "id": "41aeb9cb",
   "metadata": {},
   "outputs": [
    {
     "data": {
      "text/plain": [
       "['S2A_MSIL2A_20220531T120411',\n",
       " 'S2A_MSIL2A_20220607T115411',\n",
       " 'S2B_MSIL2A_20220327T120359',\n",
       " 'S2B_MSIL2A_20220419T121349',\n",
       " 'S2B_MSIL2A_20220705T120359',\n",
       " 'S2B_MSIL2A_20220831T115359']"
      ]
     },
     "execution_count": 5,
     "metadata": {},
     "output_type": "execute_result"
    }
   ],
   "source": [
    "# Get list of unzipped folders\n",
    "\n",
    "lst = os.listdir(s2_imgs_folder)\n",
    "\n",
    "unzipped_img_folders = [x for x in lst if x.endswith('.zip')==False]\n",
    "\n",
    "unzipped_img_folders\n"
   ]
  },
  {
   "cell_type": "code",
   "execution_count": 10,
   "id": "95926e09",
   "metadata": {},
   "outputs": [
    {
     "name": "stdout",
     "output_type": "stream",
     "text": [
      "20220419\n",
      "121349\n"
     ]
    }
   ],
   "source": []
  },
  {
   "cell_type": "code",
   "execution_count": 12,
   "id": "4f218310",
   "metadata": {},
   "outputs": [],
   "source": [
    "all_img_dicts = []\n",
    "\n",
    "for img_folder in unzipped_img_folders:\n",
    "\n",
    "    ## List all band filenames\n",
    "#     img_folder = 'S2B_MSIL2A_20220419T121349'\n",
    "    date = img_folder[11:19]\n",
    "    time = img_folder[20:28]\n",
    "    f = s2_imgs_folder + '\\\\' + img_folder + '\\\\'\n",
    "\n",
    "    # Sub-folders containing band data\n",
    "    res_set = ['R10m', 'R20m', 'R60m']\n",
    "\n",
    "    # Create a dictionary of the band names\n",
    "    bands = ['B01','B02','B03','B04','B05','B06', 'B07','B08', 'B8A', 'B09' ,'B11','B12', 'AOT','TCI','WVP', 'SCL']\n",
    "\n",
    "    all_band_files = [ x for x in glob.glob(f + '**\\*', recursive=True) if any(res in x for res in res_set) and x.endswith('jp2')]\n",
    "\n",
    "\n",
    "    img_band_dict = {'img_folder':img_folder,\n",
    "                     'img_date':date,\n",
    "                     'img_time':time}\n",
    "\n",
    "    # Create a key for each resolution\n",
    "    for res in res_set:\n",
    "        img_band_dict[res] = {}\n",
    "\n",
    "    # Assign all band filepaths to dict\n",
    "    for band_file in all_band_files:\n",
    "\n",
    "        # For each resolution, get all band filepaths\n",
    "        for res in res_set:\n",
    "\n",
    "            # Band file is in the resolution folder (contains res = 'R10m')\n",
    "            if band_file.find(res)>=0:\n",
    "\n",
    "                # Get the band type (B08, B8A, TCI etc)\n",
    "                band_type = band_file[len(band_file)-11:-8]\n",
    "\n",
    "                # Store e.g. img_band_dict['R10m']['B03'] = 'filepath/to/R10m/img_B03.jp2'\n",
    "                img_band_dict[res][band_type] = band_file\n",
    "                \n",
    "    \n",
    "    all_img_dicts.append(img_band_dict)\n",
    "            "
   ]
  },
  {
   "cell_type": "code",
   "execution_count": 23,
   "id": "5f4e8eb6",
   "metadata": {},
   "outputs": [
    {
     "data": {
      "text/plain": [
       "[{'img_folder': 'S2A_MSIL2A_20220531T120411',\n",
       "  'img_date': '20220531',\n",
       "  'img_time': '120411',\n",
       "  'R10m': {'AOT': 'Faroe Islands Satellite Data\\\\S2A_MSIL2A_20220531T120411\\\\S2A_MSIL2A_20220531T120411_N0400_R066_T30VUQ_20220531T183212.SAFE\\\\GRANULE\\\\L2A_T30VUQ_A036242_20220531T120405\\\\IMG_DATA\\\\R10m\\\\T30VUQ_20220531T120411_AOT_10m.jp2',\n",
       "   'B02': 'Faroe Islands Satellite Data\\\\S2A_MSIL2A_20220531T120411\\\\S2A_MSIL2A_20220531T120411_N0400_R066_T30VUQ_20220531T183212.SAFE\\\\GRANULE\\\\L2A_T30VUQ_A036242_20220531T120405\\\\IMG_DATA\\\\R10m\\\\T30VUQ_20220531T120411_B02_10m.jp2',\n",
       "   'B03': 'Faroe Islands Satellite Data\\\\S2A_MSIL2A_20220531T120411\\\\S2A_MSIL2A_20220531T120411_N0400_R066_T30VUQ_20220531T183212.SAFE\\\\GRANULE\\\\L2A_T30VUQ_A036242_20220531T120405\\\\IMG_DATA\\\\R10m\\\\T30VUQ_20220531T120411_B03_10m.jp2',\n",
       "   'B04': 'Faroe Islands Satellite Data\\\\S2A_MSIL2A_20220531T120411\\\\S2A_MSIL2A_20220531T120411_N0400_R066_T30VUQ_20220531T183212.SAFE\\\\GRANULE\\\\L2A_T30VUQ_A036242_20220531T120405\\\\IMG_DATA\\\\R10m\\\\T30VUQ_20220531T120411_B04_10m.jp2',\n",
       "   'B08': 'Faroe Islands Satellite Data\\\\S2A_MSIL2A_20220531T120411\\\\S2A_MSIL2A_20220531T120411_N0400_R066_T30VUQ_20220531T183212.SAFE\\\\GRANULE\\\\L2A_T30VUQ_A036242_20220531T120405\\\\IMG_DATA\\\\R10m\\\\T30VUQ_20220531T120411_B08_10m.jp2',\n",
       "   'TCI': 'Faroe Islands Satellite Data\\\\S2A_MSIL2A_20220531T120411\\\\S2A_MSIL2A_20220531T120411_N0400_R066_T30VUQ_20220531T183212.SAFE\\\\GRANULE\\\\L2A_T30VUQ_A036242_20220531T120405\\\\IMG_DATA\\\\R10m\\\\T30VUQ_20220531T120411_TCI_10m.jp2',\n",
       "   'WVP': 'Faroe Islands Satellite Data\\\\S2A_MSIL2A_20220531T120411\\\\S2A_MSIL2A_20220531T120411_N0400_R066_T30VUQ_20220531T183212.SAFE\\\\GRANULE\\\\L2A_T30VUQ_A036242_20220531T120405\\\\IMG_DATA\\\\R10m\\\\T30VUQ_20220531T120411_WVP_10m.jp2'},\n",
       "  'R20m': {'AOT': 'Faroe Islands Satellite Data\\\\S2A_MSIL2A_20220531T120411\\\\S2A_MSIL2A_20220531T120411_N0400_R066_T30VUQ_20220531T183212.SAFE\\\\GRANULE\\\\L2A_T30VUQ_A036242_20220531T120405\\\\IMG_DATA\\\\R20m\\\\T30VUQ_20220531T120411_AOT_20m.jp2',\n",
       "   'B01': 'Faroe Islands Satellite Data\\\\S2A_MSIL2A_20220531T120411\\\\S2A_MSIL2A_20220531T120411_N0400_R066_T30VUQ_20220531T183212.SAFE\\\\GRANULE\\\\L2A_T30VUQ_A036242_20220531T120405\\\\IMG_DATA\\\\R20m\\\\T30VUQ_20220531T120411_B01_20m.jp2',\n",
       "   'B02': 'Faroe Islands Satellite Data\\\\S2A_MSIL2A_20220531T120411\\\\S2A_MSIL2A_20220531T120411_N0400_R066_T30VUQ_20220531T183212.SAFE\\\\GRANULE\\\\L2A_T30VUQ_A036242_20220531T120405\\\\IMG_DATA\\\\R20m\\\\T30VUQ_20220531T120411_B02_20m.jp2',\n",
       "   'B03': 'Faroe Islands Satellite Data\\\\S2A_MSIL2A_20220531T120411\\\\S2A_MSIL2A_20220531T120411_N0400_R066_T30VUQ_20220531T183212.SAFE\\\\GRANULE\\\\L2A_T30VUQ_A036242_20220531T120405\\\\IMG_DATA\\\\R20m\\\\T30VUQ_20220531T120411_B03_20m.jp2',\n",
       "   'B04': 'Faroe Islands Satellite Data\\\\S2A_MSIL2A_20220531T120411\\\\S2A_MSIL2A_20220531T120411_N0400_R066_T30VUQ_20220531T183212.SAFE\\\\GRANULE\\\\L2A_T30VUQ_A036242_20220531T120405\\\\IMG_DATA\\\\R20m\\\\T30VUQ_20220531T120411_B04_20m.jp2',\n",
       "   'B05': 'Faroe Islands Satellite Data\\\\S2A_MSIL2A_20220531T120411\\\\S2A_MSIL2A_20220531T120411_N0400_R066_T30VUQ_20220531T183212.SAFE\\\\GRANULE\\\\L2A_T30VUQ_A036242_20220531T120405\\\\IMG_DATA\\\\R20m\\\\T30VUQ_20220531T120411_B05_20m.jp2',\n",
       "   'B06': 'Faroe Islands Satellite Data\\\\S2A_MSIL2A_20220531T120411\\\\S2A_MSIL2A_20220531T120411_N0400_R066_T30VUQ_20220531T183212.SAFE\\\\GRANULE\\\\L2A_T30VUQ_A036242_20220531T120405\\\\IMG_DATA\\\\R20m\\\\T30VUQ_20220531T120411_B06_20m.jp2',\n",
       "   'B07': 'Faroe Islands Satellite Data\\\\S2A_MSIL2A_20220531T120411\\\\S2A_MSIL2A_20220531T120411_N0400_R066_T30VUQ_20220531T183212.SAFE\\\\GRANULE\\\\L2A_T30VUQ_A036242_20220531T120405\\\\IMG_DATA\\\\R20m\\\\T30VUQ_20220531T120411_B07_20m.jp2',\n",
       "   'B11': 'Faroe Islands Satellite Data\\\\S2A_MSIL2A_20220531T120411\\\\S2A_MSIL2A_20220531T120411_N0400_R066_T30VUQ_20220531T183212.SAFE\\\\GRANULE\\\\L2A_T30VUQ_A036242_20220531T120405\\\\IMG_DATA\\\\R20m\\\\T30VUQ_20220531T120411_B11_20m.jp2',\n",
       "   'B12': 'Faroe Islands Satellite Data\\\\S2A_MSIL2A_20220531T120411\\\\S2A_MSIL2A_20220531T120411_N0400_R066_T30VUQ_20220531T183212.SAFE\\\\GRANULE\\\\L2A_T30VUQ_A036242_20220531T120405\\\\IMG_DATA\\\\R20m\\\\T30VUQ_20220531T120411_B12_20m.jp2',\n",
       "   'B8A': 'Faroe Islands Satellite Data\\\\S2A_MSIL2A_20220531T120411\\\\S2A_MSIL2A_20220531T120411_N0400_R066_T30VUQ_20220531T183212.SAFE\\\\GRANULE\\\\L2A_T30VUQ_A036242_20220531T120405\\\\IMG_DATA\\\\R20m\\\\T30VUQ_20220531T120411_B8A_20m.jp2',\n",
       "   'SCL': 'Faroe Islands Satellite Data\\\\S2A_MSIL2A_20220531T120411\\\\S2A_MSIL2A_20220531T120411_N0400_R066_T30VUQ_20220531T183212.SAFE\\\\GRANULE\\\\L2A_T30VUQ_A036242_20220531T120405\\\\IMG_DATA\\\\R20m\\\\T30VUQ_20220531T120411_SCL_20m.jp2',\n",
       "   'TCI': 'Faroe Islands Satellite Data\\\\S2A_MSIL2A_20220531T120411\\\\S2A_MSIL2A_20220531T120411_N0400_R066_T30VUQ_20220531T183212.SAFE\\\\GRANULE\\\\L2A_T30VUQ_A036242_20220531T120405\\\\IMG_DATA\\\\R20m\\\\T30VUQ_20220531T120411_TCI_20m.jp2',\n",
       "   'WVP': 'Faroe Islands Satellite Data\\\\S2A_MSIL2A_20220531T120411\\\\S2A_MSIL2A_20220531T120411_N0400_R066_T30VUQ_20220531T183212.SAFE\\\\GRANULE\\\\L2A_T30VUQ_A036242_20220531T120405\\\\IMG_DATA\\\\R20m\\\\T30VUQ_20220531T120411_WVP_20m.jp2'},\n",
       "  'R60m': {'AOT': 'Faroe Islands Satellite Data\\\\S2A_MSIL2A_20220531T120411\\\\S2A_MSIL2A_20220531T120411_N0400_R066_T30VUQ_20220531T183212.SAFE\\\\GRANULE\\\\L2A_T30VUQ_A036242_20220531T120405\\\\IMG_DATA\\\\R60m\\\\T30VUQ_20220531T120411_AOT_60m.jp2',\n",
       "   'B01': 'Faroe Islands Satellite Data\\\\S2A_MSIL2A_20220531T120411\\\\S2A_MSIL2A_20220531T120411_N0400_R066_T30VUQ_20220531T183212.SAFE\\\\GRANULE\\\\L2A_T30VUQ_A036242_20220531T120405\\\\IMG_DATA\\\\R60m\\\\T30VUQ_20220531T120411_B01_60m.jp2',\n",
       "   'B02': 'Faroe Islands Satellite Data\\\\S2A_MSIL2A_20220531T120411\\\\S2A_MSIL2A_20220531T120411_N0400_R066_T30VUQ_20220531T183212.SAFE\\\\GRANULE\\\\L2A_T30VUQ_A036242_20220531T120405\\\\IMG_DATA\\\\R60m\\\\T30VUQ_20220531T120411_B02_60m.jp2',\n",
       "   'B03': 'Faroe Islands Satellite Data\\\\S2A_MSIL2A_20220531T120411\\\\S2A_MSIL2A_20220531T120411_N0400_R066_T30VUQ_20220531T183212.SAFE\\\\GRANULE\\\\L2A_T30VUQ_A036242_20220531T120405\\\\IMG_DATA\\\\R60m\\\\T30VUQ_20220531T120411_B03_60m.jp2',\n",
       "   'B04': 'Faroe Islands Satellite Data\\\\S2A_MSIL2A_20220531T120411\\\\S2A_MSIL2A_20220531T120411_N0400_R066_T30VUQ_20220531T183212.SAFE\\\\GRANULE\\\\L2A_T30VUQ_A036242_20220531T120405\\\\IMG_DATA\\\\R60m\\\\T30VUQ_20220531T120411_B04_60m.jp2',\n",
       "   'B05': 'Faroe Islands Satellite Data\\\\S2A_MSIL2A_20220531T120411\\\\S2A_MSIL2A_20220531T120411_N0400_R066_T30VUQ_20220531T183212.SAFE\\\\GRANULE\\\\L2A_T30VUQ_A036242_20220531T120405\\\\IMG_DATA\\\\R60m\\\\T30VUQ_20220531T120411_B05_60m.jp2',\n",
       "   'B06': 'Faroe Islands Satellite Data\\\\S2A_MSIL2A_20220531T120411\\\\S2A_MSIL2A_20220531T120411_N0400_R066_T30VUQ_20220531T183212.SAFE\\\\GRANULE\\\\L2A_T30VUQ_A036242_20220531T120405\\\\IMG_DATA\\\\R60m\\\\T30VUQ_20220531T120411_B06_60m.jp2',\n",
       "   'B07': 'Faroe Islands Satellite Data\\\\S2A_MSIL2A_20220531T120411\\\\S2A_MSIL2A_20220531T120411_N0400_R066_T30VUQ_20220531T183212.SAFE\\\\GRANULE\\\\L2A_T30VUQ_A036242_20220531T120405\\\\IMG_DATA\\\\R60m\\\\T30VUQ_20220531T120411_B07_60m.jp2',\n",
       "   'B09': 'Faroe Islands Satellite Data\\\\S2A_MSIL2A_20220531T120411\\\\S2A_MSIL2A_20220531T120411_N0400_R066_T30VUQ_20220531T183212.SAFE\\\\GRANULE\\\\L2A_T30VUQ_A036242_20220531T120405\\\\IMG_DATA\\\\R60m\\\\T30VUQ_20220531T120411_B09_60m.jp2',\n",
       "   'B11': 'Faroe Islands Satellite Data\\\\S2A_MSIL2A_20220531T120411\\\\S2A_MSIL2A_20220531T120411_N0400_R066_T30VUQ_20220531T183212.SAFE\\\\GRANULE\\\\L2A_T30VUQ_A036242_20220531T120405\\\\IMG_DATA\\\\R60m\\\\T30VUQ_20220531T120411_B11_60m.jp2',\n",
       "   'B12': 'Faroe Islands Satellite Data\\\\S2A_MSIL2A_20220531T120411\\\\S2A_MSIL2A_20220531T120411_N0400_R066_T30VUQ_20220531T183212.SAFE\\\\GRANULE\\\\L2A_T30VUQ_A036242_20220531T120405\\\\IMG_DATA\\\\R60m\\\\T30VUQ_20220531T120411_B12_60m.jp2',\n",
       "   'B8A': 'Faroe Islands Satellite Data\\\\S2A_MSIL2A_20220531T120411\\\\S2A_MSIL2A_20220531T120411_N0400_R066_T30VUQ_20220531T183212.SAFE\\\\GRANULE\\\\L2A_T30VUQ_A036242_20220531T120405\\\\IMG_DATA\\\\R60m\\\\T30VUQ_20220531T120411_B8A_60m.jp2',\n",
       "   'SCL': 'Faroe Islands Satellite Data\\\\S2A_MSIL2A_20220531T120411\\\\S2A_MSIL2A_20220531T120411_N0400_R066_T30VUQ_20220531T183212.SAFE\\\\GRANULE\\\\L2A_T30VUQ_A036242_20220531T120405\\\\IMG_DATA\\\\R60m\\\\T30VUQ_20220531T120411_SCL_60m.jp2',\n",
       "   'TCI': 'Faroe Islands Satellite Data\\\\S2A_MSIL2A_20220531T120411\\\\S2A_MSIL2A_20220531T120411_N0400_R066_T30VUQ_20220531T183212.SAFE\\\\GRANULE\\\\L2A_T30VUQ_A036242_20220531T120405\\\\IMG_DATA\\\\R60m\\\\T30VUQ_20220531T120411_TCI_60m.jp2',\n",
       "   'WVP': 'Faroe Islands Satellite Data\\\\S2A_MSIL2A_20220531T120411\\\\S2A_MSIL2A_20220531T120411_N0400_R066_T30VUQ_20220531T183212.SAFE\\\\GRANULE\\\\L2A_T30VUQ_A036242_20220531T120405\\\\IMG_DATA\\\\R60m\\\\T30VUQ_20220531T120411_WVP_60m.jp2'}},\n",
       " {'img_folder': 'S2A_MSIL2A_20220607T115411',\n",
       "  'img_date': '20220607',\n",
       "  'img_time': '115411',\n",
       "  'R10m': {'AOT': 'Faroe Islands Satellite Data\\\\S2A_MSIL2A_20220607T115411\\\\S2A_MSIL2A_20220607T115411_N0400_R023_T29VPK_20220607T182818.SAFE\\\\GRANULE\\\\L2A_T29VPK_A036342_20220607T115408\\\\IMG_DATA\\\\R10m\\\\T29VPK_20220607T115411_AOT_10m.jp2',\n",
       "   'B02': 'Faroe Islands Satellite Data\\\\S2A_MSIL2A_20220607T115411\\\\S2A_MSIL2A_20220607T115411_N0400_R023_T29VPK_20220607T182818.SAFE\\\\GRANULE\\\\L2A_T29VPK_A036342_20220607T115408\\\\IMG_DATA\\\\R10m\\\\T29VPK_20220607T115411_B02_10m.jp2',\n",
       "   'B03': 'Faroe Islands Satellite Data\\\\S2A_MSIL2A_20220607T115411\\\\S2A_MSIL2A_20220607T115411_N0400_R023_T29VPK_20220607T182818.SAFE\\\\GRANULE\\\\L2A_T29VPK_A036342_20220607T115408\\\\IMG_DATA\\\\R10m\\\\T29VPK_20220607T115411_B03_10m.jp2',\n",
       "   'B04': 'Faroe Islands Satellite Data\\\\S2A_MSIL2A_20220607T115411\\\\S2A_MSIL2A_20220607T115411_N0400_R023_T29VPK_20220607T182818.SAFE\\\\GRANULE\\\\L2A_T29VPK_A036342_20220607T115408\\\\IMG_DATA\\\\R10m\\\\T29VPK_20220607T115411_B04_10m.jp2',\n",
       "   'B08': 'Faroe Islands Satellite Data\\\\S2A_MSIL2A_20220607T115411\\\\S2A_MSIL2A_20220607T115411_N0400_R023_T29VPK_20220607T182818.SAFE\\\\GRANULE\\\\L2A_T29VPK_A036342_20220607T115408\\\\IMG_DATA\\\\R10m\\\\T29VPK_20220607T115411_B08_10m.jp2',\n",
       "   'TCI': 'Faroe Islands Satellite Data\\\\S2A_MSIL2A_20220607T115411\\\\S2A_MSIL2A_20220607T115411_N0400_R023_T29VPK_20220607T182818.SAFE\\\\GRANULE\\\\L2A_T29VPK_A036342_20220607T115408\\\\IMG_DATA\\\\R10m\\\\T29VPK_20220607T115411_TCI_10m.jp2',\n",
       "   'WVP': 'Faroe Islands Satellite Data\\\\S2A_MSIL2A_20220607T115411\\\\S2A_MSIL2A_20220607T115411_N0400_R023_T29VPK_20220607T182818.SAFE\\\\GRANULE\\\\L2A_T29VPK_A036342_20220607T115408\\\\IMG_DATA\\\\R10m\\\\T29VPK_20220607T115411_WVP_10m.jp2'},\n",
       "  'R20m': {'AOT': 'Faroe Islands Satellite Data\\\\S2A_MSIL2A_20220607T115411\\\\S2A_MSIL2A_20220607T115411_N0400_R023_T29VPK_20220607T182818.SAFE\\\\GRANULE\\\\L2A_T29VPK_A036342_20220607T115408\\\\IMG_DATA\\\\R20m\\\\T29VPK_20220607T115411_AOT_20m.jp2',\n",
       "   'B01': 'Faroe Islands Satellite Data\\\\S2A_MSIL2A_20220607T115411\\\\S2A_MSIL2A_20220607T115411_N0400_R023_T29VPK_20220607T182818.SAFE\\\\GRANULE\\\\L2A_T29VPK_A036342_20220607T115408\\\\IMG_DATA\\\\R20m\\\\T29VPK_20220607T115411_B01_20m.jp2',\n",
       "   'B02': 'Faroe Islands Satellite Data\\\\S2A_MSIL2A_20220607T115411\\\\S2A_MSIL2A_20220607T115411_N0400_R023_T29VPK_20220607T182818.SAFE\\\\GRANULE\\\\L2A_T29VPK_A036342_20220607T115408\\\\IMG_DATA\\\\R20m\\\\T29VPK_20220607T115411_B02_20m.jp2',\n",
       "   'B03': 'Faroe Islands Satellite Data\\\\S2A_MSIL2A_20220607T115411\\\\S2A_MSIL2A_20220607T115411_N0400_R023_T29VPK_20220607T182818.SAFE\\\\GRANULE\\\\L2A_T29VPK_A036342_20220607T115408\\\\IMG_DATA\\\\R20m\\\\T29VPK_20220607T115411_B03_20m.jp2',\n",
       "   'B04': 'Faroe Islands Satellite Data\\\\S2A_MSIL2A_20220607T115411\\\\S2A_MSIL2A_20220607T115411_N0400_R023_T29VPK_20220607T182818.SAFE\\\\GRANULE\\\\L2A_T29VPK_A036342_20220607T115408\\\\IMG_DATA\\\\R20m\\\\T29VPK_20220607T115411_B04_20m.jp2',\n",
       "   'B05': 'Faroe Islands Satellite Data\\\\S2A_MSIL2A_20220607T115411\\\\S2A_MSIL2A_20220607T115411_N0400_R023_T29VPK_20220607T182818.SAFE\\\\GRANULE\\\\L2A_T29VPK_A036342_20220607T115408\\\\IMG_DATA\\\\R20m\\\\T29VPK_20220607T115411_B05_20m.jp2',\n",
       "   'B06': 'Faroe Islands Satellite Data\\\\S2A_MSIL2A_20220607T115411\\\\S2A_MSIL2A_20220607T115411_N0400_R023_T29VPK_20220607T182818.SAFE\\\\GRANULE\\\\L2A_T29VPK_A036342_20220607T115408\\\\IMG_DATA\\\\R20m\\\\T29VPK_20220607T115411_B06_20m.jp2',\n",
       "   'B07': 'Faroe Islands Satellite Data\\\\S2A_MSIL2A_20220607T115411\\\\S2A_MSIL2A_20220607T115411_N0400_R023_T29VPK_20220607T182818.SAFE\\\\GRANULE\\\\L2A_T29VPK_A036342_20220607T115408\\\\IMG_DATA\\\\R20m\\\\T29VPK_20220607T115411_B07_20m.jp2',\n",
       "   'B11': 'Faroe Islands Satellite Data\\\\S2A_MSIL2A_20220607T115411\\\\S2A_MSIL2A_20220607T115411_N0400_R023_T29VPK_20220607T182818.SAFE\\\\GRANULE\\\\L2A_T29VPK_A036342_20220607T115408\\\\IMG_DATA\\\\R20m\\\\T29VPK_20220607T115411_B11_20m.jp2',\n",
       "   'B12': 'Faroe Islands Satellite Data\\\\S2A_MSIL2A_20220607T115411\\\\S2A_MSIL2A_20220607T115411_N0400_R023_T29VPK_20220607T182818.SAFE\\\\GRANULE\\\\L2A_T29VPK_A036342_20220607T115408\\\\IMG_DATA\\\\R20m\\\\T29VPK_20220607T115411_B12_20m.jp2',\n",
       "   'B8A': 'Faroe Islands Satellite Data\\\\S2A_MSIL2A_20220607T115411\\\\S2A_MSIL2A_20220607T115411_N0400_R023_T29VPK_20220607T182818.SAFE\\\\GRANULE\\\\L2A_T29VPK_A036342_20220607T115408\\\\IMG_DATA\\\\R20m\\\\T29VPK_20220607T115411_B8A_20m.jp2',\n",
       "   'SCL': 'Faroe Islands Satellite Data\\\\S2A_MSIL2A_20220607T115411\\\\S2A_MSIL2A_20220607T115411_N0400_R023_T29VPK_20220607T182818.SAFE\\\\GRANULE\\\\L2A_T29VPK_A036342_20220607T115408\\\\IMG_DATA\\\\R20m\\\\T29VPK_20220607T115411_SCL_20m.jp2',\n",
       "   'TCI': 'Faroe Islands Satellite Data\\\\S2A_MSIL2A_20220607T115411\\\\S2A_MSIL2A_20220607T115411_N0400_R023_T29VPK_20220607T182818.SAFE\\\\GRANULE\\\\L2A_T29VPK_A036342_20220607T115408\\\\IMG_DATA\\\\R20m\\\\T29VPK_20220607T115411_TCI_20m.jp2',\n",
       "   'WVP': 'Faroe Islands Satellite Data\\\\S2A_MSIL2A_20220607T115411\\\\S2A_MSIL2A_20220607T115411_N0400_R023_T29VPK_20220607T182818.SAFE\\\\GRANULE\\\\L2A_T29VPK_A036342_20220607T115408\\\\IMG_DATA\\\\R20m\\\\T29VPK_20220607T115411_WVP_20m.jp2'},\n",
       "  'R60m': {'AOT': 'Faroe Islands Satellite Data\\\\S2A_MSIL2A_20220607T115411\\\\S2A_MSIL2A_20220607T115411_N0400_R023_T29VPK_20220607T182818.SAFE\\\\GRANULE\\\\L2A_T29VPK_A036342_20220607T115408\\\\IMG_DATA\\\\R60m\\\\T29VPK_20220607T115411_AOT_60m.jp2',\n",
       "   'B01': 'Faroe Islands Satellite Data\\\\S2A_MSIL2A_20220607T115411\\\\S2A_MSIL2A_20220607T115411_N0400_R023_T29VPK_20220607T182818.SAFE\\\\GRANULE\\\\L2A_T29VPK_A036342_20220607T115408\\\\IMG_DATA\\\\R60m\\\\T29VPK_20220607T115411_B01_60m.jp2',\n",
       "   'B02': 'Faroe Islands Satellite Data\\\\S2A_MSIL2A_20220607T115411\\\\S2A_MSIL2A_20220607T115411_N0400_R023_T29VPK_20220607T182818.SAFE\\\\GRANULE\\\\L2A_T29VPK_A036342_20220607T115408\\\\IMG_DATA\\\\R60m\\\\T29VPK_20220607T115411_B02_60m.jp2',\n",
       "   'B03': 'Faroe Islands Satellite Data\\\\S2A_MSIL2A_20220607T115411\\\\S2A_MSIL2A_20220607T115411_N0400_R023_T29VPK_20220607T182818.SAFE\\\\GRANULE\\\\L2A_T29VPK_A036342_20220607T115408\\\\IMG_DATA\\\\R60m\\\\T29VPK_20220607T115411_B03_60m.jp2',\n",
       "   'B04': 'Faroe Islands Satellite Data\\\\S2A_MSIL2A_20220607T115411\\\\S2A_MSIL2A_20220607T115411_N0400_R023_T29VPK_20220607T182818.SAFE\\\\GRANULE\\\\L2A_T29VPK_A036342_20220607T115408\\\\IMG_DATA\\\\R60m\\\\T29VPK_20220607T115411_B04_60m.jp2',\n",
       "   'B05': 'Faroe Islands Satellite Data\\\\S2A_MSIL2A_20220607T115411\\\\S2A_MSIL2A_20220607T115411_N0400_R023_T29VPK_20220607T182818.SAFE\\\\GRANULE\\\\L2A_T29VPK_A036342_20220607T115408\\\\IMG_DATA\\\\R60m\\\\T29VPK_20220607T115411_B05_60m.jp2',\n",
       "   'B06': 'Faroe Islands Satellite Data\\\\S2A_MSIL2A_20220607T115411\\\\S2A_MSIL2A_20220607T115411_N0400_R023_T29VPK_20220607T182818.SAFE\\\\GRANULE\\\\L2A_T29VPK_A036342_20220607T115408\\\\IMG_DATA\\\\R60m\\\\T29VPK_20220607T115411_B06_60m.jp2',\n",
       "   'B07': 'Faroe Islands Satellite Data\\\\S2A_MSIL2A_20220607T115411\\\\S2A_MSIL2A_20220607T115411_N0400_R023_T29VPK_20220607T182818.SAFE\\\\GRANULE\\\\L2A_T29VPK_A036342_20220607T115408\\\\IMG_DATA\\\\R60m\\\\T29VPK_20220607T115411_B07_60m.jp2',\n",
       "   'B09': 'Faroe Islands Satellite Data\\\\S2A_MSIL2A_20220607T115411\\\\S2A_MSIL2A_20220607T115411_N0400_R023_T29VPK_20220607T182818.SAFE\\\\GRANULE\\\\L2A_T29VPK_A036342_20220607T115408\\\\IMG_DATA\\\\R60m\\\\T29VPK_20220607T115411_B09_60m.jp2',\n",
       "   'B11': 'Faroe Islands Satellite Data\\\\S2A_MSIL2A_20220607T115411\\\\S2A_MSIL2A_20220607T115411_N0400_R023_T29VPK_20220607T182818.SAFE\\\\GRANULE\\\\L2A_T29VPK_A036342_20220607T115408\\\\IMG_DATA\\\\R60m\\\\T29VPK_20220607T115411_B11_60m.jp2',\n",
       "   'B12': 'Faroe Islands Satellite Data\\\\S2A_MSIL2A_20220607T115411\\\\S2A_MSIL2A_20220607T115411_N0400_R023_T29VPK_20220607T182818.SAFE\\\\GRANULE\\\\L2A_T29VPK_A036342_20220607T115408\\\\IMG_DATA\\\\R60m\\\\T29VPK_20220607T115411_B12_60m.jp2',\n",
       "   'B8A': 'Faroe Islands Satellite Data\\\\S2A_MSIL2A_20220607T115411\\\\S2A_MSIL2A_20220607T115411_N0400_R023_T29VPK_20220607T182818.SAFE\\\\GRANULE\\\\L2A_T29VPK_A036342_20220607T115408\\\\IMG_DATA\\\\R60m\\\\T29VPK_20220607T115411_B8A_60m.jp2',\n",
       "   'SCL': 'Faroe Islands Satellite Data\\\\S2A_MSIL2A_20220607T115411\\\\S2A_MSIL2A_20220607T115411_N0400_R023_T29VPK_20220607T182818.SAFE\\\\GRANULE\\\\L2A_T29VPK_A036342_20220607T115408\\\\IMG_DATA\\\\R60m\\\\T29VPK_20220607T115411_SCL_60m.jp2',\n",
       "   'TCI': 'Faroe Islands Satellite Data\\\\S2A_MSIL2A_20220607T115411\\\\S2A_MSIL2A_20220607T115411_N0400_R023_T29VPK_20220607T182818.SAFE\\\\GRANULE\\\\L2A_T29VPK_A036342_20220607T115408\\\\IMG_DATA\\\\R60m\\\\T29VPK_20220607T115411_TCI_60m.jp2',\n",
       "   'WVP': 'Faroe Islands Satellite Data\\\\S2A_MSIL2A_20220607T115411\\\\S2A_MSIL2A_20220607T115411_N0400_R023_T29VPK_20220607T182818.SAFE\\\\GRANULE\\\\L2A_T29VPK_A036342_20220607T115408\\\\IMG_DATA\\\\R60m\\\\T29VPK_20220607T115411_WVP_60m.jp2'}},\n",
       " {'img_folder': 'S2B_MSIL2A_20220327T120359',\n",
       "  'img_date': '20220327',\n",
       "  'img_time': '120359',\n",
       "  'R10m': {'AOT': 'Faroe Islands Satellite Data\\\\S2B_MSIL2A_20220327T120359\\\\S2B_MSIL2A_20220327T120359_N0400_R066_T29VPK_20220327T163425.SAFE\\\\GRANULE\\\\L2A_T29VPK_A026404_20220327T120354\\\\IMG_DATA\\\\R10m\\\\T29VPK_20220327T120359_AOT_10m.jp2',\n",
       "   'B02': 'Faroe Islands Satellite Data\\\\S2B_MSIL2A_20220327T120359\\\\S2B_MSIL2A_20220327T120359_N0400_R066_T29VPK_20220327T163425.SAFE\\\\GRANULE\\\\L2A_T29VPK_A026404_20220327T120354\\\\IMG_DATA\\\\R10m\\\\T29VPK_20220327T120359_B02_10m.jp2',\n",
       "   'B03': 'Faroe Islands Satellite Data\\\\S2B_MSIL2A_20220327T120359\\\\S2B_MSIL2A_20220327T120359_N0400_R066_T29VPK_20220327T163425.SAFE\\\\GRANULE\\\\L2A_T29VPK_A026404_20220327T120354\\\\IMG_DATA\\\\R10m\\\\T29VPK_20220327T120359_B03_10m.jp2',\n",
       "   'B04': 'Faroe Islands Satellite Data\\\\S2B_MSIL2A_20220327T120359\\\\S2B_MSIL2A_20220327T120359_N0400_R066_T29VPK_20220327T163425.SAFE\\\\GRANULE\\\\L2A_T29VPK_A026404_20220327T120354\\\\IMG_DATA\\\\R10m\\\\T29VPK_20220327T120359_B04_10m.jp2',\n",
       "   'B08': 'Faroe Islands Satellite Data\\\\S2B_MSIL2A_20220327T120359\\\\S2B_MSIL2A_20220327T120359_N0400_R066_T29VPK_20220327T163425.SAFE\\\\GRANULE\\\\L2A_T29VPK_A026404_20220327T120354\\\\IMG_DATA\\\\R10m\\\\T29VPK_20220327T120359_B08_10m.jp2',\n",
       "   'TCI': 'Faroe Islands Satellite Data\\\\S2B_MSIL2A_20220327T120359\\\\S2B_MSIL2A_20220327T120359_N0400_R066_T29VPK_20220327T163425.SAFE\\\\GRANULE\\\\L2A_T29VPK_A026404_20220327T120354\\\\IMG_DATA\\\\R10m\\\\T29VPK_20220327T120359_TCI_10m.jp2',\n",
       "   'WVP': 'Faroe Islands Satellite Data\\\\S2B_MSIL2A_20220327T120359\\\\S2B_MSIL2A_20220327T120359_N0400_R066_T29VPK_20220327T163425.SAFE\\\\GRANULE\\\\L2A_T29VPK_A026404_20220327T120354\\\\IMG_DATA\\\\R10m\\\\T29VPK_20220327T120359_WVP_10m.jp2'},\n",
       "  'R20m': {'AOT': 'Faroe Islands Satellite Data\\\\S2B_MSIL2A_20220327T120359\\\\S2B_MSIL2A_20220327T120359_N0400_R066_T29VPK_20220327T163425.SAFE\\\\GRANULE\\\\L2A_T29VPK_A026404_20220327T120354\\\\IMG_DATA\\\\R20m\\\\T29VPK_20220327T120359_AOT_20m.jp2',\n",
       "   'B01': 'Faroe Islands Satellite Data\\\\S2B_MSIL2A_20220327T120359\\\\S2B_MSIL2A_20220327T120359_N0400_R066_T29VPK_20220327T163425.SAFE\\\\GRANULE\\\\L2A_T29VPK_A026404_20220327T120354\\\\IMG_DATA\\\\R20m\\\\T29VPK_20220327T120359_B01_20m.jp2',\n",
       "   'B02': 'Faroe Islands Satellite Data\\\\S2B_MSIL2A_20220327T120359\\\\S2B_MSIL2A_20220327T120359_N0400_R066_T29VPK_20220327T163425.SAFE\\\\GRANULE\\\\L2A_T29VPK_A026404_20220327T120354\\\\IMG_DATA\\\\R20m\\\\T29VPK_20220327T120359_B02_20m.jp2',\n",
       "   'B03': 'Faroe Islands Satellite Data\\\\S2B_MSIL2A_20220327T120359\\\\S2B_MSIL2A_20220327T120359_N0400_R066_T29VPK_20220327T163425.SAFE\\\\GRANULE\\\\L2A_T29VPK_A026404_20220327T120354\\\\IMG_DATA\\\\R20m\\\\T29VPK_20220327T120359_B03_20m.jp2',\n",
       "   'B04': 'Faroe Islands Satellite Data\\\\S2B_MSIL2A_20220327T120359\\\\S2B_MSIL2A_20220327T120359_N0400_R066_T29VPK_20220327T163425.SAFE\\\\GRANULE\\\\L2A_T29VPK_A026404_20220327T120354\\\\IMG_DATA\\\\R20m\\\\T29VPK_20220327T120359_B04_20m.jp2',\n",
       "   'B05': 'Faroe Islands Satellite Data\\\\S2B_MSIL2A_20220327T120359\\\\S2B_MSIL2A_20220327T120359_N0400_R066_T29VPK_20220327T163425.SAFE\\\\GRANULE\\\\L2A_T29VPK_A026404_20220327T120354\\\\IMG_DATA\\\\R20m\\\\T29VPK_20220327T120359_B05_20m.jp2',\n",
       "   'B06': 'Faroe Islands Satellite Data\\\\S2B_MSIL2A_20220327T120359\\\\S2B_MSIL2A_20220327T120359_N0400_R066_T29VPK_20220327T163425.SAFE\\\\GRANULE\\\\L2A_T29VPK_A026404_20220327T120354\\\\IMG_DATA\\\\R20m\\\\T29VPK_20220327T120359_B06_20m.jp2',\n",
       "   'B07': 'Faroe Islands Satellite Data\\\\S2B_MSIL2A_20220327T120359\\\\S2B_MSIL2A_20220327T120359_N0400_R066_T29VPK_20220327T163425.SAFE\\\\GRANULE\\\\L2A_T29VPK_A026404_20220327T120354\\\\IMG_DATA\\\\R20m\\\\T29VPK_20220327T120359_B07_20m.jp2',\n",
       "   'B11': 'Faroe Islands Satellite Data\\\\S2B_MSIL2A_20220327T120359\\\\S2B_MSIL2A_20220327T120359_N0400_R066_T29VPK_20220327T163425.SAFE\\\\GRANULE\\\\L2A_T29VPK_A026404_20220327T120354\\\\IMG_DATA\\\\R20m\\\\T29VPK_20220327T120359_B11_20m.jp2',\n",
       "   'B12': 'Faroe Islands Satellite Data\\\\S2B_MSIL2A_20220327T120359\\\\S2B_MSIL2A_20220327T120359_N0400_R066_T29VPK_20220327T163425.SAFE\\\\GRANULE\\\\L2A_T29VPK_A026404_20220327T120354\\\\IMG_DATA\\\\R20m\\\\T29VPK_20220327T120359_B12_20m.jp2',\n",
       "   'B8A': 'Faroe Islands Satellite Data\\\\S2B_MSIL2A_20220327T120359\\\\S2B_MSIL2A_20220327T120359_N0400_R066_T29VPK_20220327T163425.SAFE\\\\GRANULE\\\\L2A_T29VPK_A026404_20220327T120354\\\\IMG_DATA\\\\R20m\\\\T29VPK_20220327T120359_B8A_20m.jp2',\n",
       "   'SCL': 'Faroe Islands Satellite Data\\\\S2B_MSIL2A_20220327T120359\\\\S2B_MSIL2A_20220327T120359_N0400_R066_T29VPK_20220327T163425.SAFE\\\\GRANULE\\\\L2A_T29VPK_A026404_20220327T120354\\\\IMG_DATA\\\\R20m\\\\T29VPK_20220327T120359_SCL_20m.jp2',\n",
       "   'TCI': 'Faroe Islands Satellite Data\\\\S2B_MSIL2A_20220327T120359\\\\S2B_MSIL2A_20220327T120359_N0400_R066_T29VPK_20220327T163425.SAFE\\\\GRANULE\\\\L2A_T29VPK_A026404_20220327T120354\\\\IMG_DATA\\\\R20m\\\\T29VPK_20220327T120359_TCI_20m.jp2',\n",
       "   'WVP': 'Faroe Islands Satellite Data\\\\S2B_MSIL2A_20220327T120359\\\\S2B_MSIL2A_20220327T120359_N0400_R066_T29VPK_20220327T163425.SAFE\\\\GRANULE\\\\L2A_T29VPK_A026404_20220327T120354\\\\IMG_DATA\\\\R20m\\\\T29VPK_20220327T120359_WVP_20m.jp2'},\n",
       "  'R60m': {'AOT': 'Faroe Islands Satellite Data\\\\S2B_MSIL2A_20220327T120359\\\\S2B_MSIL2A_20220327T120359_N0400_R066_T29VPK_20220327T163425.SAFE\\\\GRANULE\\\\L2A_T29VPK_A026404_20220327T120354\\\\IMG_DATA\\\\R60m\\\\T29VPK_20220327T120359_AOT_60m.jp2',\n",
       "   'B01': 'Faroe Islands Satellite Data\\\\S2B_MSIL2A_20220327T120359\\\\S2B_MSIL2A_20220327T120359_N0400_R066_T29VPK_20220327T163425.SAFE\\\\GRANULE\\\\L2A_T29VPK_A026404_20220327T120354\\\\IMG_DATA\\\\R60m\\\\T29VPK_20220327T120359_B01_60m.jp2',\n",
       "   'B02': 'Faroe Islands Satellite Data\\\\S2B_MSIL2A_20220327T120359\\\\S2B_MSIL2A_20220327T120359_N0400_R066_T29VPK_20220327T163425.SAFE\\\\GRANULE\\\\L2A_T29VPK_A026404_20220327T120354\\\\IMG_DATA\\\\R60m\\\\T29VPK_20220327T120359_B02_60m.jp2',\n",
       "   'B03': 'Faroe Islands Satellite Data\\\\S2B_MSIL2A_20220327T120359\\\\S2B_MSIL2A_20220327T120359_N0400_R066_T29VPK_20220327T163425.SAFE\\\\GRANULE\\\\L2A_T29VPK_A026404_20220327T120354\\\\IMG_DATA\\\\R60m\\\\T29VPK_20220327T120359_B03_60m.jp2',\n",
       "   'B04': 'Faroe Islands Satellite Data\\\\S2B_MSIL2A_20220327T120359\\\\S2B_MSIL2A_20220327T120359_N0400_R066_T29VPK_20220327T163425.SAFE\\\\GRANULE\\\\L2A_T29VPK_A026404_20220327T120354\\\\IMG_DATA\\\\R60m\\\\T29VPK_20220327T120359_B04_60m.jp2',\n",
       "   'B05': 'Faroe Islands Satellite Data\\\\S2B_MSIL2A_20220327T120359\\\\S2B_MSIL2A_20220327T120359_N0400_R066_T29VPK_20220327T163425.SAFE\\\\GRANULE\\\\L2A_T29VPK_A026404_20220327T120354\\\\IMG_DATA\\\\R60m\\\\T29VPK_20220327T120359_B05_60m.jp2',\n",
       "   'B06': 'Faroe Islands Satellite Data\\\\S2B_MSIL2A_20220327T120359\\\\S2B_MSIL2A_20220327T120359_N0400_R066_T29VPK_20220327T163425.SAFE\\\\GRANULE\\\\L2A_T29VPK_A026404_20220327T120354\\\\IMG_DATA\\\\R60m\\\\T29VPK_20220327T120359_B06_60m.jp2',\n",
       "   'B07': 'Faroe Islands Satellite Data\\\\S2B_MSIL2A_20220327T120359\\\\S2B_MSIL2A_20220327T120359_N0400_R066_T29VPK_20220327T163425.SAFE\\\\GRANULE\\\\L2A_T29VPK_A026404_20220327T120354\\\\IMG_DATA\\\\R60m\\\\T29VPK_20220327T120359_B07_60m.jp2',\n",
       "   'B09': 'Faroe Islands Satellite Data\\\\S2B_MSIL2A_20220327T120359\\\\S2B_MSIL2A_20220327T120359_N0400_R066_T29VPK_20220327T163425.SAFE\\\\GRANULE\\\\L2A_T29VPK_A026404_20220327T120354\\\\IMG_DATA\\\\R60m\\\\T29VPK_20220327T120359_B09_60m.jp2',\n",
       "   'B11': 'Faroe Islands Satellite Data\\\\S2B_MSIL2A_20220327T120359\\\\S2B_MSIL2A_20220327T120359_N0400_R066_T29VPK_20220327T163425.SAFE\\\\GRANULE\\\\L2A_T29VPK_A026404_20220327T120354\\\\IMG_DATA\\\\R60m\\\\T29VPK_20220327T120359_B11_60m.jp2',\n",
       "   'B12': 'Faroe Islands Satellite Data\\\\S2B_MSIL2A_20220327T120359\\\\S2B_MSIL2A_20220327T120359_N0400_R066_T29VPK_20220327T163425.SAFE\\\\GRANULE\\\\L2A_T29VPK_A026404_20220327T120354\\\\IMG_DATA\\\\R60m\\\\T29VPK_20220327T120359_B12_60m.jp2',\n",
       "   'B8A': 'Faroe Islands Satellite Data\\\\S2B_MSIL2A_20220327T120359\\\\S2B_MSIL2A_20220327T120359_N0400_R066_T29VPK_20220327T163425.SAFE\\\\GRANULE\\\\L2A_T29VPK_A026404_20220327T120354\\\\IMG_DATA\\\\R60m\\\\T29VPK_20220327T120359_B8A_60m.jp2',\n",
       "   'SCL': 'Faroe Islands Satellite Data\\\\S2B_MSIL2A_20220327T120359\\\\S2B_MSIL2A_20220327T120359_N0400_R066_T29VPK_20220327T163425.SAFE\\\\GRANULE\\\\L2A_T29VPK_A026404_20220327T120354\\\\IMG_DATA\\\\R60m\\\\T29VPK_20220327T120359_SCL_60m.jp2',\n",
       "   'TCI': 'Faroe Islands Satellite Data\\\\S2B_MSIL2A_20220327T120359\\\\S2B_MSIL2A_20220327T120359_N0400_R066_T29VPK_20220327T163425.SAFE\\\\GRANULE\\\\L2A_T29VPK_A026404_20220327T120354\\\\IMG_DATA\\\\R60m\\\\T29VPK_20220327T120359_TCI_60m.jp2',\n",
       "   'WVP': 'Faroe Islands Satellite Data\\\\S2B_MSIL2A_20220327T120359\\\\S2B_MSIL2A_20220327T120359_N0400_R066_T29VPK_20220327T163425.SAFE\\\\GRANULE\\\\L2A_T29VPK_A026404_20220327T120354\\\\IMG_DATA\\\\R60m\\\\T29VPK_20220327T120359_WVP_60m.jp2'}},\n",
       " {'img_folder': 'S2B_MSIL2A_20220419T121349',\n",
       "  'img_date': '20220419',\n",
       "  'img_time': '121349',\n",
       "  'R10m': {'AOT': 'Faroe Islands Satellite Data\\\\S2B_MSIL2A_20220419T121349\\\\S2B_MSIL2A_20220419T121349_N0400_R109_T29VPK_20220419T150207.SAFE\\\\GRANULE\\\\L2A_T29VPK_A026733_20220419T121350\\\\IMG_DATA\\\\R10m\\\\T29VPK_20220419T121349_AOT_10m.jp2',\n",
       "   'B02': 'Faroe Islands Satellite Data\\\\S2B_MSIL2A_20220419T121349\\\\S2B_MSIL2A_20220419T121349_N0400_R109_T29VPK_20220419T150207.SAFE\\\\GRANULE\\\\L2A_T29VPK_A026733_20220419T121350\\\\IMG_DATA\\\\R10m\\\\T29VPK_20220419T121349_B02_10m.jp2',\n",
       "   'B03': 'Faroe Islands Satellite Data\\\\S2B_MSIL2A_20220419T121349\\\\S2B_MSIL2A_20220419T121349_N0400_R109_T29VPK_20220419T150207.SAFE\\\\GRANULE\\\\L2A_T29VPK_A026733_20220419T121350\\\\IMG_DATA\\\\R10m\\\\T29VPK_20220419T121349_B03_10m.jp2',\n",
       "   'B04': 'Faroe Islands Satellite Data\\\\S2B_MSIL2A_20220419T121349\\\\S2B_MSIL2A_20220419T121349_N0400_R109_T29VPK_20220419T150207.SAFE\\\\GRANULE\\\\L2A_T29VPK_A026733_20220419T121350\\\\IMG_DATA\\\\R10m\\\\T29VPK_20220419T121349_B04_10m.jp2',\n",
       "   'B08': 'Faroe Islands Satellite Data\\\\S2B_MSIL2A_20220419T121349\\\\S2B_MSIL2A_20220419T121349_N0400_R109_T29VPK_20220419T150207.SAFE\\\\GRANULE\\\\L2A_T29VPK_A026733_20220419T121350\\\\IMG_DATA\\\\R10m\\\\T29VPK_20220419T121349_B08_10m.jp2',\n",
       "   'TCI': 'Faroe Islands Satellite Data\\\\S2B_MSIL2A_20220419T121349\\\\S2B_MSIL2A_20220419T121349_N0400_R109_T29VPK_20220419T150207.SAFE\\\\GRANULE\\\\L2A_T29VPK_A026733_20220419T121350\\\\IMG_DATA\\\\R10m\\\\T29VPK_20220419T121349_TCI_10m.jp2',\n",
       "   'WVP': 'Faroe Islands Satellite Data\\\\S2B_MSIL2A_20220419T121349\\\\S2B_MSIL2A_20220419T121349_N0400_R109_T29VPK_20220419T150207.SAFE\\\\GRANULE\\\\L2A_T29VPK_A026733_20220419T121350\\\\IMG_DATA\\\\R10m\\\\T29VPK_20220419T121349_WVP_10m.jp2'},\n",
       "  'R20m': {'AOT': 'Faroe Islands Satellite Data\\\\S2B_MSIL2A_20220419T121349\\\\S2B_MSIL2A_20220419T121349_N0400_R109_T29VPK_20220419T150207.SAFE\\\\GRANULE\\\\L2A_T29VPK_A026733_20220419T121350\\\\IMG_DATA\\\\R20m\\\\T29VPK_20220419T121349_AOT_20m.jp2',\n",
       "   'B01': 'Faroe Islands Satellite Data\\\\S2B_MSIL2A_20220419T121349\\\\S2B_MSIL2A_20220419T121349_N0400_R109_T29VPK_20220419T150207.SAFE\\\\GRANULE\\\\L2A_T29VPK_A026733_20220419T121350\\\\IMG_DATA\\\\R20m\\\\T29VPK_20220419T121349_B01_20m.jp2',\n",
       "   'B02': 'Faroe Islands Satellite Data\\\\S2B_MSIL2A_20220419T121349\\\\S2B_MSIL2A_20220419T121349_N0400_R109_T29VPK_20220419T150207.SAFE\\\\GRANULE\\\\L2A_T29VPK_A026733_20220419T121350\\\\IMG_DATA\\\\R20m\\\\T29VPK_20220419T121349_B02_20m.jp2',\n",
       "   'B03': 'Faroe Islands Satellite Data\\\\S2B_MSIL2A_20220419T121349\\\\S2B_MSIL2A_20220419T121349_N0400_R109_T29VPK_20220419T150207.SAFE\\\\GRANULE\\\\L2A_T29VPK_A026733_20220419T121350\\\\IMG_DATA\\\\R20m\\\\T29VPK_20220419T121349_B03_20m.jp2',\n",
       "   'B04': 'Faroe Islands Satellite Data\\\\S2B_MSIL2A_20220419T121349\\\\S2B_MSIL2A_20220419T121349_N0400_R109_T29VPK_20220419T150207.SAFE\\\\GRANULE\\\\L2A_T29VPK_A026733_20220419T121350\\\\IMG_DATA\\\\R20m\\\\T29VPK_20220419T121349_B04_20m.jp2',\n",
       "   'B05': 'Faroe Islands Satellite Data\\\\S2B_MSIL2A_20220419T121349\\\\S2B_MSIL2A_20220419T121349_N0400_R109_T29VPK_20220419T150207.SAFE\\\\GRANULE\\\\L2A_T29VPK_A026733_20220419T121350\\\\IMG_DATA\\\\R20m\\\\T29VPK_20220419T121349_B05_20m.jp2',\n",
       "   'B06': 'Faroe Islands Satellite Data\\\\S2B_MSIL2A_20220419T121349\\\\S2B_MSIL2A_20220419T121349_N0400_R109_T29VPK_20220419T150207.SAFE\\\\GRANULE\\\\L2A_T29VPK_A026733_20220419T121350\\\\IMG_DATA\\\\R20m\\\\T29VPK_20220419T121349_B06_20m.jp2',\n",
       "   'B07': 'Faroe Islands Satellite Data\\\\S2B_MSIL2A_20220419T121349\\\\S2B_MSIL2A_20220419T121349_N0400_R109_T29VPK_20220419T150207.SAFE\\\\GRANULE\\\\L2A_T29VPK_A026733_20220419T121350\\\\IMG_DATA\\\\R20m\\\\T29VPK_20220419T121349_B07_20m.jp2',\n",
       "   'B11': 'Faroe Islands Satellite Data\\\\S2B_MSIL2A_20220419T121349\\\\S2B_MSIL2A_20220419T121349_N0400_R109_T29VPK_20220419T150207.SAFE\\\\GRANULE\\\\L2A_T29VPK_A026733_20220419T121350\\\\IMG_DATA\\\\R20m\\\\T29VPK_20220419T121349_B11_20m.jp2',\n",
       "   'B12': 'Faroe Islands Satellite Data\\\\S2B_MSIL2A_20220419T121349\\\\S2B_MSIL2A_20220419T121349_N0400_R109_T29VPK_20220419T150207.SAFE\\\\GRANULE\\\\L2A_T29VPK_A026733_20220419T121350\\\\IMG_DATA\\\\R20m\\\\T29VPK_20220419T121349_B12_20m.jp2',\n",
       "   'B8A': 'Faroe Islands Satellite Data\\\\S2B_MSIL2A_20220419T121349\\\\S2B_MSIL2A_20220419T121349_N0400_R109_T29VPK_20220419T150207.SAFE\\\\GRANULE\\\\L2A_T29VPK_A026733_20220419T121350\\\\IMG_DATA\\\\R20m\\\\T29VPK_20220419T121349_B8A_20m.jp2',\n",
       "   'SCL': 'Faroe Islands Satellite Data\\\\S2B_MSIL2A_20220419T121349\\\\S2B_MSIL2A_20220419T121349_N0400_R109_T29VPK_20220419T150207.SAFE\\\\GRANULE\\\\L2A_T29VPK_A026733_20220419T121350\\\\IMG_DATA\\\\R20m\\\\T29VPK_20220419T121349_SCL_20m.jp2',\n",
       "   'TCI': 'Faroe Islands Satellite Data\\\\S2B_MSIL2A_20220419T121349\\\\S2B_MSIL2A_20220419T121349_N0400_R109_T29VPK_20220419T150207.SAFE\\\\GRANULE\\\\L2A_T29VPK_A026733_20220419T121350\\\\IMG_DATA\\\\R20m\\\\T29VPK_20220419T121349_TCI_20m.jp2',\n",
       "   'WVP': 'Faroe Islands Satellite Data\\\\S2B_MSIL2A_20220419T121349\\\\S2B_MSIL2A_20220419T121349_N0400_R109_T29VPK_20220419T150207.SAFE\\\\GRANULE\\\\L2A_T29VPK_A026733_20220419T121350\\\\IMG_DATA\\\\R20m\\\\T29VPK_20220419T121349_WVP_20m.jp2'},\n",
       "  'R60m': {'AOT': 'Faroe Islands Satellite Data\\\\S2B_MSIL2A_20220419T121349\\\\S2B_MSIL2A_20220419T121349_N0400_R109_T29VPK_20220419T150207.SAFE\\\\GRANULE\\\\L2A_T29VPK_A026733_20220419T121350\\\\IMG_DATA\\\\R60m\\\\T29VPK_20220419T121349_AOT_60m.jp2',\n",
       "   'B01': 'Faroe Islands Satellite Data\\\\S2B_MSIL2A_20220419T121349\\\\S2B_MSIL2A_20220419T121349_N0400_R109_T29VPK_20220419T150207.SAFE\\\\GRANULE\\\\L2A_T29VPK_A026733_20220419T121350\\\\IMG_DATA\\\\R60m\\\\T29VPK_20220419T121349_B01_60m.jp2',\n",
       "   'B02': 'Faroe Islands Satellite Data\\\\S2B_MSIL2A_20220419T121349\\\\S2B_MSIL2A_20220419T121349_N0400_R109_T29VPK_20220419T150207.SAFE\\\\GRANULE\\\\L2A_T29VPK_A026733_20220419T121350\\\\IMG_DATA\\\\R60m\\\\T29VPK_20220419T121349_B02_60m.jp2',\n",
       "   'B03': 'Faroe Islands Satellite Data\\\\S2B_MSIL2A_20220419T121349\\\\S2B_MSIL2A_20220419T121349_N0400_R109_T29VPK_20220419T150207.SAFE\\\\GRANULE\\\\L2A_T29VPK_A026733_20220419T121350\\\\IMG_DATA\\\\R60m\\\\T29VPK_20220419T121349_B03_60m.jp2',\n",
       "   'B04': 'Faroe Islands Satellite Data\\\\S2B_MSIL2A_20220419T121349\\\\S2B_MSIL2A_20220419T121349_N0400_R109_T29VPK_20220419T150207.SAFE\\\\GRANULE\\\\L2A_T29VPK_A026733_20220419T121350\\\\IMG_DATA\\\\R60m\\\\T29VPK_20220419T121349_B04_60m.jp2',\n",
       "   'B05': 'Faroe Islands Satellite Data\\\\S2B_MSIL2A_20220419T121349\\\\S2B_MSIL2A_20220419T121349_N0400_R109_T29VPK_20220419T150207.SAFE\\\\GRANULE\\\\L2A_T29VPK_A026733_20220419T121350\\\\IMG_DATA\\\\R60m\\\\T29VPK_20220419T121349_B05_60m.jp2',\n",
       "   'B06': 'Faroe Islands Satellite Data\\\\S2B_MSIL2A_20220419T121349\\\\S2B_MSIL2A_20220419T121349_N0400_R109_T29VPK_20220419T150207.SAFE\\\\GRANULE\\\\L2A_T29VPK_A026733_20220419T121350\\\\IMG_DATA\\\\R60m\\\\T29VPK_20220419T121349_B06_60m.jp2',\n",
       "   'B07': 'Faroe Islands Satellite Data\\\\S2B_MSIL2A_20220419T121349\\\\S2B_MSIL2A_20220419T121349_N0400_R109_T29VPK_20220419T150207.SAFE\\\\GRANULE\\\\L2A_T29VPK_A026733_20220419T121350\\\\IMG_DATA\\\\R60m\\\\T29VPK_20220419T121349_B07_60m.jp2',\n",
       "   'B09': 'Faroe Islands Satellite Data\\\\S2B_MSIL2A_20220419T121349\\\\S2B_MSIL2A_20220419T121349_N0400_R109_T29VPK_20220419T150207.SAFE\\\\GRANULE\\\\L2A_T29VPK_A026733_20220419T121350\\\\IMG_DATA\\\\R60m\\\\T29VPK_20220419T121349_B09_60m.jp2',\n",
       "   'B11': 'Faroe Islands Satellite Data\\\\S2B_MSIL2A_20220419T121349\\\\S2B_MSIL2A_20220419T121349_N0400_R109_T29VPK_20220419T150207.SAFE\\\\GRANULE\\\\L2A_T29VPK_A026733_20220419T121350\\\\IMG_DATA\\\\R60m\\\\T29VPK_20220419T121349_B11_60m.jp2',\n",
       "   'B12': 'Faroe Islands Satellite Data\\\\S2B_MSIL2A_20220419T121349\\\\S2B_MSIL2A_20220419T121349_N0400_R109_T29VPK_20220419T150207.SAFE\\\\GRANULE\\\\L2A_T29VPK_A026733_20220419T121350\\\\IMG_DATA\\\\R60m\\\\T29VPK_20220419T121349_B12_60m.jp2',\n",
       "   'B8A': 'Faroe Islands Satellite Data\\\\S2B_MSIL2A_20220419T121349\\\\S2B_MSIL2A_20220419T121349_N0400_R109_T29VPK_20220419T150207.SAFE\\\\GRANULE\\\\L2A_T29VPK_A026733_20220419T121350\\\\IMG_DATA\\\\R60m\\\\T29VPK_20220419T121349_B8A_60m.jp2',\n",
       "   'SCL': 'Faroe Islands Satellite Data\\\\S2B_MSIL2A_20220419T121349\\\\S2B_MSIL2A_20220419T121349_N0400_R109_T29VPK_20220419T150207.SAFE\\\\GRANULE\\\\L2A_T29VPK_A026733_20220419T121350\\\\IMG_DATA\\\\R60m\\\\T29VPK_20220419T121349_SCL_60m.jp2',\n",
       "   'TCI': 'Faroe Islands Satellite Data\\\\S2B_MSIL2A_20220419T121349\\\\S2B_MSIL2A_20220419T121349_N0400_R109_T29VPK_20220419T150207.SAFE\\\\GRANULE\\\\L2A_T29VPK_A026733_20220419T121350\\\\IMG_DATA\\\\R60m\\\\T29VPK_20220419T121349_TCI_60m.jp2',\n",
       "   'WVP': 'Faroe Islands Satellite Data\\\\S2B_MSIL2A_20220419T121349\\\\S2B_MSIL2A_20220419T121349_N0400_R109_T29VPK_20220419T150207.SAFE\\\\GRANULE\\\\L2A_T29VPK_A026733_20220419T121350\\\\IMG_DATA\\\\R60m\\\\T29VPK_20220419T121349_WVP_60m.jp2'}},\n",
       " {'img_folder': 'S2B_MSIL2A_20220705T120359',\n",
       "  'img_date': '20220705',\n",
       "  'img_time': '120359',\n",
       "  'R10m': {'AOT': 'Faroe Islands Satellite Data\\\\S2B_MSIL2A_20220705T120359\\\\S2B_MSIL2A_20220705T120359_N0400_R066_T30VUQ_20220705T160213.SAFE\\\\GRANULE\\\\L2A_T30VUQ_A027834_20220705T120402\\\\IMG_DATA\\\\R10m\\\\T30VUQ_20220705T120359_AOT_10m.jp2',\n",
       "   'B02': 'Faroe Islands Satellite Data\\\\S2B_MSIL2A_20220705T120359\\\\S2B_MSIL2A_20220705T120359_N0400_R066_T30VUQ_20220705T160213.SAFE\\\\GRANULE\\\\L2A_T30VUQ_A027834_20220705T120402\\\\IMG_DATA\\\\R10m\\\\T30VUQ_20220705T120359_B02_10m.jp2',\n",
       "   'B03': 'Faroe Islands Satellite Data\\\\S2B_MSIL2A_20220705T120359\\\\S2B_MSIL2A_20220705T120359_N0400_R066_T30VUQ_20220705T160213.SAFE\\\\GRANULE\\\\L2A_T30VUQ_A027834_20220705T120402\\\\IMG_DATA\\\\R10m\\\\T30VUQ_20220705T120359_B03_10m.jp2',\n",
       "   'B04': 'Faroe Islands Satellite Data\\\\S2B_MSIL2A_20220705T120359\\\\S2B_MSIL2A_20220705T120359_N0400_R066_T30VUQ_20220705T160213.SAFE\\\\GRANULE\\\\L2A_T30VUQ_A027834_20220705T120402\\\\IMG_DATA\\\\R10m\\\\T30VUQ_20220705T120359_B04_10m.jp2',\n",
       "   'B08': 'Faroe Islands Satellite Data\\\\S2B_MSIL2A_20220705T120359\\\\S2B_MSIL2A_20220705T120359_N0400_R066_T30VUQ_20220705T160213.SAFE\\\\GRANULE\\\\L2A_T30VUQ_A027834_20220705T120402\\\\IMG_DATA\\\\R10m\\\\T30VUQ_20220705T120359_B08_10m.jp2',\n",
       "   'TCI': 'Faroe Islands Satellite Data\\\\S2B_MSIL2A_20220705T120359\\\\S2B_MSIL2A_20220705T120359_N0400_R066_T30VUQ_20220705T160213.SAFE\\\\GRANULE\\\\L2A_T30VUQ_A027834_20220705T120402\\\\IMG_DATA\\\\R10m\\\\T30VUQ_20220705T120359_TCI_10m.jp2',\n",
       "   'WVP': 'Faroe Islands Satellite Data\\\\S2B_MSIL2A_20220705T120359\\\\S2B_MSIL2A_20220705T120359_N0400_R066_T30VUQ_20220705T160213.SAFE\\\\GRANULE\\\\L2A_T30VUQ_A027834_20220705T120402\\\\IMG_DATA\\\\R10m\\\\T30VUQ_20220705T120359_WVP_10m.jp2'},\n",
       "  'R20m': {'AOT': 'Faroe Islands Satellite Data\\\\S2B_MSIL2A_20220705T120359\\\\S2B_MSIL2A_20220705T120359_N0400_R066_T30VUQ_20220705T160213.SAFE\\\\GRANULE\\\\L2A_T30VUQ_A027834_20220705T120402\\\\IMG_DATA\\\\R20m\\\\T30VUQ_20220705T120359_AOT_20m.jp2',\n",
       "   'B01': 'Faroe Islands Satellite Data\\\\S2B_MSIL2A_20220705T120359\\\\S2B_MSIL2A_20220705T120359_N0400_R066_T30VUQ_20220705T160213.SAFE\\\\GRANULE\\\\L2A_T30VUQ_A027834_20220705T120402\\\\IMG_DATA\\\\R20m\\\\T30VUQ_20220705T120359_B01_20m.jp2',\n",
       "   'B02': 'Faroe Islands Satellite Data\\\\S2B_MSIL2A_20220705T120359\\\\S2B_MSIL2A_20220705T120359_N0400_R066_T30VUQ_20220705T160213.SAFE\\\\GRANULE\\\\L2A_T30VUQ_A027834_20220705T120402\\\\IMG_DATA\\\\R20m\\\\T30VUQ_20220705T120359_B02_20m.jp2',\n",
       "   'B03': 'Faroe Islands Satellite Data\\\\S2B_MSIL2A_20220705T120359\\\\S2B_MSIL2A_20220705T120359_N0400_R066_T30VUQ_20220705T160213.SAFE\\\\GRANULE\\\\L2A_T30VUQ_A027834_20220705T120402\\\\IMG_DATA\\\\R20m\\\\T30VUQ_20220705T120359_B03_20m.jp2',\n",
       "   'B04': 'Faroe Islands Satellite Data\\\\S2B_MSIL2A_20220705T120359\\\\S2B_MSIL2A_20220705T120359_N0400_R066_T30VUQ_20220705T160213.SAFE\\\\GRANULE\\\\L2A_T30VUQ_A027834_20220705T120402\\\\IMG_DATA\\\\R20m\\\\T30VUQ_20220705T120359_B04_20m.jp2',\n",
       "   'B05': 'Faroe Islands Satellite Data\\\\S2B_MSIL2A_20220705T120359\\\\S2B_MSIL2A_20220705T120359_N0400_R066_T30VUQ_20220705T160213.SAFE\\\\GRANULE\\\\L2A_T30VUQ_A027834_20220705T120402\\\\IMG_DATA\\\\R20m\\\\T30VUQ_20220705T120359_B05_20m.jp2',\n",
       "   'B06': 'Faroe Islands Satellite Data\\\\S2B_MSIL2A_20220705T120359\\\\S2B_MSIL2A_20220705T120359_N0400_R066_T30VUQ_20220705T160213.SAFE\\\\GRANULE\\\\L2A_T30VUQ_A027834_20220705T120402\\\\IMG_DATA\\\\R20m\\\\T30VUQ_20220705T120359_B06_20m.jp2',\n",
       "   'B07': 'Faroe Islands Satellite Data\\\\S2B_MSIL2A_20220705T120359\\\\S2B_MSIL2A_20220705T120359_N0400_R066_T30VUQ_20220705T160213.SAFE\\\\GRANULE\\\\L2A_T30VUQ_A027834_20220705T120402\\\\IMG_DATA\\\\R20m\\\\T30VUQ_20220705T120359_B07_20m.jp2',\n",
       "   'B11': 'Faroe Islands Satellite Data\\\\S2B_MSIL2A_20220705T120359\\\\S2B_MSIL2A_20220705T120359_N0400_R066_T30VUQ_20220705T160213.SAFE\\\\GRANULE\\\\L2A_T30VUQ_A027834_20220705T120402\\\\IMG_DATA\\\\R20m\\\\T30VUQ_20220705T120359_B11_20m.jp2',\n",
       "   'B12': 'Faroe Islands Satellite Data\\\\S2B_MSIL2A_20220705T120359\\\\S2B_MSIL2A_20220705T120359_N0400_R066_T30VUQ_20220705T160213.SAFE\\\\GRANULE\\\\L2A_T30VUQ_A027834_20220705T120402\\\\IMG_DATA\\\\R20m\\\\T30VUQ_20220705T120359_B12_20m.jp2',\n",
       "   'B8A': 'Faroe Islands Satellite Data\\\\S2B_MSIL2A_20220705T120359\\\\S2B_MSIL2A_20220705T120359_N0400_R066_T30VUQ_20220705T160213.SAFE\\\\GRANULE\\\\L2A_T30VUQ_A027834_20220705T120402\\\\IMG_DATA\\\\R20m\\\\T30VUQ_20220705T120359_B8A_20m.jp2',\n",
       "   'SCL': 'Faroe Islands Satellite Data\\\\S2B_MSIL2A_20220705T120359\\\\S2B_MSIL2A_20220705T120359_N0400_R066_T30VUQ_20220705T160213.SAFE\\\\GRANULE\\\\L2A_T30VUQ_A027834_20220705T120402\\\\IMG_DATA\\\\R20m\\\\T30VUQ_20220705T120359_SCL_20m.jp2',\n",
       "   'TCI': 'Faroe Islands Satellite Data\\\\S2B_MSIL2A_20220705T120359\\\\S2B_MSIL2A_20220705T120359_N0400_R066_T30VUQ_20220705T160213.SAFE\\\\GRANULE\\\\L2A_T30VUQ_A027834_20220705T120402\\\\IMG_DATA\\\\R20m\\\\T30VUQ_20220705T120359_TCI_20m.jp2',\n",
       "   'WVP': 'Faroe Islands Satellite Data\\\\S2B_MSIL2A_20220705T120359\\\\S2B_MSIL2A_20220705T120359_N0400_R066_T30VUQ_20220705T160213.SAFE\\\\GRANULE\\\\L2A_T30VUQ_A027834_20220705T120402\\\\IMG_DATA\\\\R20m\\\\T30VUQ_20220705T120359_WVP_20m.jp2'},\n",
       "  'R60m': {'AOT': 'Faroe Islands Satellite Data\\\\S2B_MSIL2A_20220705T120359\\\\S2B_MSIL2A_20220705T120359_N0400_R066_T30VUQ_20220705T160213.SAFE\\\\GRANULE\\\\L2A_T30VUQ_A027834_20220705T120402\\\\IMG_DATA\\\\R60m\\\\T30VUQ_20220705T120359_AOT_60m.jp2',\n",
       "   'B01': 'Faroe Islands Satellite Data\\\\S2B_MSIL2A_20220705T120359\\\\S2B_MSIL2A_20220705T120359_N0400_R066_T30VUQ_20220705T160213.SAFE\\\\GRANULE\\\\L2A_T30VUQ_A027834_20220705T120402\\\\IMG_DATA\\\\R60m\\\\T30VUQ_20220705T120359_B01_60m.jp2',\n",
       "   'B02': 'Faroe Islands Satellite Data\\\\S2B_MSIL2A_20220705T120359\\\\S2B_MSIL2A_20220705T120359_N0400_R066_T30VUQ_20220705T160213.SAFE\\\\GRANULE\\\\L2A_T30VUQ_A027834_20220705T120402\\\\IMG_DATA\\\\R60m\\\\T30VUQ_20220705T120359_B02_60m.jp2',\n",
       "   'B03': 'Faroe Islands Satellite Data\\\\S2B_MSIL2A_20220705T120359\\\\S2B_MSIL2A_20220705T120359_N0400_R066_T30VUQ_20220705T160213.SAFE\\\\GRANULE\\\\L2A_T30VUQ_A027834_20220705T120402\\\\IMG_DATA\\\\R60m\\\\T30VUQ_20220705T120359_B03_60m.jp2',\n",
       "   'B04': 'Faroe Islands Satellite Data\\\\S2B_MSIL2A_20220705T120359\\\\S2B_MSIL2A_20220705T120359_N0400_R066_T30VUQ_20220705T160213.SAFE\\\\GRANULE\\\\L2A_T30VUQ_A027834_20220705T120402\\\\IMG_DATA\\\\R60m\\\\T30VUQ_20220705T120359_B04_60m.jp2',\n",
       "   'B05': 'Faroe Islands Satellite Data\\\\S2B_MSIL2A_20220705T120359\\\\S2B_MSIL2A_20220705T120359_N0400_R066_T30VUQ_20220705T160213.SAFE\\\\GRANULE\\\\L2A_T30VUQ_A027834_20220705T120402\\\\IMG_DATA\\\\R60m\\\\T30VUQ_20220705T120359_B05_60m.jp2',\n",
       "   'B06': 'Faroe Islands Satellite Data\\\\S2B_MSIL2A_20220705T120359\\\\S2B_MSIL2A_20220705T120359_N0400_R066_T30VUQ_20220705T160213.SAFE\\\\GRANULE\\\\L2A_T30VUQ_A027834_20220705T120402\\\\IMG_DATA\\\\R60m\\\\T30VUQ_20220705T120359_B06_60m.jp2',\n",
       "   'B07': 'Faroe Islands Satellite Data\\\\S2B_MSIL2A_20220705T120359\\\\S2B_MSIL2A_20220705T120359_N0400_R066_T30VUQ_20220705T160213.SAFE\\\\GRANULE\\\\L2A_T30VUQ_A027834_20220705T120402\\\\IMG_DATA\\\\R60m\\\\T30VUQ_20220705T120359_B07_60m.jp2',\n",
       "   'B09': 'Faroe Islands Satellite Data\\\\S2B_MSIL2A_20220705T120359\\\\S2B_MSIL2A_20220705T120359_N0400_R066_T30VUQ_20220705T160213.SAFE\\\\GRANULE\\\\L2A_T30VUQ_A027834_20220705T120402\\\\IMG_DATA\\\\R60m\\\\T30VUQ_20220705T120359_B09_60m.jp2',\n",
       "   'B11': 'Faroe Islands Satellite Data\\\\S2B_MSIL2A_20220705T120359\\\\S2B_MSIL2A_20220705T120359_N0400_R066_T30VUQ_20220705T160213.SAFE\\\\GRANULE\\\\L2A_T30VUQ_A027834_20220705T120402\\\\IMG_DATA\\\\R60m\\\\T30VUQ_20220705T120359_B11_60m.jp2',\n",
       "   'B12': 'Faroe Islands Satellite Data\\\\S2B_MSIL2A_20220705T120359\\\\S2B_MSIL2A_20220705T120359_N0400_R066_T30VUQ_20220705T160213.SAFE\\\\GRANULE\\\\L2A_T30VUQ_A027834_20220705T120402\\\\IMG_DATA\\\\R60m\\\\T30VUQ_20220705T120359_B12_60m.jp2',\n",
       "   'B8A': 'Faroe Islands Satellite Data\\\\S2B_MSIL2A_20220705T120359\\\\S2B_MSIL2A_20220705T120359_N0400_R066_T30VUQ_20220705T160213.SAFE\\\\GRANULE\\\\L2A_T30VUQ_A027834_20220705T120402\\\\IMG_DATA\\\\R60m\\\\T30VUQ_20220705T120359_B8A_60m.jp2',\n",
       "   'SCL': 'Faroe Islands Satellite Data\\\\S2B_MSIL2A_20220705T120359\\\\S2B_MSIL2A_20220705T120359_N0400_R066_T30VUQ_20220705T160213.SAFE\\\\GRANULE\\\\L2A_T30VUQ_A027834_20220705T120402\\\\IMG_DATA\\\\R60m\\\\T30VUQ_20220705T120359_SCL_60m.jp2',\n",
       "   'TCI': 'Faroe Islands Satellite Data\\\\S2B_MSIL2A_20220705T120359\\\\S2B_MSIL2A_20220705T120359_N0400_R066_T30VUQ_20220705T160213.SAFE\\\\GRANULE\\\\L2A_T30VUQ_A027834_20220705T120402\\\\IMG_DATA\\\\R60m\\\\T30VUQ_20220705T120359_TCI_60m.jp2',\n",
       "   'WVP': 'Faroe Islands Satellite Data\\\\S2B_MSIL2A_20220705T120359\\\\S2B_MSIL2A_20220705T120359_N0400_R066_T30VUQ_20220705T160213.SAFE\\\\GRANULE\\\\L2A_T30VUQ_A027834_20220705T120402\\\\IMG_DATA\\\\R60m\\\\T30VUQ_20220705T120359_WVP_60m.jp2'}},\n",
       " {'img_folder': 'S2B_MSIL2A_20220831T115359',\n",
       "  'img_date': '20220831',\n",
       "  'img_time': '115359',\n",
       "  'R10m': {'AOT': 'Faroe Islands Satellite Data\\\\S2B_MSIL2A_20220831T115359\\\\S2B_MSIL2A_20220831T115359_N0400_R023_T29VPK_20220831T141847.SAFE\\\\GRANULE\\\\L2A_T29VPK_A028649_20220831T115400\\\\IMG_DATA\\\\R10m\\\\T29VPK_20220831T115359_AOT_10m.jp2',\n",
       "   'B02': 'Faroe Islands Satellite Data\\\\S2B_MSIL2A_20220831T115359\\\\S2B_MSIL2A_20220831T115359_N0400_R023_T29VPK_20220831T141847.SAFE\\\\GRANULE\\\\L2A_T29VPK_A028649_20220831T115400\\\\IMG_DATA\\\\R10m\\\\T29VPK_20220831T115359_B02_10m.jp2',\n",
       "   'B03': 'Faroe Islands Satellite Data\\\\S2B_MSIL2A_20220831T115359\\\\S2B_MSIL2A_20220831T115359_N0400_R023_T29VPK_20220831T141847.SAFE\\\\GRANULE\\\\L2A_T29VPK_A028649_20220831T115400\\\\IMG_DATA\\\\R10m\\\\T29VPK_20220831T115359_B03_10m.jp2',\n",
       "   'B04': 'Faroe Islands Satellite Data\\\\S2B_MSIL2A_20220831T115359\\\\S2B_MSIL2A_20220831T115359_N0400_R023_T29VPK_20220831T141847.SAFE\\\\GRANULE\\\\L2A_T29VPK_A028649_20220831T115400\\\\IMG_DATA\\\\R10m\\\\T29VPK_20220831T115359_B04_10m.jp2',\n",
       "   'B08': 'Faroe Islands Satellite Data\\\\S2B_MSIL2A_20220831T115359\\\\S2B_MSIL2A_20220831T115359_N0400_R023_T29VPK_20220831T141847.SAFE\\\\GRANULE\\\\L2A_T29VPK_A028649_20220831T115400\\\\IMG_DATA\\\\R10m\\\\T29VPK_20220831T115359_B08_10m.jp2',\n",
       "   'TCI': 'Faroe Islands Satellite Data\\\\S2B_MSIL2A_20220831T115359\\\\S2B_MSIL2A_20220831T115359_N0400_R023_T29VPK_20220831T141847.SAFE\\\\GRANULE\\\\L2A_T29VPK_A028649_20220831T115400\\\\IMG_DATA\\\\R10m\\\\T29VPK_20220831T115359_TCI_10m.jp2',\n",
       "   'WVP': 'Faroe Islands Satellite Data\\\\S2B_MSIL2A_20220831T115359\\\\S2B_MSIL2A_20220831T115359_N0400_R023_T29VPK_20220831T141847.SAFE\\\\GRANULE\\\\L2A_T29VPK_A028649_20220831T115400\\\\IMG_DATA\\\\R10m\\\\T29VPK_20220831T115359_WVP_10m.jp2'},\n",
       "  'R20m': {'AOT': 'Faroe Islands Satellite Data\\\\S2B_MSIL2A_20220831T115359\\\\S2B_MSIL2A_20220831T115359_N0400_R023_T29VPK_20220831T141847.SAFE\\\\GRANULE\\\\L2A_T29VPK_A028649_20220831T115400\\\\IMG_DATA\\\\R20m\\\\T29VPK_20220831T115359_AOT_20m.jp2',\n",
       "   'B01': 'Faroe Islands Satellite Data\\\\S2B_MSIL2A_20220831T115359\\\\S2B_MSIL2A_20220831T115359_N0400_R023_T29VPK_20220831T141847.SAFE\\\\GRANULE\\\\L2A_T29VPK_A028649_20220831T115400\\\\IMG_DATA\\\\R20m\\\\T29VPK_20220831T115359_B01_20m.jp2',\n",
       "   'B02': 'Faroe Islands Satellite Data\\\\S2B_MSIL2A_20220831T115359\\\\S2B_MSIL2A_20220831T115359_N0400_R023_T29VPK_20220831T141847.SAFE\\\\GRANULE\\\\L2A_T29VPK_A028649_20220831T115400\\\\IMG_DATA\\\\R20m\\\\T29VPK_20220831T115359_B02_20m.jp2',\n",
       "   'B03': 'Faroe Islands Satellite Data\\\\S2B_MSIL2A_20220831T115359\\\\S2B_MSIL2A_20220831T115359_N0400_R023_T29VPK_20220831T141847.SAFE\\\\GRANULE\\\\L2A_T29VPK_A028649_20220831T115400\\\\IMG_DATA\\\\R20m\\\\T29VPK_20220831T115359_B03_20m.jp2',\n",
       "   'B04': 'Faroe Islands Satellite Data\\\\S2B_MSIL2A_20220831T115359\\\\S2B_MSIL2A_20220831T115359_N0400_R023_T29VPK_20220831T141847.SAFE\\\\GRANULE\\\\L2A_T29VPK_A028649_20220831T115400\\\\IMG_DATA\\\\R20m\\\\T29VPK_20220831T115359_B04_20m.jp2',\n",
       "   'B05': 'Faroe Islands Satellite Data\\\\S2B_MSIL2A_20220831T115359\\\\S2B_MSIL2A_20220831T115359_N0400_R023_T29VPK_20220831T141847.SAFE\\\\GRANULE\\\\L2A_T29VPK_A028649_20220831T115400\\\\IMG_DATA\\\\R20m\\\\T29VPK_20220831T115359_B05_20m.jp2',\n",
       "   'B06': 'Faroe Islands Satellite Data\\\\S2B_MSIL2A_20220831T115359\\\\S2B_MSIL2A_20220831T115359_N0400_R023_T29VPK_20220831T141847.SAFE\\\\GRANULE\\\\L2A_T29VPK_A028649_20220831T115400\\\\IMG_DATA\\\\R20m\\\\T29VPK_20220831T115359_B06_20m.jp2',\n",
       "   'B07': 'Faroe Islands Satellite Data\\\\S2B_MSIL2A_20220831T115359\\\\S2B_MSIL2A_20220831T115359_N0400_R023_T29VPK_20220831T141847.SAFE\\\\GRANULE\\\\L2A_T29VPK_A028649_20220831T115400\\\\IMG_DATA\\\\R20m\\\\T29VPK_20220831T115359_B07_20m.jp2',\n",
       "   'B11': 'Faroe Islands Satellite Data\\\\S2B_MSIL2A_20220831T115359\\\\S2B_MSIL2A_20220831T115359_N0400_R023_T29VPK_20220831T141847.SAFE\\\\GRANULE\\\\L2A_T29VPK_A028649_20220831T115400\\\\IMG_DATA\\\\R20m\\\\T29VPK_20220831T115359_B11_20m.jp2',\n",
       "   'B12': 'Faroe Islands Satellite Data\\\\S2B_MSIL2A_20220831T115359\\\\S2B_MSIL2A_20220831T115359_N0400_R023_T29VPK_20220831T141847.SAFE\\\\GRANULE\\\\L2A_T29VPK_A028649_20220831T115400\\\\IMG_DATA\\\\R20m\\\\T29VPK_20220831T115359_B12_20m.jp2',\n",
       "   'B8A': 'Faroe Islands Satellite Data\\\\S2B_MSIL2A_20220831T115359\\\\S2B_MSIL2A_20220831T115359_N0400_R023_T29VPK_20220831T141847.SAFE\\\\GRANULE\\\\L2A_T29VPK_A028649_20220831T115400\\\\IMG_DATA\\\\R20m\\\\T29VPK_20220831T115359_B8A_20m.jp2',\n",
       "   'SCL': 'Faroe Islands Satellite Data\\\\S2B_MSIL2A_20220831T115359\\\\S2B_MSIL2A_20220831T115359_N0400_R023_T29VPK_20220831T141847.SAFE\\\\GRANULE\\\\L2A_T29VPK_A028649_20220831T115400\\\\IMG_DATA\\\\R20m\\\\T29VPK_20220831T115359_SCL_20m.jp2',\n",
       "   'TCI': 'Faroe Islands Satellite Data\\\\S2B_MSIL2A_20220831T115359\\\\S2B_MSIL2A_20220831T115359_N0400_R023_T29VPK_20220831T141847.SAFE\\\\GRANULE\\\\L2A_T29VPK_A028649_20220831T115400\\\\IMG_DATA\\\\R20m\\\\T29VPK_20220831T115359_TCI_20m.jp2',\n",
       "   'WVP': 'Faroe Islands Satellite Data\\\\S2B_MSIL2A_20220831T115359\\\\S2B_MSIL2A_20220831T115359_N0400_R023_T29VPK_20220831T141847.SAFE\\\\GRANULE\\\\L2A_T29VPK_A028649_20220831T115400\\\\IMG_DATA\\\\R20m\\\\T29VPK_20220831T115359_WVP_20m.jp2'},\n",
       "  'R60m': {'AOT': 'Faroe Islands Satellite Data\\\\S2B_MSIL2A_20220831T115359\\\\S2B_MSIL2A_20220831T115359_N0400_R023_T29VPK_20220831T141847.SAFE\\\\GRANULE\\\\L2A_T29VPK_A028649_20220831T115400\\\\IMG_DATA\\\\R60m\\\\T29VPK_20220831T115359_AOT_60m.jp2',\n",
       "   'B01': 'Faroe Islands Satellite Data\\\\S2B_MSIL2A_20220831T115359\\\\S2B_MSIL2A_20220831T115359_N0400_R023_T29VPK_20220831T141847.SAFE\\\\GRANULE\\\\L2A_T29VPK_A028649_20220831T115400\\\\IMG_DATA\\\\R60m\\\\T29VPK_20220831T115359_B01_60m.jp2',\n",
       "   'B02': 'Faroe Islands Satellite Data\\\\S2B_MSIL2A_20220831T115359\\\\S2B_MSIL2A_20220831T115359_N0400_R023_T29VPK_20220831T141847.SAFE\\\\GRANULE\\\\L2A_T29VPK_A028649_20220831T115400\\\\IMG_DATA\\\\R60m\\\\T29VPK_20220831T115359_B02_60m.jp2',\n",
       "   'B03': 'Faroe Islands Satellite Data\\\\S2B_MSIL2A_20220831T115359\\\\S2B_MSIL2A_20220831T115359_N0400_R023_T29VPK_20220831T141847.SAFE\\\\GRANULE\\\\L2A_T29VPK_A028649_20220831T115400\\\\IMG_DATA\\\\R60m\\\\T29VPK_20220831T115359_B03_60m.jp2',\n",
       "   'B04': 'Faroe Islands Satellite Data\\\\S2B_MSIL2A_20220831T115359\\\\S2B_MSIL2A_20220831T115359_N0400_R023_T29VPK_20220831T141847.SAFE\\\\GRANULE\\\\L2A_T29VPK_A028649_20220831T115400\\\\IMG_DATA\\\\R60m\\\\T29VPK_20220831T115359_B04_60m.jp2',\n",
       "   'B05': 'Faroe Islands Satellite Data\\\\S2B_MSIL2A_20220831T115359\\\\S2B_MSIL2A_20220831T115359_N0400_R023_T29VPK_20220831T141847.SAFE\\\\GRANULE\\\\L2A_T29VPK_A028649_20220831T115400\\\\IMG_DATA\\\\R60m\\\\T29VPK_20220831T115359_B05_60m.jp2',\n",
       "   'B06': 'Faroe Islands Satellite Data\\\\S2B_MSIL2A_20220831T115359\\\\S2B_MSIL2A_20220831T115359_N0400_R023_T29VPK_20220831T141847.SAFE\\\\GRANULE\\\\L2A_T29VPK_A028649_20220831T115400\\\\IMG_DATA\\\\R60m\\\\T29VPK_20220831T115359_B06_60m.jp2',\n",
       "   'B07': 'Faroe Islands Satellite Data\\\\S2B_MSIL2A_20220831T115359\\\\S2B_MSIL2A_20220831T115359_N0400_R023_T29VPK_20220831T141847.SAFE\\\\GRANULE\\\\L2A_T29VPK_A028649_20220831T115400\\\\IMG_DATA\\\\R60m\\\\T29VPK_20220831T115359_B07_60m.jp2',\n",
       "   'B09': 'Faroe Islands Satellite Data\\\\S2B_MSIL2A_20220831T115359\\\\S2B_MSIL2A_20220831T115359_N0400_R023_T29VPK_20220831T141847.SAFE\\\\GRANULE\\\\L2A_T29VPK_A028649_20220831T115400\\\\IMG_DATA\\\\R60m\\\\T29VPK_20220831T115359_B09_60m.jp2',\n",
       "   'B11': 'Faroe Islands Satellite Data\\\\S2B_MSIL2A_20220831T115359\\\\S2B_MSIL2A_20220831T115359_N0400_R023_T29VPK_20220831T141847.SAFE\\\\GRANULE\\\\L2A_T29VPK_A028649_20220831T115400\\\\IMG_DATA\\\\R60m\\\\T29VPK_20220831T115359_B11_60m.jp2',\n",
       "   'B12': 'Faroe Islands Satellite Data\\\\S2B_MSIL2A_20220831T115359\\\\S2B_MSIL2A_20220831T115359_N0400_R023_T29VPK_20220831T141847.SAFE\\\\GRANULE\\\\L2A_T29VPK_A028649_20220831T115400\\\\IMG_DATA\\\\R60m\\\\T29VPK_20220831T115359_B12_60m.jp2',\n",
       "   'B8A': 'Faroe Islands Satellite Data\\\\S2B_MSIL2A_20220831T115359\\\\S2B_MSIL2A_20220831T115359_N0400_R023_T29VPK_20220831T141847.SAFE\\\\GRANULE\\\\L2A_T29VPK_A028649_20220831T115400\\\\IMG_DATA\\\\R60m\\\\T29VPK_20220831T115359_B8A_60m.jp2',\n",
       "   'SCL': 'Faroe Islands Satellite Data\\\\S2B_MSIL2A_20220831T115359\\\\S2B_MSIL2A_20220831T115359_N0400_R023_T29VPK_20220831T141847.SAFE\\\\GRANULE\\\\L2A_T29VPK_A028649_20220831T115400\\\\IMG_DATA\\\\R60m\\\\T29VPK_20220831T115359_SCL_60m.jp2',\n",
       "   'TCI': 'Faroe Islands Satellite Data\\\\S2B_MSIL2A_20220831T115359\\\\S2B_MSIL2A_20220831T115359_N0400_R023_T29VPK_20220831T141847.SAFE\\\\GRANULE\\\\L2A_T29VPK_A028649_20220831T115400\\\\IMG_DATA\\\\R60m\\\\T29VPK_20220831T115359_TCI_60m.jp2',\n",
       "   'WVP': 'Faroe Islands Satellite Data\\\\S2B_MSIL2A_20220831T115359\\\\S2B_MSIL2A_20220831T115359_N0400_R023_T29VPK_20220831T141847.SAFE\\\\GRANULE\\\\L2A_T29VPK_A028649_20220831T115400\\\\IMG_DATA\\\\R60m\\\\T29VPK_20220831T115359_WVP_60m.jp2'}}]"
      ]
     },
     "execution_count": 23,
     "metadata": {},
     "output_type": "execute_result"
    }
   ],
   "source": [
    "all_img_dicts"
   ]
  },
  {
   "cell_type": "code",
   "execution_count": 24,
   "id": "e3bc0543",
   "metadata": {},
   "outputs": [],
   "source": [
    "img_band_dict = all_img_dicts[0]"
   ]
  },
  {
   "cell_type": "markdown",
   "id": "035fbdd7",
   "metadata": {},
   "source": [
    "## Import Band Data"
   ]
  },
  {
   "cell_type": "markdown",
   "id": "ffe8307c",
   "metadata": {},
   "source": [
    "We use Rasterio to import the bands in as 2D arrays.\n",
    "\n",
    "Note that Rasterio = uses top LHS (img in from the internet)\n",
    "\n",
    "TODO: Find picture of this to explain"
   ]
  },
  {
   "cell_type": "code",
   "execution_count": null,
   "id": "b550c2cb",
   "metadata": {},
   "outputs": [],
   "source": [
    "## function that loads in a raster \n",
    "\n",
    "\n",
    "    \n",
    "## stack bands for calculation/manipulation\n",
    "np.pstack\n",
    "\n",
    "## normalisation??\n",
    "\n",
    "## Perform calcs"
   ]
  },
  {
   "cell_type": "code",
   "execution_count": 121,
   "id": "e27fd414",
   "metadata": {},
   "outputs": [
    {
     "name": "stdout",
     "output_type": "stream",
     "text": [
      "Extracting band file\n",
      "Extracting band meta\n",
      "--> # bands: 1\n",
      "--> datatype: uint16\n",
      "--> nodata: None\n",
      "--> height: 10980\n",
      "--> width: 10980\n"
     ]
    }
   ],
   "source": [
    "## function to extract a single band file\n",
    "## - Note won't extract all \n",
    "def get_band(filepath): \n",
    "    with rasterio.open(filepath) as f:\n",
    "        \n",
    "        print('Extracting band file')\n",
    "        band_img = f.read(1, masked=True)\n",
    "        \n",
    "        print('Extracting band meta')\n",
    "        band_img_meta = f.profile\n",
    "        \n",
    "        print('--> # bands:', band_img_meta['count'])\n",
    "        print('--> datatype:', band_img_meta['dtype'])\n",
    "        print('--> nodata:', band_img_meta['nodata'])\n",
    "        print('--> height:', band_img_meta['height'])\n",
    "        print('--> width:', band_img_meta['width'])\n",
    "        \n",
    "        return band_img     \n",
    "    \n",
    "        \n",
    "band_img = get_band(img_band_dict['R10m']['B02'])\n",
    "\n"
   ]
  },
  {
   "cell_type": "code",
   "execution_count": null,
   "id": "531b7dee",
   "metadata": {},
   "outputs": [],
   "source": []
  },
  {
   "cell_type": "code",
   "execution_count": 95,
   "id": "30c2daf7",
   "metadata": {},
   "outputs": [
    {
     "name": "stdout",
     "output_type": "stream",
     "text": [
      "driver : JP2OpenJPEG\n",
      "dtype : uint16\n",
      "nodata : None\n",
      "width : 10980\n",
      "height : 10980\n",
      "count : 1\n",
      "crs : EPSG:32630\n",
      "transform : | 10.00, 0.00, 300000.00|\n",
      "| 0.00,-10.00, 7000020.00|\n",
      "| 0.00, 0.00, 1.00|\n",
      "blockxsize : 1024\n",
      "blockysize : 1024\n",
      "tiled : True\n"
     ]
    }
   ],
   "source": [
    "# Understand Metadata: Explore metadata of file\n",
    "for i in band_img_meta.keys():\n",
    "    print(i,':', band_img_meta[i])"
   ]
  },
  {
   "cell_type": "markdown",
   "id": "f8adb5a7",
   "metadata": {},
   "source": [
    "Bands:\n",
    "    https://gisgeography.com/sentinel-2-bands-combinations/\n",
    "    \n",
    "    https://gdal.org/drivers/raster/sentinel2.html\n",
    "    \n",
    "AOT: Aerosol Optical Thickness\n",
    "WVP: Scene average water vapour\n",
    "TCI: True Colour Image (3 Band)"
   ]
  },
  {
   "cell_type": "code",
   "execution_count": 116,
   "id": "92a2c38c",
   "metadata": {},
   "outputs": [
    {
     "data": {
      "text/plain": [
       "dict_keys(['AOT', 'B01', 'B02', 'B03', 'B04', 'B05', 'B06', 'B07', 'B09', 'B11', 'B12', 'B8A', 'SCL', 'TCI', 'WVP'])"
      ]
     },
     "execution_count": 116,
     "metadata": {},
     "output_type": "execute_result"
    }
   ],
   "source": [
    "## Extract individual bands\n",
    "\n",
    "## 10m picture \n",
    "b10 = img_band_dict['R10m']['B02']\n",
    "g10 = img_band_dict['R10m']['B03']\n",
    "r10 = img_band_dict['R10m']['B04']\n",
    "n10 = img_band_dict['R10m']['B08']\n",
    "\n",
    "\n",
    "# 20m picture\n",
    "img_band_dict['R20m'].keys()\n",
    "\n",
    "\n",
    "\n",
    "# 60m picture\n",
    "img_band_dict['R60m'].keys()"
   ]
  },
  {
   "cell_type": "code",
   "execution_count": 105,
   "id": "04ab2d72",
   "metadata": {},
   "outputs": [
    {
     "name": "stdout",
     "output_type": "stream",
     "text": [
      "Number of bands in file: 3\n"
     ]
    }
   ],
   "source": [
    "## Example of extracting TCI (RGB) image \n",
    "\n",
    "# with rasterio.open(img_band_dict['R10m']['TCI']) as f:\n",
    "#     # Extract the band array (single array only = 1)\n",
    "#     print('Number of bands in file:',f.profile['count'])\n",
    "    \n",
    "#     band_img = f.read([1,2,3], masked=True)\n",
    "    "
   ]
  },
  {
   "cell_type": "code",
   "execution_count": null,
   "id": "13a84593",
   "metadata": {},
   "outputs": [],
   "source": [
    "## Create a 3-band raster (under the hood, this is a numpy ndarray)\n",
    "\n",
    "print('Creating Raster')\n",
    "rgb_10 = np.dstack([r10,g10,b10])\n",
    "\n",
    "print('Check datatype')\n",
    "# Bit depth"
   ]
  },
  {
   "cell_type": "markdown",
   "id": "0032692e",
   "metadata": {},
   "source": [
    "## Visualisation"
   ]
  },
  {
   "cell_type": "code",
   "execution_count": null,
   "id": "55ed4e47",
   "metadata": {},
   "outputs": [],
   "source": [
    "## Plot raster\n",
    "\n",
    "## Bit conversion if out of range"
   ]
  }
 ],
 "metadata": {
  "kernelspec": {
   "display_name": "satenv",
   "language": "python",
   "name": "satenv"
  },
  "language_info": {
   "codemirror_mode": {
    "name": "ipython",
    "version": 3
   },
   "file_extension": ".py",
   "mimetype": "text/x-python",
   "name": "python",
   "nbconvert_exporter": "python",
   "pygments_lexer": "ipython3",
   "version": "3.9.13"
  }
 },
 "nbformat": 4,
 "nbformat_minor": 5
}

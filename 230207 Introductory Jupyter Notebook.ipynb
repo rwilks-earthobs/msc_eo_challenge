{
 "cells": [
  {
   "cell_type": "markdown",
   "id": "impressive-movie",
   "metadata": {},
   "source": [
    "# SaxaVord EO Challenge"
   ]
  },
  {
   "cell_type": "markdown",
   "id": "compliant-giving",
   "metadata": {},
   "source": [
    "Welcome to your challenge: Focussing on an Area of Interest (AOI) over the Faroe Islands, you can look at either: \n",
    "\n",
    "* Quantify the extent of algae bloom changes, and their impact on nearby Salmon Fishing Farms\n",
    "* Quantify the extent of recent coastal erosion "
   ]
  },
  {
   "cell_type": "markdown",
   "id": "false-terminology",
   "metadata": {},
   "source": [
    "## Check Environment Active"
   ]
  },
  {
   "cell_type": "code",
   "execution_count": null,
   "id": "living-commissioner",
   "metadata": {},
   "outputs": [],
   "source": [
    "# Desktop UI:\n",
    "# It should also show this on the top RHS of your screen, below the LogOut button"
   ]
  },
  {
   "cell_type": "code",
   "execution_count": null,
   "id": "ancient-guitar",
   "metadata": {},
   "outputs": [],
   "source": [
    "# Conda\n",
    "#  -- Activate environment will show a '*' next to it\n",
    "!conda env list"
   ]
  },
  {
   "cell_type": "code",
   "execution_count": null,
   "id": "respective-stand",
   "metadata": {},
   "outputs": [],
   "source": [
    "# Pip\n",
    "!which pip\n",
    "!which python # This should point to a python inside folder of the virtual env"
   ]
  },
  {
   "cell_type": "markdown",
   "id": "biological-table",
   "metadata": {},
   "source": [
    "## Import Packages"
   ]
  },
  {
   "cell_type": "code",
   "execution_count": null,
   "id": "intense-video",
   "metadata": {},
   "outputs": [],
   "source": [
    "# Packages\n",
    "import os\n",
    "import glob\n",
    "import rasterio as rio\n",
    "import numpy as np\n",
    "import matplotlib.pyplot as plt"
   ]
  },
  {
   "cell_type": "code",
   "execution_count": null,
   "id": "statutory-fusion",
   "metadata": {},
   "outputs": [],
   "source": [
    "# Visualisation Params\n",
    "%matplotlib inline    # plots images in the Jupyter notebook cells\n",
    "%matplotlib qt5       # opens a seperate browser window to view images"
   ]
  },
  {
   "cell_type": "markdown",
   "id": "separated-paragraph",
   "metadata": {},
   "source": [
    "# Sentinel 2\n",
    "\n",
    "### The Data Folder Structure\n",
    "Satellite imagery products are folders which contain satellite imagery data in a standardised way, including standard naming conventions for folders etc. Please see the SaxaVord PDF for an explanation of the Sentinel 2 naming convention. \n",
    "\n",
    "A single image  product of a region at DateTime YYYYMMDD-HHMMSS is packaged in a folder with a hierarchical file structure. In our case this is:\n",
    "\n",
    "    |- S2A_MSIL2A_20220531T120411_N0400_R066_T30VUQ_20220531T183212 *folder for a single day-time image product*\n",
    "        |-S2A_MSIL2A_20220531T120411_N0400_R066_T30VUQ_20220531T183212.SAFE\n",
    "            |-GRANULE\n",
    "                |-L2A_T30VUQ_A036242_20220531T120405\n",
    "                    |-IMG_DATA\n",
    "                        |- R10m  *resolution folders*\n",
    "                            |-T30VUQ_20220531T120411_B02_10m.jp2 *individual band file*\n",
    "                            |-T30VUQ_20220531T120411_B03_10m.jp2\n",
    "                            |-...\n",
    "                            |-T30VUQ_20220531T120411_TCI_10m.jp2 *TCI = true color image, multi-band file *\n",
    "\n",
    "                        |- R20m\n",
    "                            |-T30VUQ_20220531T120411_B02_20m.jp2\n",
    "                            |-T30VUQ_20220531T120411_B03_20m.jp2\n",
    "                            |-...\n",
    "                        |- R60m\n",
    "                            |-T30VUQ_20220531T120411_B02_60m.jp2\n",
    "                            |-T30VUQ_20220531T120411_B03_60m.jp2\n",
    "                            |-...\n",
    "\n",
    "\n",
    "### Image Bands\n",
    "* True Colour Images (RGB) are comprised of 3 bands, Red, Green and Blue - the visible light section of the Electromagnetic Spectrum. \n",
    "\n",
    "* Satellite sensors cover a far broader section of this spectrum, and therefore capture a larger number of bands. \n",
    "\n",
    "* Different phenomena on earth and within the atmosphere react differently to wavelengths across the spectrum (e.g. different bands), allowing us to make inferences about what is occuring below.\n",
    "\n",
    "* Certain bands are therefore useful for different environmental analyses.\n",
    "\n",
    "* Below is a table of the bands that Sentinel 2 collects, their resolutions and descriptions (from https://gisgeography.com/sentinel-2-bands-combinations/).\n",
    "\n",
    "* More information about how the data is collected and the different bands can be found in the [Sentinel 2 user guide](https://sentinels.copernicus.eu/web/sentinel/user-guides/sentinel-2-msi) on the European Space Agency website.\n",
    "\n",
    "|Band | Resolution | Central wavelength | Description |\n",
    "|-----|------------|--------------------|-------------|\n",
    "|B1\t  |60 m\t       |443 nm\t            |Ultra Blue (Coastal and Aerosol)|\n",
    "|B2\t  |10 m\t       |490 nm\t            |Blue|\n",
    "|B3\t  |10 m\t       |560 nm\t            |Green|\n",
    "|B4\t  |10 m\t       |665 nm\t            |Red|\n",
    "|B5\t  |20 m\t       |705 nm\t            |Visible and Near Infrared (VNIR)|\n",
    "|B6\t  |20 m\t       |740 nm\t            |Visible and Near Infrared (VNIR)|\n",
    "|B7\t  |20 m\t       |783 nm\t            |Visible and Near Infrared (VNIR)|\n",
    "|B8\t  |10 m\t       |842 nm\t            |Visible and Near Infrared (VNIR)|\n",
    "|B8a  |20 m\t       |865 nm\t            |Visible and Near Infrared (VNIR)|\n",
    "|B9\t  |60 m\t       |940 nm\t            |Short Wave Infrared (SWIR)|\n",
    "|B10  |60 m\t       |1375 nm             |Short Wave Infrared (SWIR)|\n",
    "|B11  |20 m\t       |1610 nm             |Short Wave Infrared (SWIR)|\n",
    "|B12  |20 m\t       |2190 nm             |Short Wave Infrared (SWIR)|\n",
    "\n",
    "\n",
    "### Working with This Data\n",
    "For our data we have:\n",
    "* Images for a set of dates throughout time\n",
    "* Each image has multiple bands in multiple resolutions\n",
    "* The filepath for each band is going to be very verbose and difficult to track due to the hierarchical structure\n",
    "\n",
    "To make all these paths easier to work with, we shall give each Image into it's own dictionary and store all filepaths there. This will enable easy referencing. The code below creates these dictionaries for you.\n",
    "\n",
    "```\n",
    "img_band_dict = {\n",
    "                'img_folder': 'S2A_MSIL2A_20220531T120411_N0400_R066_T30VUQ_20220531T183212',\n",
    "\n",
    "                 'img_date': '20220531',\n",
    "                 'img_time': '183212',\n",
    "                 \n",
    "                 'R10m':{'B02': 'T30VUQ_20220531T120411_B02_10m.jp2',\n",
    "                         'B03': 'T30VUQ_20220531T120411_B03_10m.jp2',\n",
    "                         ...\n",
    "                         'TCI': 'T30VUQ_20220531T120411_TCI_10m.jp2'\n",
    "                        },\n",
    "                        \n",
    "                  'R20m':{'B02': 'T30VUQ_20220531T120411_B02_20m.jp2',\n",
    "                          'B03': 'T30VUQ_20220531T120411_B03_20m.jp2',\n",
    "                           ...\n",
    "                          },\n",
    "                          \n",
    "                  'R60m':{'B02': 'T30VUQ_20220531T120411_B02_60m.jp2',\n",
    "                          'B03': 'T30VUQ_20220531T120411_B03_60m.jp2',\n",
    "                           ...\n",
    "                          }\n",
    "                 }\n",
    "                 \n",
    "```\n",
    "                 \n",
    "\n",
    "**For Example:** To create a True Colour Image (RGB) at 10m resolution, we use Red (B04), Green (B03), Blue (B02). The individual bands can then be accessed:\n",
    "\n",
    "```\n",
    "## 10m resolution:\n",
    "r_10m_filepath = img_band_dict['R10m']['B04']\n",
    "r_10m_band_img = get_band(r_10m_filepath)\n",
    "\n",
    "g_10m_filepath = img_band_dict['R10m']['B03']\n",
    "g_10m_band_img = get_band(g_10m_filepath)\n",
    "\n",
    "b_10m_filepath = img_band_dict['R10m']['B02']\n",
    "b_10m_band_img = get_band(b_10m_filepath)\n",
    "```"
   ]
  },
  {
   "cell_type": "markdown",
   "id": "following-humidity",
   "metadata": {},
   "source": [
    "## Create Dictionaries of Band File Paths\n",
    "* Here we automatically create the **img_band_dict** object above for every image\n",
    "* The below assumes that all zipped data folders have being manually extracted"
   ]
  },
  {
   "cell_type": "code",
   "execution_count": null,
   "id": "widespread-jonathan",
   "metadata": {},
   "outputs": [],
   "source": [
    "# Using new directory structure and .SAFE extension as the selector\n",
    "\n",
    "# set directory with Sentinel 2 data\n",
    "sen2dir = './starter_data/sentinel2/'\n",
    "\n",
    "# get list of image directories\n",
    "lst = os.listdir(sen2dir)\n",
    "img_dirs_lst = [x for x in lst if x.endswith('.SAFE')]\n",
    "\n",
    "print(img_dirs_lst)"
   ]
  },
  {
   "cell_type": "code",
   "execution_count": null,
   "id": "cooperative-gateway",
   "metadata": {},
   "outputs": [],
   "source": [
    "# For each unzipped folder (a single day product), go in & extract all '.jp2' filepaths for the bands into a dictionary\n",
    "# Store all dictionaries in a list (all_img_dicts)\n",
    "\n",
    "all_img_dicts = []\n",
    "\n",
    "## Select your join\n",
    "# MAC\n",
    "jn = '/'\n",
    "\n",
    "# Windows\n",
    "# jn = '\\\\'\n",
    "\n",
    "# For each image folder in the Sentinel2 folder:\n",
    "for img_folder in img_dirs_lst:\n",
    "\n",
    "    ## List all band filenames\n",
    "    # e.g. img_folder = 'S2B_MSIL2A_20220419T121349'\n",
    "    date = img_folder[11:19]\n",
    "    time = img_folder[20:26]\n",
    "    f = sen2dir + jn + img_folder + jn\n",
    "\n",
    "    # Sub-folders containing band data\n",
    "    res_set = ['R10m', 'R20m', 'R60m']\n",
    "\n",
    "    # Create a dictionary of the band names\n",
    "    bands = ['B01','B02','B03','B04','B05','B06', 'B07','B08', 'B8A', 'B09' ,'B10','B11','B12', 'AOT','TCI','WVP', 'SCL']\n",
    "\n",
    "    # Get all band files in the folder\n",
    "    #  - glob = get all files in this folder (inc. nested)\n",
    "    #  - filter to only include files within one of res_set folders\n",
    "    #  - only keep '.jp2' type files \n",
    "    all_band_files = [ x for x in glob.glob(f + '**' + jn + '*', recursive=True) if any(res in x for res in res_set) and x.endswith('jp2')]\n",
    "\n",
    "\n",
    "    # Create a new dictionary for the img\n",
    "    img_band_dict = {'img_folder':img_folder,\n",
    "                     'img_date':date,\n",
    "                     'img_time':time}\n",
    "\n",
    "    # Create a key for each resolution\n",
    "    for res in res_set:\n",
    "        img_band_dict[res] = {}\n",
    "\n",
    "    # Assign all band filepaths to the img dict\n",
    "    for band_file in all_band_files:\n",
    "\n",
    "        # For each resolution, get all band filepaths\n",
    "        for res in res_set:\n",
    "\n",
    "            # Band file is in the resolution folder (contains res = 'R10m')\n",
    "            if band_file.find(res)>=0:\n",
    "\n",
    "                # Get the band type (B08, B8A, TCI etc) - assumes raw names of the band file have not being changed\n",
    "                band_type = band_file[len(band_file)-11:-8]\n",
    "\n",
    "                # Store e.g. img_band_dict['R10m']['B03'] = 'filepath/to/R10m/img_B03.jp2'\n",
    "                img_band_dict[res][band_type] = band_file\n",
    "                \n",
    "    \n",
    "    # Add img dictionary to list of dictionaries\n",
    "    all_img_dicts.append(img_band_dict)\n",
    "            "
   ]
  },
  {
   "cell_type": "code",
   "execution_count": null,
   "id": "sitting-discussion",
   "metadata": {},
   "outputs": [],
   "source": [
    "## Example: Single image dictionary and exploring its values\n",
    "\n",
    "# Get the dictionary\n",
    "img_day_dict = all_img_dicts[0]\n",
    "\n",
    "# Understand its metadata \n",
    "print('date:',img_day_dict['img_date'])\n",
    "print('time:',img_day_dict['img_time'])\n",
    "\n",
    "print('path to 20m B05 Band (Red Edge):')\n",
    "print('   ', img_day_dict['R20m']['B05'])"
   ]
  },
  {
   "cell_type": "code",
   "execution_count": null,
   "id": "billion-latest",
   "metadata": {},
   "outputs": [],
   "source": [
    "## See which bands available at which resolution\n",
    "\n",
    "print('R10m:',img_day_dict['R10m'].keys())\n",
    "print('R20m:',img_day_dict['R20m'].keys())\n",
    "print('R60m:',img_day_dict['R60m'].keys())"
   ]
  },
  {
   "cell_type": "markdown",
   "id": "congressional-corporation",
   "metadata": {},
   "source": [
    "## Import Band Data and Pre-processing"
   ]
  },
  {
   "cell_type": "markdown",
   "id": "expected-antigua",
   "metadata": {},
   "source": [
    "* The single band files (B02, B03, B04,...) are 2D rasters. These are 2D numpy arrays with some associated metadata. \n",
    "* The composite band files e.g. TCI are 3D rasters. \n",
    "* We will use Masked numpy arrays on which you can use most of the same numpy methods.\n",
    "\n",
    "To handle rasters, we use the **rasterio** (rio) package which is built on top of numpy specifically for geographical data.\n",
    "\n",
    "**Note that** unlike normal numpy arrays, rasterio takes the top Left Hand Side of your array as (0,0), then x is the rows downwards, and y is the columns right.\n",
    "\n",
    "The [rasterio documentation](https://rasterio.readthedocs.io/en/latest/) is pretty good and provides lots of examples for common geospatial operations."
   ]
  },
  {
   "cell_type": "markdown",
   "id": "computational-heaven",
   "metadata": {},
   "source": [
    "First, let's load a single band into an array."
   ]
  },
  {
   "cell_type": "code",
   "execution_count": null,
   "id": "assumed-electricity",
   "metadata": {},
   "outputs": [],
   "source": [
    "## Extract Single Band into an Array\n",
    "\n",
    "def get_band(filepath): \n",
    "    with rio.open(filepath) as f:\n",
    "        img = f.read(1, masked=True)\n",
    "        metadata = f.profile\n",
    "        \n",
    "        return img, metadata\n",
    "\n",
    "def print_band_properties(image, metadata):\n",
    "    print('--> # bands:', metadata['count'])\n",
    "    print('--> array type', type(image))\n",
    "    print('--> datatype:', metadata['dtype'])\n",
    "    print('--> nodata value:', metadata['nodata'])\n",
    "    print('--> height:', metadata['height'], 'pixels')\n",
    "    print('--> width:', metadata['width'], 'pixels')\n",
    "    print('--> CRS:', metadata['crs'])\n",
    "    print(20*'-')\n",
    "\n",
    "    \n",
    "# load example images and metadata and display properties to investigate\n",
    "\n",
    "# single band image\n",
    "b02_img, b02_metadata = get_band(img_day_dict['R10m']['B02'])\n",
    "print('Band 2 (Blue) properties:')\n",
    "print_band_properties(b02_img, b02_metadata)\n",
    "\n",
    "# True Colour Image (TCI) with 3 bands\n",
    "tci_img, tci_metadata = get_band(img_day_dict['R10m']['TCI'])\n",
    "print('TCI properties:')\n",
    "print_band_properties(tci_img, tci_metadata)\n",
    "\n",
    "print('\\nSummary statistics for Band 2:')\n",
    "print(f'\\nMin:\\t{b02_img.min()}\\nMax:\\t{b02_img.max()}\\nMean:\\t{b02_img.mean():.2f}\\nStdDev:\\t{b02_img.std():.2f}\\n')\n",
    "\n",
    "b02_img"
   ]
  },
  {
   "cell_type": "markdown",
   "id": "liked-commerce",
   "metadata": {},
   "source": [
    "### Note: Masked Arrays\n",
    "\n",
    "* We have imported the image as a **masked array**, but currently the mask isn't doing very much and simply says \"False\".\n",
    "* Instead we would like the portions of the image where we don't have data to be **masked out** so they are not included in any calculations we do on the raster.\n",
    "\n",
    "For Sentinel 2, 0 is is reserved for nodata, therefore we will mask all the zeroes so they are not included in any calculations we do on the rasters. Compare the summary statistics for Band 2 before and after masking.\n",
    "\n",
    "We also specify a 'fill_value' - usually a large (and often negative) number so that it is obviously not real data, and the corresponding metadata 'nodata' value is updated. This tells rasterio what value to write to file at nodata locations. We will use the -9999 as the fill_value.\n",
    "\n",
    "In order to do this we first need to update the datatype to enable the raster to store negative numbers. We will also update the metadata to match as we go along.\n",
    "\n",
    "**NB** mask == True if the data **is** masked."
   ]
  },
  {
   "cell_type": "code",
   "execution_count": null,
   "id": "rotary-smart",
   "metadata": {},
   "outputs": [],
   "source": [
    "def update_raster_dtype(raster, metadata, new_dtype='int16'):\n",
    "    \n",
    "    old_dtype = raster.dtype\n",
    "    \n",
    "    raster = raster.astype(new_dtype)\n",
    "    metadata.update({\n",
    "            \"dtype\": f'{new_dtype}'\n",
    "        })\n",
    "    \n",
    "    print('Raster datatype has been updated from ', old_dtype, 'to ', raster.dtype)\n",
    "    print('Metadata dtype has been updated to:', metadata['dtype'])\n",
    "    \n",
    "    return raster, metadata\n",
    "\n",
    "def update_sen2_mask(raster, metadata, dtype='int16', fill_value=-9999):\n",
    "    \n",
    "    # update datatype for image and metadata\n",
    "    raster, metadata = update_raster_dtype(raster, metadata, new_dtype=dtype)\n",
    "    \n",
    "    # update mask, fill value and metadata\n",
    "    raster = np.ma.MaskedArray(raster, mask=(raster==0), fill_value=fill_value)\n",
    "    metadata['nodata'] = fill_value\n",
    "\n",
    "    print('Metadata nodata value has been updated to:', metadata['nodata'])\n",
    "    \n",
    "    return raster, metadata\n",
    "\n",
    "\n",
    "tci_img, tci_metadata = update_sen2_mask(tci_img, tci_metadata)\n",
    "b02_img, b02_metadata = update_sen2_mask(b02_img, b02_metadata)\n",
    "\n",
    "print('\\nSummary statistics for Band 2 after masking:')\n",
    "print(f'\\nMin:\\t{b02_img.min()}\\nMax:\\t{b02_img.max()}\\nMean:\\t{b02_img.mean():.2f}\\nStdDev:\\t{b02_img.std():.2f}\\n')\n",
    "\n",
    "b02_img"
   ]
  },
  {
   "cell_type": "markdown",
   "id": "previous-trade",
   "metadata": {},
   "source": [
    "**Note** that we can access the data and mask separately with the syntax below."
   ]
  },
  {
   "cell_type": "code",
   "execution_count": null,
   "id": "rental-review",
   "metadata": {},
   "outputs": [],
   "source": [
    "print('b02 data:\\n', b02_img.data)\n",
    "print('b02 mask:\\n', b02_img.mask)"
   ]
  },
  {
   "cell_type": "markdown",
   "id": "acknowledged-blair",
   "metadata": {},
   "source": [
    "### Note: Bit-Depth & DataTypes (uint8, uint16, float64)\n",
    "\n",
    "TODO -----------------------------------------\n",
    "\n",
    "**Notice above:** For RGB, integer pixel values take values [0,255], yet above its far higher. Why?\n",
    "\n",
    "* **Traditional RGB pixels have 8-Bit Depth:** Each channel has 256 shades, so for RGB there are 256x256x256 colours. Often encoded as datatype uint8.\n",
    "* **Satellites tend to have a larger Bit Depth (12 or 16):** These will be encoded as uint16, and can be seen in the metadata printouts above\n",
    "\n",
    "**Why do we care?**\n",
    "It is better to convert ..."
   ]
  },
  {
   "cell_type": "markdown",
   "id": "challenging-citizenship",
   "metadata": {},
   "source": [
    "## Inspect and Plot data"
   ]
  },
  {
   "cell_type": "markdown",
   "id": "civilian-richards",
   "metadata": {},
   "source": [
    "We will load an RGB composite to show some data inspection and plotting methods."
   ]
  },
  {
   "cell_type": "markdown",
   "id": "mexican-cycle",
   "metadata": {},
   "source": [
    "To have a quick look in RGB at a tile we can load the TCI file from each Sentinel image and plot it using the `rasterio.plot show()` method. Note that TCI raster is on the interval (0, 255), where 0 means nodata, unlike the individual band data."
   ]
  },
  {
   "cell_type": "code",
   "execution_count": null,
   "id": "sweet-driving",
   "metadata": {},
   "outputs": [],
   "source": [
    "from rasterio.plot import show"
   ]
  },
  {
   "cell_type": "code",
   "execution_count": null,
   "id": "awful-geography",
   "metadata": {},
   "outputs": [],
   "source": [
    "with rio.open(img_day_dict['R10m']['TCI']) as f:\n",
    "    rgb_img = f.read([1, 2, 3], masked=True)\n",
    "\n",
    "show(rgb_img)"
   ]
  },
  {
   "cell_type": "markdown",
   "id": "convenient-pattern",
   "metadata": {},
   "source": [
    "To create other composites, we can read in the bands separately. For example, a false colour composite uses B8, B4 and B3."
   ]
  },
  {
   "cell_type": "code",
   "execution_count": null,
   "id": "facial-tsunami",
   "metadata": {},
   "outputs": [],
   "source": [
    "# read in B03 (green), B04 (red) and B08 (near-infrared)\n",
    "b03, b03_metadata = get_band(img_day_dict['R10m']['B03'])\n",
    "b04, b04_metadata = get_band(img_day_dict['R10m']['B04'])\n",
    "b08, b08_metadata = get_band(img_day_dict['R10m']['B08'])\n",
    "\n",
    "# mask\n",
    "b03, b03_metadata = update_sen2_mask(b03, b03_metadata)\n",
    "b04, b04_metadata = update_sen2_mask(b04, b04_metadata)\n",
    "b08, b08_metadata = update_sen2_mask(b08, b08_metadata)"
   ]
  },
  {
   "cell_type": "markdown",
   "id": "alpine-newcastle",
   "metadata": {},
   "source": [
    "As matplotlib can only deal with data in the uint8 range (0, 255), or data on the interval [0, 1], we will divide the data by 10000 and normalise it to the [0, 1] interval as preparation for plotting. We can also clip the data to the mean ± 2 standard deviations for nice plotting. You can change the clip parameter to False to see the difference."
   ]
  },
  {
   "cell_type": "code",
   "execution_count": null,
   "id": "pleased-temperature",
   "metadata": {},
   "outputs": [],
   "source": [
    "def normalise_band(raster, clip=True):\n",
    "    \n",
    "    raster = raster / 10000\n",
    "    \n",
    "    if clip is True:\n",
    "        \n",
    "        mn = raster.mean()\n",
    "        sd = raster.std()\n",
    "        upper = mn + (2*sd)\n",
    "        lower = mn - (2*sd)\n",
    "    \n",
    "        raster[raster > upper] = upper\n",
    "        raster[raster < lower] = lower\n",
    "    \n",
    "    return (raster - raster.min()) / (raster.max() - raster.min())"
   ]
  },
  {
   "cell_type": "markdown",
   "id": "equipped-customer",
   "metadata": {},
   "source": [
    "To plot the false colour composite, we can stack the images using `np.stack` so that `rasterio.plot's show()` method will plot all three bands. The stack must be in the correct band order to display correctly.\n",
    "Here we have:\n",
    "1. red channel -> B08\n",
    "2. green channel -> B04\n",
    "3. blue channel -> B03"
   ]
  },
  {
   "cell_type": "code",
   "execution_count": null,
   "id": "medium-maximum",
   "metadata": {},
   "outputs": [],
   "source": [
    "fig, (ax1, ax2) = plt.subplots(1, 2, figsize=(15, 15))\n",
    "\n",
    "# stack rasters for plotting\n",
    "stack1 = np.stack([normalise_band(b08), normalise_band(b04), normalise_band(b03)])\n",
    "stack2 = np.stack([normalise_band(b08, clip=False), normalise_band(b04, clip=False), normalise_band(b03, clip=False)])\n",
    "\n",
    "show(stack1, transform=b08_metadata['transform'], ax=ax1, title=\"With Data Clipping\")\n",
    "show(stack2, transform=b08_metadata['transform'], ax=ax2, title=\"No Data Clipping\")\n",
    "\n",
    "plt.show()"
   ]
  },
  {
   "cell_type": "markdown",
   "id": "placed-medicare",
   "metadata": {},
   "source": [
    "### Histograms"
   ]
  },
  {
   "cell_type": "markdown",
   "id": "renewable-gross",
   "metadata": {},
   "source": [
    "A histogram of the data can be plotted for inspection using the `matplotlib hist()` method, or rasterio's built-in historgram plotter, `show_hist()`."
   ]
  },
  {
   "cell_type": "code",
   "execution_count": null,
   "id": "altered-irish",
   "metadata": {},
   "outputs": [],
   "source": [
    "from rasterio.plot import show_hist\n",
    "\n",
    "show_hist(\n",
    "    b03_img, bins=50, lw=0.0, stacked=False, alpha=0.3,\n",
    "    histtype='stepfilled', title=\"Histogram\")"
   ]
  },
  {
   "cell_type": "code",
   "execution_count": null,
   "id": "lovely-blond",
   "metadata": {},
   "outputs": [],
   "source": [
    "from matplotlib import pyplot as plt\n",
    "\n",
    "fig, ax_histogram = plt.subplots(figsize=(20, 10))\n",
    "\n",
    "ax_histogram.hist(b08.ravel(), bins=500, histtype='stepfilled', lw=0.0, stacked=False, alpha=0.3, color='Red', label='Band 8 - NIR')\n",
    "ax_histogram.hist(b04.ravel(), bins=500, histtype='stepfilled', lw=0.0, stacked=False, alpha=0.3, color='Green', label='Band 4 - Red')\n",
    "ax_histogram.hist(b03.ravel(), bins=500, histtype='stepfilled', lw=0.0, stacked=False, alpha=0.3, color='Blue', label='Band 3 - Green')\n",
    "\n",
    "ax_histogram.tick_params(axis='both', which='major', labelsize=16)\n",
    "ax_histogram.set_xlabel('DN', fontsize=16)\n",
    "ax_histogram.set_ylabel('Frequency', fontsize=16)\n",
    "ax_histogram.set_title('S2 Image Bands Histogram', fontsize=22)\n",
    "\n",
    "plt.legend(fontsize=16)\n",
    "plt.grid()\n",
    "plt.show()"
   ]
  },
  {
   "cell_type": "markdown",
   "id": "amazing-franchise",
   "metadata": {},
   "source": [
    "## Resampling - Changing the Spatial Resolution of a Band"
   ]
  },
  {
   "cell_type": "markdown",
   "id": "constitutional-conditioning",
   "metadata": {},
   "source": [
    "Resampling is a common task in geospatial analysis, because in order to do direct calculations between different bands, they must be the same spatial resolution, i.e. the size of a pixel mapped onto the surface of the Earth must be the same. This is equivalent to the arrays of each band having the same dimensions.\n",
    "\n",
    "As a reminder, Sentinel 2 bands have the following resolution:\n",
    "\n",
    "**10m : Bands 2, 3, 4, 8**\n",
    "\n",
    "**20m : Bands 5, 6, 7, 8A, 11, 12**\n",
    "\n",
    "**60m : Bands 1, 9, 10**\n",
    "\n",
    "The following code will upsample or downsample the resolution of a raster based on a scaling factor.\n",
    "\n",
    "A scale factor > 1 will increase the resolution of the raster. To do this we have to interpolate between existing data values in the raster. Rasterio includes a Resampling method for this purpose with various interpolation methods. We will use bilinear interpolation here. The code below is predominantly from the [rasterio documentation](https://rasterio.readthedocs.io/en/latest/topics/resampling.html)."
   ]
  },
  {
   "cell_type": "code",
   "execution_count": null,
   "id": "nearby-tenant",
   "metadata": {},
   "outputs": [],
   "source": [
    "from rasterio.enums import Resampling\n",
    "\n",
    "fig, ax = plt.subplots(figsize=(15, 15))\n",
    "\n",
    "scale_factor = 2 # double spatial resolution\n",
    "\n",
    "with rio.open(img_day_dict['R20m']['B8A']) as dataset:\n",
    "\n",
    "    print(f'Before resampling, the spatial resolution is {dataset.res[0]} metres\\n')\n",
    "#     print(f'  --> array dimensions ({dataset.profile['height']},{dataset.profile['width']})')\n",
    "    \n",
    "    # resample data to target shape\n",
    "    data = dataset.read(\n",
    "        out_shape=(\n",
    "            dataset.count,\n",
    "            int(dataset.height * scale_factor),\n",
    "            int(dataset.width * scale_factor)\n",
    "        ),\n",
    "        resampling=Resampling.bilinear\n",
    "    )\n",
    "\n",
    "    # scale image transform\n",
    "    transform = dataset.transform * dataset.transform.scale(\n",
    "        (dataset.width / data.shape[-1]),\n",
    "        (dataset.height / data.shape[-2])\n",
    "    )\n",
    "\n",
    "    \n",
    "print(f'After resampling, the spatial resolution is {dataset.res[0] / scale_factor} metres\\n')\n",
    "# print(f'  --> array dimensions ({dataset.profile['height']*scale_factor},{dataset.profile['width']*scale_factor})')\n",
    "\n",
    "show(data, transform=transform, ax=ax, cmap='Reds')\n",
    "\n",
    "ax.tick_params(axis='both', which='major', labelsize=16)\n",
    "ax.set_xlabel('Easting (m)', fontsize=18)\n",
    "ax.set_ylabel('Northing (m)', fontsize=18)\n",
    "ax.set_title('Red Edge (8A) Band - Resampled from 20m to 10m', fontsize=20)\n",
    "\n",
    "plt.show()"
   ]
  },
  {
   "cell_type": "markdown",
   "id": "surrounded-spirit",
   "metadata": {},
   "source": [
    "## Calculations: Band Maths, Indices and Thresholding"
   ]
  },
  {
   "cell_type": "markdown",
   "id": "phantom-prospect",
   "metadata": {},
   "source": [
    "Now that we know how to load bands from file into a numpy array, resample them, and plot them, we can use band maths to combine the bands in various ways and infer properties on the ground. Band maths consist of simply performing arithmetic operations to combine numpy arrays.\n",
    "\n",
    "Some common indices you might consider for your analysis include:\n",
    "\n",
    "* Normalised Difference Vegetation Index (NDVI) \n",
    "    - (B8 - B4) / (B8 + B4)\n",
    "    - Used for mapping vegetation because vegetation reflects strongly in the near IR (B8) and is strongly absorbed in red (B4)\n",
    "    \n",
    "* Normalised Difference Water Index\n",
    "    - (B3 - B8) / (B3 + B8)\n",
    "    - Used to detect water.\n",
    "\n",
    "* Bare Soil Index (BSI)\n",
    "    - ((B11 + B4) - (B8 + B2)) / ((B11 + B4) - (B8 + B2))\n",
    "    - Used to detect bare ground, for example in crop monitoring, or landslide monitoring such as visualised in [this script](https://custom-scripts.sentinel-hub.com/custom-scripts/sentinel-2/barren_soil/#).\n",
    "    \n",
    "More indices [here](https://giscrack.com/list-of-spectral-indices-for-sentinel-and-landsat/).\n",
    "\n",
    "Below is an example calculation for NDVI."
   ]
  },
  {
   "cell_type": "code",
   "execution_count": null,
   "id": "surprised-malawi",
   "metadata": {},
   "outputs": [],
   "source": [
    "# Normlise bands before calculation\n",
    "b08_norm = normalise_band(b08)\n",
    "b04_norm = normalise_band(b04)\n",
    "\n",
    "# Calculate NDVI\n",
    "np.seterr(divide='ignore', invalid='ignore') # ignore error warning for dividing by zero\n",
    "ndvi = np.divide(np.subtract(b08, b04), np.add(b08, b04))\n",
    "\n",
    "# Plot\n",
    "fig, ax_ndvi = plt.subplots(figsize=(15, 15))\n",
    "\n",
    "show(ndvi, transform=b04_metadata['transform'], ax=ax_ndvi)\n",
    "\n",
    "ax_ndvi.tick_params(axis='both', which='major', labelsize=16)\n",
    "ax_ndvi.set_title('Normalized Difference Vegetation Index', fontsize=20)\n",
    "\n",
    "plt.show()"
   ]
  },
  {
   "cell_type": "markdown",
   "id": "blocked-cleaners",
   "metadata": {},
   "source": [
    "It can also be useful to **threshold** your indices. For example, vegetated areas have NDVI > 0.2 (see [this link](https://www.mathworks.com/help/images/identify-vegetation-regions-using-interactive-ndvi-thresholding.html) for more detailed NDVI thresholds). One method of doing this is shown below by updating the mask, and checking that our new minimum value is 0.2."
   ]
  },
  {
   "cell_type": "code",
   "execution_count": null,
   "id": "global-quality",
   "metadata": {},
   "outputs": [],
   "source": [
    "# update mask\n",
    "ndvi.mask[ndvi.data < 0.2] = True\n",
    "\n",
    "# sanity check\n",
    "ndvi.min()\n",
    "\n",
    "# plot vegetated areas as shown by NDVI\n",
    "fig, ax_ndvi = plt.subplots(figsize=(15, 15))\n",
    "\n",
    "show(ndvi, transform=b04_metadata['transform'], ax=ax_ndvi)\n",
    "\n",
    "ax_ndvi.tick_params(axis='both', which='major', labelsize=16)\n",
    "ax_ndvi.set_title('Normalized Difference Vegetation Index', fontsize=20)\n",
    "\n",
    "plt.show()"
   ]
  },
  {
   "cell_type": "markdown",
   "id": "developing-inspiration",
   "metadata": {},
   "source": [
    "# Vector Data"
   ]
  },
  {
   "cell_type": "markdown",
   "id": "incomplete-devil",
   "metadata": {},
   "source": [
    "Most of the time, we are not interested in the entire satellite image, but would like to like at a specific area of interest. We can use vector data, polygons and points, to subset the raster data from above.\n",
    "\n",
    "For spatial data, we use the `geopandas` package which is built on top of `pandas`. The full documentation can be found [here](https://geopandas.org/en/stable/docs/user_guide.html).\n",
    "\n",
    "The code below imports the `geopandas` package and reads two vector data files as GeoDataFrames. These behave like regular dataframes but have an additional `geometry` column locating the data with reference to the coordinate system of the data.\n",
    "1. A polygon of our area of interest (aoi).\n",
    "2. A GeoDataFrame of three points with the fish farm locations."
   ]
  },
  {
   "cell_type": "code",
   "execution_count": null,
   "id": "banned-advancement",
   "metadata": {},
   "outputs": [],
   "source": [
    "import geopandas as gpd"
   ]
  },
  {
   "cell_type": "code",
   "execution_count": null,
   "id": "floating-holly",
   "metadata": {},
   "outputs": [],
   "source": [
    "# specify data filepahts\n",
    "aoi_fp = './starter_data/aoi.geojson'\n",
    "fish_farms_fp = './starter_data/fish_farm_locations.geojson'\n",
    "\n",
    "# read data into geodataframes\n",
    "aoi = gpd.read_file(aoi_fp)\n",
    "fish_farm_pts = gpd.read_file(fish_farms_fp)\n",
    "\n",
    "print('Area of interest polygon:\\n', aoi, '\\n')\n",
    "print('Fish farm location points:\\n', fish_farm_pts)"
   ]
  },
  {
   "cell_type": "markdown",
   "id": "resistant-starter",
   "metadata": {},
   "source": [
    "We can add new attributes, or columns, to our GeoDataFrame just as in a regular dataframe.\n",
    "\n",
    "Let's add a new column to the fish farm locations GDF for the type of fish farmed. This will be used for plotting."
   ]
  },
  {
   "cell_type": "code",
   "execution_count": null,
   "id": "lightweight-trauma",
   "metadata": {},
   "outputs": [],
   "source": [
    "fish_farm_pts['fish'] = 'salmon'\n",
    "print(fish_farm_pts)"
   ]
  },
  {
   "cell_type": "markdown",
   "id": "statistical-indication",
   "metadata": {},
   "source": [
    "## CRS Checks"
   ]
  },
  {
   "cell_type": "markdown",
   "id": "trying-tyler",
   "metadata": {},
   "source": [
    "When working with geospatial datasets from different sources it is important to check that they are geographically referenced to the same coordinate reference system or CRS. We can easily convert between CRS's if there is a conflict."
   ]
  },
  {
   "cell_type": "code",
   "execution_count": null,
   "id": "dominant-interim",
   "metadata": {},
   "outputs": [],
   "source": [
    "band_img, band_metadata = get_band(img_day_dict['R20m']['B05'])\n",
    "\n",
    "# print the coordinate reference system for each dataset\n",
    "print('The CRS of the Sentinel 2 data is', band_metadata['crs'])\n",
    "print('The CRS of the aoi polygon data is', aoi.crs)\n",
    "print('The CRS of the fish farm location point data is', fish_farm_pts.crs)\n",
    "\n",
    "# convert vector data crs to satellite data crs\n",
    "aoi = aoi.to_crs(band_metadata['crs'])\n",
    "fish_farm_pts = fish_farm_pts.to_crs(band_metadata['crs'])\n",
    "\n",
    "# check that CRS's now match\n",
    "print(band_metadata['crs'] == aoi.crs, band_metadata['crs'] == fish_farm_pts.crs)"
   ]
  },
  {
   "cell_type": "markdown",
   "id": "living-mechanics",
   "metadata": {},
   "source": [
    "GeoDataFrames have an inbuilt set of attributes and methods that are useful for geospatial analysis. An example for polygon area is below. The full list is in the geopandas documentation [here](https://geopandas.org/en/stable/docs/user_guide/data_structures.html)."
   ]
  },
  {
   "cell_type": "code",
   "execution_count": null,
   "id": "derived-mercy",
   "metadata": {},
   "outputs": [],
   "source": [
    "print('Area of aoi polygon in m2:\\n', aoi.area)"
   ]
  },
  {
   "cell_type": "markdown",
   "id": "visible-stock",
   "metadata": {},
   "source": [
    "### Plot satellite data with overlaid vector data"
   ]
  },
  {
   "cell_type": "code",
   "execution_count": null,
   "id": "affected-dining",
   "metadata": {},
   "outputs": [],
   "source": [
    "import shapely\n",
    "import descartes"
   ]
  },
  {
   "cell_type": "code",
   "execution_count": null,
   "id": "senior-elements",
   "metadata": {},
   "outputs": [],
   "source": [
    "fig, ax_band = plt.subplots(figsize=(15, 15))\n",
    "\n",
    "# plot raster with rasterio\n",
    "show(normalise_band(band_img), transform=band_metadata['transform'], ax=ax_band, cmap=\"Reds\")\n",
    "\n",
    "# create colour map so we can specify the color of the fish farm points\n",
    "from matplotlib.colors import LinearSegmentedColormap\n",
    "clist = [(0.0, 0.0, 1.0), (0.0, 0.0, 1.0)] # use same colour twice (rgb blue) to get a single colour\n",
    "cmap = LinearSegmentedColormap.from_list(name='single_cmap', colors=clist, N=1)\n",
    "\n",
    "# plot vector layers on top\n",
    "aoi.boundary.plot(ax=ax_band, edgecolor=\"Black\")\n",
    "fish_farm_pts.plot(ax=ax_band, column=\"fish\", cmap=cmap, legend=True)\n",
    "\n",
    "# other plot parameters\n",
    "ax_band.tick_params(axis='both', which='major', labelsize=16)\n",
    "ax_band.set_title('AOI and Fish Farm Locations in the Faroe Islands', fontsize=20)\n",
    "\n",
    "plt.show()"
   ]
  },
  {
   "cell_type": "markdown",
   "id": "lined-opposition",
   "metadata": {},
   "source": [
    "## Zonal Statistics - Calculations on pixels within polygons"
   ]
  },
  {
   "cell_type": "markdown",
   "id": "painful-brass",
   "metadata": {},
   "source": [
    "We can use the `rasterstats` package to extract descriptive statistics on raster pixel values within an area of interest or 'zone'. For example we could calculate statistics over the entire AOI polygon, just the land or water ([OpenStreetMap](https://osmdata.openstreetmap.de/data/water-polygons.html) have freely downloadable polygons for water and land), or we could [buffer](https://geopandas.org/en/stable/docs/reference/api/geopandas.GeoSeries.buffer.html) the fish farm locations to include some surrounding water."
   ]
  },
  {
   "cell_type": "code",
   "execution_count": null,
   "id": "middle-sunrise",
   "metadata": {},
   "outputs": [],
   "source": [
    "from rasterstats import zonal_stats\n",
    "\n",
    "# calculate statistics\n",
    "statistics = zonal_stats(aoi, band_img, affine=band_metadata['transform'], nodata=-9999, stats='mean min max std', geojson_out=True)\n",
    "\n",
    "# The geojson_out=True means the dictionary is output with the geometry\n",
    "# Therefore we can reconstruct the GDF as below\n",
    "aoi_with_statistics = gpd.GeoDataFrame.from_features(statistics, crs=aoi.crs)\n",
    "\n",
    "print(aoi_with_statistics)"
   ]
  },
  {
   "cell_type": "markdown",
   "id": "ruled-vinyl",
   "metadata": {},
   "source": [
    "### Mask raster to polygon"
   ]
  },
  {
   "cell_type": "markdown",
   "id": "convenient-wages",
   "metadata": {},
   "source": [
    "In addition, we can mask the raster to our area of interest polygon using the `rasterio.mask.mask` module. We can also use the `crop` argument to crop the raster to the area of interest. This can be useful for cutting down on the number of large arrays stored in memory if you are working with multiple satellite images and for visualisation.\n",
    "\n",
    "Let's modify the `get_band()` function to include this functionality. We can also incorporate the mask update so that our pre-processing is done in a single step."
   ]
  },
  {
   "cell_type": "code",
   "execution_count": null,
   "id": "cellular-royal",
   "metadata": {},
   "outputs": [],
   "source": [
    "from rasterio.mask import mask\n",
    "\n",
    "def get_band(filepath, aoi=None, crop=False, dtype='int16', fill_value=-9999):\n",
    "    \n",
    "    # open dataset\n",
    "    with rio.open(filepath) as f:\n",
    "        # read in metadata\n",
    "        metadata = f.profile\n",
    "        \n",
    "        if aoi is None:\n",
    "            img = f.read(1, masked=True)\n",
    "            \n",
    "        else:\n",
    "            img, transform = mask(f, aoi['geometry'], crop=crop, nodata=0, filled=True)\n",
    "            img = img[0]\n",
    "            # update metadata for new geometry\n",
    "            metadata.update({\n",
    "                        \"height\": img.shape[0],\n",
    "                        \"width\": img.shape[1],\n",
    "                        \"transform\": transform\n",
    "                        })\n",
    "        \n",
    "        # update masking so we get a consistent product out\n",
    "        img, metadata = update_sen2_mask(img, metadata, dtype=dtype, fill_value=-9999)\n",
    "        \n",
    "        return img, metadata"
   ]
  },
  {
   "cell_type": "code",
   "execution_count": null,
   "id": "lovely-nation",
   "metadata": {},
   "outputs": [],
   "source": [
    "# Plot area of raster cropped to AOI\n",
    "img_aoi, metadata_aoi = get_band(img_day_dict['R10m']['B02'], aoi=aoi, crop=True)\n",
    "\n",
    "fig, ax_aoi = plt.subplots(figsize=(15, 15))\n",
    "\n",
    "show(normalise_band(img_aoi), transform=metadata_aoi['transform'], ax=ax_aoi, title='Raster cropped to AOI')\n",
    "\n",
    "plt.show()"
   ]
  },
  {
   "cell_type": "markdown",
   "id": "encouraging-sessions",
   "metadata": {},
   "source": [
    "## Writing out rasters"
   ]
  },
  {
   "cell_type": "markdown",
   "id": "provincial-superior",
   "metadata": {},
   "source": [
    "We can write out rasters using the code below. Rasters are usually written out in GeoTiff format `.tif`, a high quality image format which can also store the geospatial metadata.\n",
    "\n",
    "* The `.filled()` is necessary in order to write out the masked values as the `fill_value` specified earlier.\n",
    "* The 1 in the `dst.write()` specifies that we are writing out a single band."
   ]
  },
  {
   "cell_type": "code",
   "execution_count": null,
   "id": "prerequisite-cinema",
   "metadata": {},
   "outputs": [],
   "source": [
    "# read in band\n",
    "img, metadata = get_band(img_day_dict['R10m']['B02'])\n",
    "\n",
    "# define the filepath to the outputs and a filename as a .tif\n",
    "outfp = 'path/to/output/file/example_filename.tif'\n",
    "\n",
    "with rio.open(outfp, 'w', **metadata) as dst:\n",
    "        dst.write(img.filled(), 1)"
   ]
  }
 ],
 "metadata": {
  "kernelspec": {
   "display_name": "Python 3",
   "language": "python",
   "name": "python3"
  },
  "language_info": {
   "codemirror_mode": {
    "name": "ipython",
    "version": 3
   },
   "file_extension": ".py",
   "mimetype": "text/x-python",
   "name": "python",
   "nbconvert_exporter": "python",
   "pygments_lexer": "ipython3",
   "version": "3.7.7"
  }
 },
 "nbformat": 4,
 "nbformat_minor": 5
}

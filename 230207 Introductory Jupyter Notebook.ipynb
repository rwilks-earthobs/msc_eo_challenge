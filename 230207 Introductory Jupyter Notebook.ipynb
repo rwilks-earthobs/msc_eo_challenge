{
 "cells": [
  {
   "cell_type": "markdown",
   "id": "distinguished-sharp",
   "metadata": {},
   "source": [
    "# SaxaVord EO Challenge"
   ]
  },
  {
   "cell_type": "markdown",
   "id": "early-jenny",
   "metadata": {},
   "source": [
    "Welcome to your challenge: Focussing on an Area of Interest (AOI) over the Faroe Islands, you can look at either: \n",
    "\n",
    "* Quantify the extent of algae bloom changes, and their impact on nearby Salmon Fishing Farms\n",
    "* Quantify the extent of recent coastal erosion "
   ]
  },
  {
   "cell_type": "markdown",
   "id": "loved-richardson",
   "metadata": {},
   "source": [
    "## Check Environment Active"
   ]
  },
  {
   "cell_type": "code",
   "execution_count": null,
   "id": "ongoing-intro",
   "metadata": {},
   "outputs": [],
   "source": [
    "# Desktop UI:\n",
    "# It should also show this on the top RHS of your screen, below the LogOut button"
   ]
  },
  {
   "cell_type": "code",
   "execution_count": 1,
   "id": "heard-february",
   "metadata": {},
   "outputs": [
    {
     "name": "stdout",
     "output_type": "stream",
     "text": [
      "# conda environments:\r\n",
      "#\r\n",
      "base                     /Users/taracunningham/miniconda3\r\n",
      "acolite                  /Users/taracunningham/miniconda3/envs/acolite\r\n",
      "convml-tt                /Users/taracunningham/miniconda3/envs/convml-tt\r\n",
      "cv                       /Users/taracunningham/miniconda3/envs/cv\r\n",
      "detectron2               /Users/taracunningham/miniconda3/envs/detectron2\r\n",
      "kenya                 *  /Users/taracunningham/miniconda3/envs/kenya\r\n",
      "munromap                 /Users/taracunningham/miniconda3/envs/munromap\r\n",
      "oosa                     /Users/taracunningham/miniconda3/envs/oosa\r\n",
      "pyenv                    /Users/taracunningham/miniconda3/envs/pyenv\r\n",
      "sense-abm                /Users/taracunningham/miniconda3/envs/sense-abm\r\n",
      "sense2020                /Users/taracunningham/miniconda3/envs/sense2020\r\n",
      "sensecdt_env             /Users/taracunningham/miniconda3/envs/sensecdt_env\r\n",
      "snap-py36                /Users/taracunningham/miniconda3/envs/snap-py36\r\n",
      "tigis                    /Users/taracunningham/miniconda3/envs/tigis\r\n",
      "\r\n"
     ]
    }
   ],
   "source": [
    "# Conda\n",
    "#  -- Activate environment will show a '*' next to it\n",
    "!conda env list"
   ]
  },
  {
   "cell_type": "code",
   "execution_count": null,
   "id": "earned-romantic",
   "metadata": {},
   "outputs": [],
   "source": [
    "# Pip\n",
    "# TODO: Add this for pip !pip XYZ"
   ]
  },
  {
   "cell_type": "markdown",
   "id": "vital-calibration",
   "metadata": {},
   "source": [
    "## Import Packages"
   ]
  },
  {
   "cell_type": "code",
   "execution_count": 2,
   "id": "fifth-movement",
   "metadata": {},
   "outputs": [],
   "source": [
    "# Packages\n",
    "import os\n",
    "import glob\n",
    "\n",
    "import rasterio as rio\n",
    "import numpy as np\n",
    "import matplotlib.pyplot as plt\n",
    "\n",
    "from zipfile import ZipFile\n"
   ]
  },
  {
   "cell_type": "code",
   "execution_count": 3,
   "id": "swedish-armor",
   "metadata": {},
   "outputs": [
    {
     "name": "stderr",
     "output_type": "stream",
     "text": [
      "UsageError: unrecognized arguments: # plots images in the Jupyter notebook cells\n"
     ]
    }
   ],
   "source": [
    "# Visualisation Params\n",
    "%matplotlib inline    # plots images in the Jupyter notebook cells\n",
    "%matplotlib qt5       # opens a seperate browser window to view images"
   ]
  },
  {
   "cell_type": "markdown",
   "id": "cognitive-locking",
   "metadata": {},
   "source": [
    "# Sentinel 2\n",
    "\n",
    "### The Data Folder Structure\n",
    "Satellite imagery products are folders which contain satellite imagery data in a standardised way, including standard naming conventions for folders etc. Please see the SaxaVord PDF for an explanation of the Sentinel 2 naming convention. \n",
    "\n",
    "A single image  product of a region at DateTime YYYYMMDD-HHMMSS is packaged in a folder with a hierarchical file structure. In our case this is:\n",
    "\n",
    "    |- S2A_MSIL2A_20220531T120411_N0400_R066_T30VUQ_20220531T183212 *folder for a single day-time image product*\n",
    "        |-S2A_MSIL2A_20220531T120411_N0400_R066_T30VUQ_20220531T183212.SAFE\n",
    "            |-GRANULE\n",
    "                |-L2A_T30VUQ_A036242_20220531T120405\n",
    "                    |-IMG_DATA\n",
    "                        |- R10m  *resolution folders*\n",
    "                            |-T30VUQ_20220531T120411_B02_10m.jp2 *individual band file*\n",
    "                            |-T30VUQ_20220531T120411_B03_10m.jp2\n",
    "                            |-...\n",
    "                            |-T30VUQ_20220531T120411_TCI_10m.jp2 *TCI = true color image, multi-band file *\n",
    "\n",
    "                        |- R20m\n",
    "                            |-T30VUQ_20220531T120411_B02_20m.jp2\n",
    "                            |-T30VUQ_20220531T120411_B03_20m.jp2\n",
    "                            |-...\n",
    "                        |- R60m\n",
    "                            |-T30VUQ_20220531T120411_B02_60m.jp2\n",
    "                            |-T30VUQ_20220531T120411_B03_60m.jp2\n",
    "                            |-...\n",
    "\n",
    "\n",
    "### Image Bands\n",
    "* True Colour Images (RGB) are comprised of 3 bands, Red, Green and Blue - the visible light section of the Electromagnetic Spectrum. \n",
    "\n",
    "* Satellite sensors cover a far broader section of this spectrum, and therefore capture a larger number of bands. \n",
    "\n",
    "* Different phenomena on earth and within the atmosphere react differently to wavelengths across the spectrum (e.g. different bands), allowing us to make inferences about what is occuring below.\n",
    "\n",
    "* Certain bands are therefore useful for different environmental analyses.\n",
    "\n",
    "* Below is a table of the bands that Sentinel 2 collects, their resolutions and descriptions (from https://gisgeography.com/sentinel-2-bands-combinations/).\n",
    "\n",
    "* More information about how the data is collected and the different bands can be found in the [Sentinel 2 user guide](https://sentinels.copernicus.eu/web/sentinel/user-guides/sentinel-2-msi) on the European Space Agency website.\n",
    "\n",
    "|Band | Resolution | Central wavelength | Description |\n",
    "|-----|------------|--------------------|-------------|\n",
    "|B1\t  |60 m\t       |443 nm\t            |Ultra Blue (Coastal and Aerosol)|\n",
    "|B2\t  |10 m\t       |490 nm\t            |Blue|\n",
    "|B3\t  |10 m\t       |560 nm\t            |Green|\n",
    "|B4\t  |10 m\t       |665 nm\t            |Red|\n",
    "|B5\t  |20 m\t       |705 nm\t            |Visible and Near Infrared (VNIR)|\n",
    "|B6\t  |20 m\t       |740 nm\t            |Visible and Near Infrared (VNIR)|\n",
    "|B7\t  |20 m\t       |783 nm\t            |Visible and Near Infrared (VNIR)|\n",
    "|B8\t  |10 m\t       |842 nm\t            |Visible and Near Infrared (VNIR)|\n",
    "|B8a  |20 m\t       |865 nm\t            |Visible and Near Infrared (VNIR)|\n",
    "|B9\t  |60 m\t       |940 nm\t            |Short Wave Infrared (SWIR)|\n",
    "|B10  |60 m\t       |1375 nm             |Short Wave Infrared (SWIR)|\n",
    "|B11  |20 m\t       |1610 nm             |Short Wave Infrared (SWIR)|\n",
    "|B12  |20 m\t       |2190 nm             |Short Wave Infrared (SWIR)|\n",
    "\n",
    "\n",
    "### Working with This Data\n",
    "For our data we have:\n",
    "* Images for a set of dates throughout time\n",
    "* Each image has multiple bands in multiple resolutions\n",
    "* The filepath for each band is going to be very verbose and difficult to track due to the hierarchical structure\n",
    "\n",
    "To make all these paths easier to work with, we shall give each Image into it's own dictionary and store all filepaths there. This will enable easy referencing. The code below creates these dictionaries for you.\n",
    "\n",
    "```\n",
    "img_band_dict = {\n",
    "                'img_folder': 'S2A_MSIL2A_20220531T120411_N0400_R066_T30VUQ_20220531T183212',\n",
    "\n",
    "                 'img_date': '20220531',\n",
    "                 'img_time': '183212',\n",
    "                 \n",
    "                 'R10m':{'B02': 'T30VUQ_20220531T120411_B02_10m.jp2',\n",
    "                         'B03': 'T30VUQ_20220531T120411_B03_10m.jp2',\n",
    "                         ...\n",
    "                         'TCI': 'T30VUQ_20220531T120411_TCI_10m.jp2'\n",
    "                        },\n",
    "                        \n",
    "                  'R20m':{'B02': 'T30VUQ_20220531T120411_B02_20m.jp2',\n",
    "                          'B03': 'T30VUQ_20220531T120411_B03_20m.jp2',\n",
    "                           ...\n",
    "                          },\n",
    "                          \n",
    "                  'R60m':{'B02': 'T30VUQ_20220531T120411_B02_60m.jp2',\n",
    "                          'B03': 'T30VUQ_20220531T120411_B03_60m.jp2',\n",
    "                           ...\n",
    "                          }\n",
    "                 }\n",
    "                 \n",
    "```\n",
    "                 \n",
    "\n",
    "**For Example:** To create a True Colour Image (RGB) at 10m resolution, we use Red (B04), Green (B03), Blue (B02). The individual bands can then be accessed:\n",
    "\n",
    "```\n",
    "## 10m resolution:\n",
    "r_10m_filepath = img_band_dict['R10m']['B04']\n",
    "r_10m_band_img = get_band(r_10m_filepath)\n",
    "\n",
    "g_10m_filepath = img_band_dict['R10m']['B03']\n",
    "g_10m_band_img = get_band(g_10m_filepath)\n",
    "\n",
    "b_10m_filepath = img_band_dict['R10m']['B02']\n",
    "b_10m_band_img = get_band(b_10m_filepath)\n",
    "```"
   ]
  },
  {
   "cell_type": "markdown",
   "id": "combined-surgery",
   "metadata": {},
   "source": [
    "## Zipped Image Folders: Rename & Extract All Data"
   ]
  },
  {
   "cell_type": "code",
   "execution_count": 13,
   "id": "parallel-package",
   "metadata": {},
   "outputs": [],
   "source": [
    "# Function to extract source folder.zip to targer folder\n",
    "def extract_from_zip(source, target):\n",
    "    with ZipFile(source, 'r') as zip_ref:\n",
    "        zip_ref.extractall(target)     "
   ]
  },
  {
   "cell_type": "code",
   "execution_count": 14,
   "id": "vocal-cornwall",
   "metadata": {},
   "outputs": [
    {
     "data": {
      "text/plain": [
       "['S2A_MSIL2A_20220531T120411',\n",
       " 'S2A_MSIL2A_20220531T120411.zip',\n",
       " 'S2A_MSIL2A_20220607T115411',\n",
       " 'S2A_MSIL2A_20220607T115411.zip',\n",
       " 'S2B_MSIL2A_20220327T120359',\n",
       " 'S2B_MSIL2A_20220327T120359.zip',\n",
       " 'S2B_MSIL2A_20220419T121349',\n",
       " 'S2B_MSIL2A_20220419T121349.zip',\n",
       " 'S2B_MSIL2A_20220705T120359',\n",
       " 'S2B_MSIL2A_20220705T120359.zip',\n",
       " 'S2B_MSIL2A_20220831T115359',\n",
       " 'S2B_MSIL2A_20220831T115359.zip']"
      ]
     },
     "execution_count": 14,
     "metadata": {},
     "output_type": "execute_result"
    }
   ],
   "source": [
    "# Path from notebook to folder containing zipped folder for each day's data\n",
    "s2_imgs_folder = 'Faroe Islands Satellite Data'\n",
    "\n",
    "# Select your joiner \n",
    "# MAC \n",
    "jn = '/'\n",
    "\n",
    "# WINDOWS\n",
    "jn = '\\\\'\n",
    "\n",
    "\n",
    "# Windows: Zip Folder names may be too long upon extraction, shorten names by removing characters from name from '_N0400' onwards\n",
    "for file_name in os.listdir(s2_imgs_folder):\n",
    "    file = ''\n",
    "    file = s2_imgs_folder + jn + file_name #TODO: switch '\\\\' to '/' for Mac\n",
    "    \n",
    "    # Only perform operation of zipped folders\n",
    "    if file.endswith('.zip'):\n",
    "        t = '_N0400'\n",
    "        ind = file.find(t)\n",
    "        \n",
    "        # Renaming required\n",
    "        if ind>=0:    \n",
    "            file_new = file[:ind] + '.zip'\n",
    "            os.rename(file, file_new)\n",
    "\n",
    "        # No renaming required\n",
    "        else:\n",
    "            file_new = file\n",
    "            \n",
    "        # Extract all files from .zip\n",
    "        file_new_unzip = file_new[:-4]\n",
    "        extract_from_zip(file_new, file_new_unzip)\n",
    "        \n",
    "             \n",
    "# Check name shortened, and folders unzipped correctly        \n",
    "os.listdir(s2_imgs_folder)"
   ]
  },
  {
   "cell_type": "markdown",
   "id": "forbidden-valley",
   "metadata": {},
   "source": [
    "## Create Dictionaries of Band File Paths"
   ]
  },
  {
   "cell_type": "code",
   "execution_count": 8,
   "id": "indian-intro",
   "metadata": {},
   "outputs": [
    {
     "name": "stdout",
     "output_type": "stream",
     "text": [
      "['S2B_MSIL2A_20220705T120359_N0400_R066_T30VUQ_20220705T160213.SAFE', 'S2B_MSIL2A_20220327T120359_N0400_R066_T29VPK_20220327T163425.SAFE', 'S2A_MSIL2A_20220531T120411_N0400_R066_T30VUQ_20220531T183212.SAFE', 'S2B_MSIL2A_20220831T115359_N0400_R023_T29VPK_20220831T141847.SAFE', 'S2A_MSIL2A_20220607T115411_N0400_R023_T29VPK_20220607T182818.SAFE', 'S2B_MSIL2A_20220419T121349_N0400_R109_T29VPK_20220419T150207.SAFE']\n"
     ]
    }
   ],
   "source": [
    "# Using new directory structure and .SAFE extension as the selector\n",
    "\n",
    "# set directory with Sentinel 2 data\n",
    "sen2dir = './starter_data/sentinel2/'\n",
    "\n",
    "# get list of image directories\n",
    "lst = os.listdir(sen2dir)\n",
    "img_dirs_lst = [x for x in lst if x.endswith('.SAFE')]\n",
    "\n",
    "print(img_dirs_lst)"
   ]
  },
  {
   "cell_type": "code",
   "execution_count": null,
   "id": "nonprofit-yesterday",
   "metadata": {},
   "outputs": [],
   "source": []
  },
  {
   "cell_type": "code",
   "execution_count": 9,
   "id": "designing-czech",
   "metadata": {},
   "outputs": [],
   "source": [
    "# For each unzipped folder (a single day product), go in & extract all '.jp2' filepaths for the bands into a dictionary\n",
    "# Store all dictionaries in a list (all_img_dicts)\n",
    "\n",
    "all_img_dicts = []\n",
    "jn = '/'\n",
    "\n",
    "#for img_folder in unzipped_img_folders:\n",
    "for img_folder in img_dirs_lst:\n",
    "\n",
    "    ## List all band filenames\n",
    "    # img_folder = 'S2B_MSIL2A_20220419T121349'\n",
    "    date = img_folder[11:19]\n",
    "    time = img_folder[20:26]\n",
    "    f = sen2dir + jn + img_folder + jn\n",
    "    #f = s2_imgs_folder + jn + img_folder + jn\n",
    "\n",
    "    # Sub-folders containing band data\n",
    "    res_set = ['R10m', 'R20m', 'R60m']\n",
    "\n",
    "    # Create a dictionary of the band names\n",
    "    bands = ['B01','B02','B03','B04','B05','B06', 'B07','B08', 'B8A', 'B09' ,'B10','B11','B12', 'AOT','TCI','WVP', 'SCL']\n",
    "\n",
    "    all_band_files = [ x for x in glob.glob(f + '**' + jn + '*', recursive=True) if any(res in x for res in res_set) and x.endswith('jp2')]\n",
    "\n",
    "\n",
    "    img_band_dict = {'img_folder':img_folder,\n",
    "                     'img_date':date,\n",
    "                     'img_time':time}\n",
    "\n",
    "    # Create a key for each resolution\n",
    "    for res in res_set:\n",
    "        img_band_dict[res] = {}\n",
    "\n",
    "    # Assign all band filepaths to dict\n",
    "    for band_file in all_band_files:\n",
    "\n",
    "        # For each resolution, get all band filepaths\n",
    "        for res in res_set:\n",
    "\n",
    "            # Band file is in the resolution folder (contains res = 'R10m')\n",
    "            if band_file.find(res)>=0:\n",
    "\n",
    "                # Get the band type (B08, B8A, TCI etc)\n",
    "                band_type = band_file[len(band_file)-11:-8]\n",
    "\n",
    "                # Store e.g. img_band_dict['R10m']['B03'] = 'filepath/to/R10m/img_B03.jp2'\n",
    "                img_band_dict[res][band_type] = band_file\n",
    "                \n",
    "    \n",
    "    all_img_dicts.append(img_band_dict)\n",
    "            "
   ]
  },
  {
   "cell_type": "code",
   "execution_count": null,
   "id": "insured-quality",
   "metadata": {},
   "outputs": [],
   "source": [
    "all_img_dicts[0]"
   ]
  },
  {
   "cell_type": "code",
   "execution_count": 11,
   "id": "resistant-attack",
   "metadata": {},
   "outputs": [
    {
     "name": "stdout",
     "output_type": "stream",
     "text": [
      "date: 20220705\n",
      "time: 120359\n",
      "path to 20m B05 Band (Red Edge):\n",
      "    ./starter_data/sentinel2//S2B_MSIL2A_20220705T120359_N0400_R066_T30VUQ_20220705T160213.SAFE/GRANULE/L2A_T30VUQ_A027834_20220705T120402/IMG_DATA/R20m/T30VUQ_20220705T120359_B05_20m.jp2\n"
     ]
    }
   ],
   "source": [
    "# Access a dictionary of a single image\n",
    "img_day_dict = all_img_dicts[0]\n",
    "\n",
    "print('date:',img_day_dict['img_date'])\n",
    "print('time:',img_day_dict['img_time'])\n",
    "\n",
    "print('path to 20m B05 Band (Red Edge):')\n",
    "print('   ', img_day_dict['R20m']['B05'])"
   ]
  },
  {
   "cell_type": "markdown",
   "id": "experienced-recipe",
   "metadata": {},
   "source": [
    "## Import Band Data and Pre-processing"
   ]
  },
  {
   "cell_type": "markdown",
   "id": "individual-blues",
   "metadata": {},
   "source": [
    "The single band files (B02, B03, B04,...) are 2D rasters. These are 2D numpy arrays with some associated metadata. \n",
    "The composite band files e.g. TCI are 3D rasters. We will use Masked numpy arrays on which you can use most of the same numpy methods.\n",
    "\n",
    "To handle rasters, we use the **rasterio** (rio) package which is built on top of numpy specifically for geographical data.\n",
    "\n",
    "Note that, unlike normal numpy arrays, rasterio takes the top Left Hand Side of your array as (0,0), then x is the rows downwards, and y is the columns right.\n",
    "\n",
    "The [rasterio documentation](https://rasterio.readthedocs.io/en/latest/) is pretty good and provides lots of examples for common geospatial operations."
   ]
  },
  {
   "cell_type": "markdown",
   "id": "ceramic-delicious",
   "metadata": {},
   "source": [
    "First, let's load a single band into an array."
   ]
  },
  {
   "cell_type": "code",
   "execution_count": null,
   "id": "failing-ultimate",
   "metadata": {},
   "outputs": [],
   "source": [
    "## Perform calcs"
   ]
  },
  {
   "cell_type": "code",
   "execution_count": 35,
   "id": "level-dispute",
   "metadata": {},
   "outputs": [
    {
     "name": "stdout",
     "output_type": "stream",
     "text": [
      "Extracting single band from file\n",
      "Extracting band metadata\n",
      "--> # bands: 1\n",
      "--> array type <class 'numpy.ma.core.MaskedArray'>\n",
      "--> datatype: uint16\n",
      "--> nodata value: None\n",
      "--> height: 10980 pixels\n",
      "--> width: 10980 pixels\n",
      "--> CRS: EPSG:32630\n",
      "--> spatial resolution: 10.0 m\n",
      "--------------------\n"
     ]
    },
    {
     "data": {
      "text/plain": [
       "masked_array(\n",
       "  data=[[   0,    0,    0, ...,    0,    0,    0],\n",
       "        [   0,    0,    0, ...,    0,    0,    0],\n",
       "        [   0,    0,    0, ...,    0,    0,    0],\n",
       "        ...,\n",
       "        [1746, 1756, 1730, ..., 1287, 1256, 1254],\n",
       "        [1810, 1732, 1700, ..., 1368, 1300, 1239],\n",
       "        [1730, 1766, 1742, ..., 1375, 1316, 1290]],\n",
       "  mask=False,\n",
       "  fill_value=999999,\n",
       "  dtype=uint16)"
      ]
     },
     "execution_count": 35,
     "metadata": {},
     "output_type": "execute_result"
    }
   ],
   "source": [
    "## Extract Single Band into an Array\n",
    "\n",
    "def get_band(filepath): \n",
    "    with rio.open(filepath) as f:\n",
    "        \n",
    "        print('Extracting single band from file')\n",
    "        img = f.read(1, masked=True)\n",
    "        \n",
    "        print('Extracting band metadata')\n",
    "        metadata = f.profile\n",
    "        \n",
    "        spatial_resolution = f.res\n",
    "        \n",
    "        # print band properties\n",
    "        print('--> # bands:', metadata['count'])\n",
    "        print('--> array type', type(img))\n",
    "        print('--> datatype:', metadata['dtype'])\n",
    "        print('--> nodata value:', metadata['nodata'])\n",
    "        print('--> height:', metadata['height'], 'pixels')\n",
    "        print('--> width:', metadata['width'], 'pixels')\n",
    "        print('--> CRS:', metadata['crs'])\n",
    "        print('--> spatial resolution:', spatial_resolution[0], 'm')\n",
    "        print(20*'-')\n",
    "        \n",
    "        return img, metadata\n",
    "    \n",
    "        \n",
    "# load example image and metadata\n",
    "tci_img, tci_metadata = get_band(img_day_dict['R10m']['B02'])   \n",
    "\n",
    "tci_img"
   ]
  },
  {
   "cell_type": "markdown",
   "id": "exact-passing",
   "metadata": {},
   "source": [
    "We have imported the image as a masked array, but currently the mask isn't doing very much and simply says \"False\". Instead we would like the portions of the image where we don't have data to be masked out so they are not included in any calculations we do on the raster.\n",
    "\n",
    "We can do this by setting telling the mask that in Sentinel 2 imagery, '0' is the default \"nodata\" value, and so we want to mask wherever there is a '0'.\n",
    "\n",
    "The raster is instead 'filled' with a 'fill_value' set to a large negative number, '-9999' and the corresponding metadata 'nodata' value is updated. This will tell rasterio there is no data at these locations when the raster is written to file.\n",
    "\n",
    "In order to do this we first need to update the datatype to enable the raster to store negative numbers. We will also update the metadata to match as we go along."
   ]
  },
  {
   "cell_type": "code",
   "execution_count": 48,
   "id": "worst-sector",
   "metadata": {},
   "outputs": [
    {
     "name": "stdout",
     "output_type": "stream",
     "text": [
      "New datatype for raster is: int16\n",
      "Metadata dtype has been updated to: int16\n",
      "Metadata nodata value has been updated to: -9999\n"
     ]
    },
    {
     "data": {
      "text/plain": [
       "masked_array(\n",
       "  data=[[--, --, --, ..., --, --, --],\n",
       "        [--, --, --, ..., --, --, --],\n",
       "        [--, --, --, ..., --, --, --],\n",
       "        ...,\n",
       "        [1746, 1756, 1730, ..., 1287, 1256, 1254],\n",
       "        [1810, 1732, 1700, ..., 1368, 1300, 1239],\n",
       "        [1730, 1766, 1742, ..., 1375, 1316, 1290]],\n",
       "  mask=[[ True,  True,  True, ...,  True,  True,  True],\n",
       "        [ True,  True,  True, ...,  True,  True,  True],\n",
       "        [ True,  True,  True, ...,  True,  True,  True],\n",
       "        ...,\n",
       "        [False, False, False, ..., False, False, False],\n",
       "        [False, False, False, ..., False, False, False],\n",
       "        [False, False, False, ..., False, False, False]],\n",
       "  fill_value=-9999,\n",
       "  dtype=int16)"
      ]
     },
     "execution_count": 48,
     "metadata": {},
     "output_type": "execute_result"
    }
   ],
   "source": [
    "def update_sen2_mask(raster, metadata):\n",
    "    \n",
    "    # update datatype for image and metadata\n",
    "    raster = raster.astype(np.int16)\n",
    "    metadata.update({\n",
    "            \"dtype\": 'int16'\n",
    "        })\n",
    "\n",
    "    print('New datatype for raster is:', raster.dtype)\n",
    "    print('Metadata dtype has been updated to:', metadata['dtype'])\n",
    "\n",
    "    # update mask, fill value and metadata\n",
    "    raster = np.ma.MaskedArray(raster, mask=(raster==0), fill_value=-9999)\n",
    "    metadata['nodata'] = -9999\n",
    "\n",
    "    print('Metadata nodata value has been updated to:', metadata['nodata'])\n",
    "    \n",
    "    return raster, metadata\n",
    "\n",
    "\n",
    "tci_img, tci_metadata = update_sen2_mask(tci_img, tci_metadata)\n",
    "\n",
    "tci_img"
   ]
  },
  {
   "cell_type": "markdown",
   "id": "experienced-reservoir",
   "metadata": {},
   "source": [
    "## Inspect and Plot data"
   ]
  },
  {
   "cell_type": "code",
   "execution_count": null,
   "id": "impaired-badge",
   "metadata": {},
   "outputs": [],
   "source": [
    "# print basic statistics about array using numpy methods.\n",
    "print(f'\\nMin:\\t{img.min()}\\nMax:\\t{img.max()}\\nMean:\\t{img.mean():.2f}\\nStdDev:\\t{img.std():.2f}\\n')"
   ]
  },
  {
   "cell_type": "markdown",
   "id": "brief-aerospace",
   "metadata": {},
   "source": [
    "Let's plot the True color image we just loaded to have a look at it. Note that it may take a minute to load."
   ]
  },
  {
   "cell_type": "code",
   "execution_count": 14,
   "id": "heavy-opera",
   "metadata": {},
   "outputs": [
    {
     "data": {
      "text/plain": [
       "<AxesSubplot:>"
      ]
     },
     "execution_count": 14,
     "metadata": {},
     "output_type": "execute_result"
    },
    {
     "data": {
      "image/png": "[encoded data removed]",
      "text/plain": [
       "<Figure size 720x720 with 1 Axes>"
      ]
     },
     "metadata": {
      "needs_background": "light"
     },
     "output_type": "display_data"
    }
   ],
   "source": [
    "from rasterio.plot import show, show_hist\n",
    "\n",
    "fig, ax = plt.subplots(figsize=(10, 10))\n",
    "\n",
    "show(tci_img, transform=tci_metadata['transform'], ax=ax)"
   ]
  },
  {
   "cell_type": "markdown",
   "id": "prime-bermuda",
   "metadata": {},
   "source": [
    "Notice in your plot the large portion of the image that is \"off the edge of the map\" and has a value of 0. This is because the Sentinel 2 metadata doesn't specify a 'nodata value' - note it is 'None' in the output above. We don't want these areas involved in any calculations, therefore we can mask them using the code below."
   ]
  },
  {
   "cell_type": "code",
   "execution_count": 32,
   "id": "novel-support",
   "metadata": {},
   "outputs": [
    {
     "name": "stdout",
     "output_type": "stream",
     "text": [
      "[[-- -- -- ... -- -- --]\n",
      " [-- -- -- ... -- -- --]\n",
      " [-- -- -- ... -- -- --]\n",
      " ...\n",
      " [255 255 255 ... 10 7 7]\n",
      " [255 255 255 ... 7 7 6]\n",
      " [255 255 255 ... 6 5 5]]\n",
      "-999\n"
     ]
    }
   ],
   "source": [
    "tci_img = np.ma.masked_array(tci_img, mask=(tci_img==0), fill_value=-999)\n",
    "\n",
    "tci_metadata['nodata'] = -999\n",
    "\n",
    "print(tci_img)\n",
    "print(tci_metadata['nodata'])"
   ]
  },
  {
   "cell_type": "code",
   "execution_count": 12,
   "id": "substantial-berlin",
   "metadata": {},
   "outputs": [
    {
     "ename": "NameError",
     "evalue": "name 'test_img' is not defined",
     "output_type": "error",
     "traceback": [
      "\u001b[0;31m---------------------------------------------------------------------------\u001b[0m",
      "\u001b[0;31mNameError\u001b[0m                                 Traceback (most recent call last)",
      "\u001b[0;32m<ipython-input-12-9c0f11b6b8f3>\u001b[0m in \u001b[0;36m<module>\u001b[0;34m\u001b[0m\n\u001b[0;32m----> 1\u001b[0;31m \u001b[0mtype\u001b[0m\u001b[0;34m(\u001b[0m\u001b[0mtest_img\u001b[0m\u001b[0;34m)\u001b[0m \u001b[0;31m## object returned (MaskedArray = Special type of numpy array  => nunpy methods apply easily!)\u001b[0m\u001b[0;34m\u001b[0m\u001b[0;34m\u001b[0m\u001b[0m\n\u001b[0m",
      "\u001b[0;31mNameError\u001b[0m: name 'test_img' is not defined"
     ]
    }
   ],
   "source": [
    "type(test_img) ## object returned (MaskedArray = Special type of numpy array  => nunpy methods apply easily!)"
   ]
  },
  {
   "cell_type": "code",
   "execution_count": null,
   "id": "possible-colleague",
   "metadata": {},
   "outputs": [],
   "source": []
  },
  {
   "cell_type": "code",
   "execution_count": 45,
   "id": "tired-consciousness",
   "metadata": {},
   "outputs": [
    {
     "data": {
      "text/plain": [
       "(10980, 10980)"
      ]
     },
     "execution_count": 45,
     "metadata": {},
     "output_type": "execute_result"
    }
   ],
   "source": []
  },
  {
   "cell_type": "code",
   "execution_count": 46,
   "id": "ancient-grade",
   "metadata": {},
   "outputs": [
    {
     "data": {
      "text/plain": [
       "(array([1.16056198e+08, 2.08526600e+06, 9.64447000e+05, 7.46442000e+05,\n",
       "        4.77922000e+05, 1.75473000e+05, 3.89360000e+04, 8.64900000e+03,\n",
       "        9.06000000e+02, 6.16100000e+03]),\n",
       " array([    0. ,  1870.4,  3740.8,  5611.2,  7481.6,  9352. , 11222.4,\n",
       "        13092.8, 14963.2, 16833.6, 18704. ]),\n",
       " <BarContainer object of 10 artists>)"
      ]
     },
     "execution_count": 46,
     "metadata": {},
     "output_type": "execute_result"
    },
    {
     "data": {
      "image/png": "[encoded data removed]",
      "text/plain": [
       "<Figure size 640x480 with 1 Axes>"
      ]
     },
     "metadata": {},
     "output_type": "display_data"
    }
   ],
   "source": [
    "# Understanding distn of pixel values\n",
    "plt.hist(test_img.flatten())   "
   ]
  },
  {
   "cell_type": "markdown",
   "id": "innovative-pharmacy",
   "metadata": {},
   "source": [
    "**Notice above:** For RGB, integer pixel values take values [0,255], yet above its far higher. Why?\n",
    "\n",
    "* **Traditional RGB pixels have 8-Bit Depth:** Each channel has 256 shades, so for RGB there are 256x256x256 colours. Often encoded as datatype uint8.\n",
    "* **Satellites tend to have a larger Bit Depth (12 or 16):** These will be encoded as uint16, and can be seen in the metadata printouts above\n",
    "\n",
    "**Why do we care?**\n",
    "It is better to convert ...\n"
   ]
  },
  {
   "cell_type": "code",
   "execution_count": 40,
   "id": "noble-hampshire",
   "metadata": {},
   "outputs": [],
   "source": [
    "## Normalisation & Stretching Example\n",
    "\n",
    "\n",
    "\n",
    "\n",
    "\n",
    "\n",
    "\n"
   ]
  },
  {
   "cell_type": "code",
   "execution_count": 47,
   "id": "opposed-sherman",
   "metadata": {},
   "outputs": [
    {
     "name": "stdout",
     "output_type": "stream",
     "text": [
      "R10m: dict_keys(['AOT', 'B02', 'B03', 'B04', 'B08', 'TCI', 'WVP'])\n",
      "R20m: dict_keys(['AOT', 'B01', 'B02', 'B03', 'B04', 'B05', 'B06', 'B07', 'B11', 'B12', 'B8A', 'SCL', 'TCI', 'WVP'])\n",
      "R60m: dict_keys(['AOT', 'B01', 'B02', 'B03', 'B04', 'B05', 'B06', 'B07', 'B09', 'B11', 'B12', 'B8A', 'SCL', 'TCI', 'WVP'])\n"
     ]
    }
   ],
   "source": [
    "## See which bands available at which resolution\n",
    "\n",
    "print('R10m:',img_day_dict['R10m'].keys())\n",
    "print('R20m:',img_day_dict['R20m'].keys())\n",
    "print('R60m:',img_day_dict['R60m'].keys())"
   ]
  },
  {
   "cell_type": "code",
   "execution_count": 52,
   "id": "bored-nepal",
   "metadata": {},
   "outputs": [
    {
     "name": "stdout",
     "output_type": "stream",
     "text": [
      "Extracting single band from file\n",
      "Extracting band meta\n",
      "--> # bands: 1\n",
      "--> datatype: uint16\n",
      "--> nodata: None\n",
      "--> height: 10980\n",
      "--> width: 10980\n",
      "--------------------\n",
      "Extracting single band from file\n",
      "Extracting band meta\n",
      "--> # bands: 1\n",
      "--> datatype: uint16\n",
      "--> nodata: None\n",
      "--> height: 10980\n",
      "--> width: 10980\n",
      "--------------------\n",
      "Extracting single band from file\n",
      "Extracting band meta\n",
      "--> # bands: 1\n",
      "--> datatype: uint16\n",
      "--> nodata: None\n",
      "--> height: 10980\n",
      "--> width: 10980\n",
      "--------------------\n",
      "Extracting single band from file\n",
      "Extracting band meta\n",
      "--> # bands: 1\n",
      "--> datatype: uint16\n",
      "--> nodata: None\n",
      "--> height: 1830\n",
      "--> width: 1830\n",
      "--------------------\n"
     ]
    }
   ],
   "source": [
    "## Extract individual bands\n",
    "\n",
    "## 10m picture : B,G,R\n",
    "# filepaths(fp)\n",
    "b10_fp = img_day_dict['R10m']['B02']\n",
    "g10_fp = img_day_dict['R10m']['B03']\n",
    "r10_fp = img_day_dict['R10m']['B04']\n",
    "\n",
    "# get imgs\n",
    "b10 = get_band(b10_fp)\n",
    "g10 = get_band(g10_fp)\n",
    "r10 = get_band(r10_fp)\n",
    "\n",
    "\n",
    "## 60m picture : B\n",
    "# filepaths (fp)\n",
    "b60_fp = img_day_dict['R60m']['B02']\n",
    "\n",
    "# get imgs\n",
    "b60 = get_band(b60_fp)\n"
   ]
  },
  {
   "cell_type": "code",
   "execution_count": null,
   "id": "identified-vietnam",
   "metadata": {},
   "outputs": [],
   "source": []
  },
  {
   "cell_type": "code",
   "execution_count": 54,
   "id": "continental-villa",
   "metadata": {},
   "outputs": [
    {
     "name": "stdout",
     "output_type": "stream",
     "text": [
      "Blue @ 60m res: (1830, 1830)\n",
      "Blue @ 10m res: (10980, 10980)\n"
     ]
    }
   ],
   "source": [
    "## Comparing resoltuions & upscaling \n",
    "\n",
    "# b60 vs. b10\n",
    "print('Blue @ 60m res:',b60.shape)\n",
    "print('Blue @ 10m res:',b10.shape)\n",
    "\n",
    "# Can see these are covering the same geographic area, but with less granular pixel representation in lower res\n",
    "# 1 pixel = 60m vs. 1 pixel = 10m\n",
    "\n",
    "# To create a merged dataset which pulls information from the lower resoltuion bands, they need the same resolution\n",
    "# (array dimensions/shape)\n",
    "# TODO: Add link here\n"
   ]
  },
  {
   "cell_type": "code",
   "execution_count": 57,
   "id": "equipped-shirt",
   "metadata": {},
   "outputs": [
    {
     "name": "stdout",
     "output_type": "stream",
     "text": [
      "Number of bands in file: 3\n",
      "(3, 10980, 10980)\n"
     ]
    }
   ],
   "source": [
    "## Some .jp2 files may contain composite images such as TCI (RGB  - 8bit Depth)\n",
    "\n",
    "with rio.open(img_day_dict['R10m']['TCI']) as f:\n",
    "\n",
    "    print('Number of bands in file:',f.profile['count']) \n",
    "    multi_band_img = f.read([1,2,3], masked=True) # mark the order you want incoming bands to sit in\n",
    "    \n",
    "print(multi_band_img.shape)"
   ]
  },
  {
   "cell_type": "code",
   "execution_count": null,
   "id": "hawaiian-connectivity",
   "metadata": {},
   "outputs": [],
   "source": []
  },
  {
   "cell_type": "markdown",
   "id": "restricted-logic",
   "metadata": {},
   "source": [
    "## Visualisation"
   ]
  },
  {
   "cell_type": "code",
   "execution_count": null,
   "id": "grateful-antique",
   "metadata": {},
   "outputs": [],
   "source": [
    "## Creating an 3-band image (here RGB)\n",
    "\n",
    "rgb10 = np.dstack([r10, g10, b10])\n",
    "\n",
    "# normalisation?\n",
    "\n",
    "# something about having to switch the order of array dimensions\n",
    "\n",
    "plt.imshow(rgb10)"
   ]
  },
  {
   "cell_type": "code",
   "execution_count": 58,
   "id": "consistent-answer",
   "metadata": {},
   "outputs": [],
   "source": [
    "## Masking "
   ]
  },
  {
   "cell_type": "code",
   "execution_count": null,
   "id": "necessary-saint",
   "metadata": {},
   "outputs": [],
   "source": []
  }
 ],
 "metadata": {
  "kernelspec": {
   "display_name": "Python 3",
   "language": "python",
   "name": "python3"
  },
  "language_info": {
   "codemirror_mode": {
    "name": "ipython",
    "version": 3
   },
   "file_extension": ".py",
   "mimetype": "text/x-python",
   "name": "python",
   "nbconvert_exporter": "python",
   "pygments_lexer": "ipython3",
   "version": "3.7.7"
  }
 },
 "nbformat": 4,
 "nbformat_minor": 5
}
